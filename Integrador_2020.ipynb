{
 "cells": [
  {
   "cell_type": "code",
   "execution_count": 72,
   "metadata": {},
   "outputs": [],
   "source": [
    "import pandas as pd\n",
    "import numpy as np\n",
    "import matplotlib\n",
    "import matplotlib.pyplot as plt\n",
    "\n",
    "from sklearn.cluster import KMeans\n",
    "from sklearn.manifold import TSNE\n",
    "from sklearn.preprocessing import StandardScaler \n",
    "\n",
    "from matplotlib import pyplot as plot\n",
    "\n",
    "#biblioteca para fazer fazer a regressão\n",
    "from sklearn.tree import DecisionTreeRegressor\n",
    "\n",
    "#biblioteca para calcular uma métrica de avaliação\n",
    "from sklearn.metrics import mean_squared_error"
   ]
  },
  {
   "cell_type": "code",
   "execution_count": 26,
   "metadata": {},
   "outputs": [],
   "source": [
    "df = pd.read_excel('https://github.com/andrevandor/ProjetoIntegrador/raw/master/data/HDI_1990_2018.xlsx')"
   ]
  },
  {
   "cell_type": "markdown",
   "metadata": {},
   "source": [
    "## Treatment of Null Values"
   ]
  },
  {
   "cell_type": "code",
   "execution_count": 27,
   "metadata": {
    "scrolled": true
   },
   "outputs": [
    {
     "data": {
      "text/html": [
       "<div>\n",
       "<style scoped>\n",
       "    .dataframe tbody tr th:only-of-type {\n",
       "        vertical-align: middle;\n",
       "    }\n",
       "\n",
       "    .dataframe tbody tr th {\n",
       "        vertical-align: top;\n",
       "    }\n",
       "\n",
       "    .dataframe thead th {\n",
       "        text-align: right;\n",
       "    }\n",
       "</style>\n",
       "<table border=\"1\" class=\"dataframe\">\n",
       "  <thead>\n",
       "    <tr style=\"text-align: right;\">\n",
       "      <th></th>\n",
       "      <th>Paises</th>\n",
       "      <th>Ano</th>\n",
       "      <th>Expectativa de vida no nascimento</th>\n",
       "      <th>Anos esperados de escolaridade</th>\n",
       "      <th>Média de anos de escolaridade</th>\n",
       "      <th>Renda nacional bruta (RNB) per capita (PPP US$)</th>\n",
       "      <th>IDH</th>\n",
       "      <th>CPI (Corruption Index)</th>\n",
       "    </tr>\n",
       "  </thead>\n",
       "  <tbody>\n",
       "    <tr>\n",
       "      <th>0</th>\n",
       "      <td>Norway</td>\n",
       "      <td>1990</td>\n",
       "      <td>76.729</td>\n",
       "      <td>14.0</td>\n",
       "      <td>10.47</td>\n",
       "      <td>17910.0</td>\n",
       "      <td>0.85</td>\n",
       "      <td>NaN</td>\n",
       "    </tr>\n",
       "    <tr>\n",
       "      <th>1</th>\n",
       "      <td>Switzerland</td>\n",
       "      <td>1990</td>\n",
       "      <td>77.568</td>\n",
       "      <td>13.4</td>\n",
       "      <td>10.19</td>\n",
       "      <td>28170.0</td>\n",
       "      <td>0.83</td>\n",
       "      <td>NaN</td>\n",
       "    </tr>\n",
       "    <tr>\n",
       "      <th>2</th>\n",
       "      <td>Ireland</td>\n",
       "      <td>1990</td>\n",
       "      <td>74.809</td>\n",
       "      <td>12.1</td>\n",
       "      <td>9.73</td>\n",
       "      <td>12750.0</td>\n",
       "      <td>0.76</td>\n",
       "      <td>NaN</td>\n",
       "    </tr>\n",
       "    <tr>\n",
       "      <th>3</th>\n",
       "      <td>Germany</td>\n",
       "      <td>1990</td>\n",
       "      <td>75.488</td>\n",
       "      <td>14.4</td>\n",
       "      <td>8.77</td>\n",
       "      <td>19640.0</td>\n",
       "      <td>0.80</td>\n",
       "      <td>NaN</td>\n",
       "    </tr>\n",
       "    <tr>\n",
       "      <th>4</th>\n",
       "      <td>China</td>\n",
       "      <td>1990</td>\n",
       "      <td>69.145</td>\n",
       "      <td>8.8</td>\n",
       "      <td>5.34</td>\n",
       "      <td>17760.0</td>\n",
       "      <td>0.50</td>\n",
       "      <td>NaN</td>\n",
       "    </tr>\n",
       "  </tbody>\n",
       "</table>\n",
       "</div>"
      ],
      "text/plain": [
       "        Paises   Ano  Expectativa de vida no nascimento  \\\n",
       "0       Norway  1990                             76.729   \n",
       "1  Switzerland  1990                             77.568   \n",
       "2      Ireland  1990                             74.809   \n",
       "3      Germany  1990                             75.488   \n",
       "4        China  1990                             69.145   \n",
       "\n",
       "   Anos esperados de escolaridade  Média de anos de escolaridade  \\\n",
       "0                            14.0                          10.47   \n",
       "1                            13.4                          10.19   \n",
       "2                            12.1                           9.73   \n",
       "3                            14.4                           8.77   \n",
       "4                             8.8                           5.34   \n",
       "\n",
       "   Renda nacional bruta (RNB) per capita (PPP US$)   IDH  \\\n",
       "0                                          17910.0  0.85   \n",
       "1                                          28170.0  0.83   \n",
       "2                                          12750.0  0.76   \n",
       "3                                          19640.0  0.80   \n",
       "4                                          17760.0  0.50   \n",
       "\n",
       "   CPI (Corruption Index)  \n",
       "0                     NaN  \n",
       "1                     NaN  \n",
       "2                     NaN  \n",
       "3                     NaN  \n",
       "4                     NaN  "
      ]
     },
     "execution_count": 27,
     "metadata": {},
     "output_type": "execute_result"
    }
   ],
   "source": [
    "df.head()"
   ]
  },
  {
   "cell_type": "code",
   "execution_count": 28,
   "metadata": {},
   "outputs": [],
   "source": [
    "def EDA (df):\n",
    "    eda_df = {}\n",
    "    eda_df['Qtde_NaN'] = df.isnull().sum()\n",
    "    eda_df['%_NaN'] = df.isnull().mean().round(2)\n",
    "    eda_df['DType'] = df.dtypes\n",
    "    eda_df['Qtde_Unicos'] = df.count()\n",
    "    \n",
    "    colunas = sorted(df.columns.tolist(), key=str.lower, reverse=False)\n",
    "    eda_df['Qtde_Unicos'] = filtered_result = list(map(lambda x: len(df[x].unique().tolist()), colunas))\n",
    "    \n",
    "    eda_df['Media'] = df.mean().round(3)\n",
    "    eda_df['Min'] = df.min()\n",
    "    eda_df['Max'] = df.max()\n",
    "    eda_df['STD'] = df.std().round(3)\n",
    "    \n",
    "    return pd.DataFrame(eda_df)"
   ]
  },
  {
   "cell_type": "code",
   "execution_count": 29,
   "metadata": {},
   "outputs": [
    {
     "data": {
      "text/html": [
       "<div>\n",
       "<style scoped>\n",
       "    .dataframe tbody tr th:only-of-type {\n",
       "        vertical-align: middle;\n",
       "    }\n",
       "\n",
       "    .dataframe tbody tr th {\n",
       "        vertical-align: top;\n",
       "    }\n",
       "\n",
       "    .dataframe thead th {\n",
       "        text-align: right;\n",
       "    }\n",
       "</style>\n",
       "<table border=\"1\" class=\"dataframe\">\n",
       "  <thead>\n",
       "    <tr style=\"text-align: right;\">\n",
       "      <th></th>\n",
       "      <th>Qtde_NaN</th>\n",
       "      <th>%_NaN</th>\n",
       "      <th>DType</th>\n",
       "      <th>Qtde_Unicos</th>\n",
       "      <th>Media</th>\n",
       "      <th>Min</th>\n",
       "      <th>Max</th>\n",
       "      <th>STD</th>\n",
       "    </tr>\n",
       "  </thead>\n",
       "  <tbody>\n",
       "    <tr>\n",
       "      <th>Expectativa de vida no nascimento</th>\n",
       "      <td>84</td>\n",
       "      <td>0.02</td>\n",
       "      <td>float64</td>\n",
       "      <td>370</td>\n",
       "      <td>68.275</td>\n",
       "      <td>26.172</td>\n",
       "      <td>84.47000</td>\n",
       "      <td>9.565</td>\n",
       "    </tr>\n",
       "    <tr>\n",
       "      <th>Anos esperados de escolaridade</th>\n",
       "      <td>279</td>\n",
       "      <td>0.05</td>\n",
       "      <td>float64</td>\n",
       "      <td>1</td>\n",
       "      <td>11.798</td>\n",
       "      <td>2.100</td>\n",
       "      <td>23.30000</td>\n",
       "      <td>3.361</td>\n",
       "    </tr>\n",
       "    <tr>\n",
       "      <th>Média de anos de escolaridade</th>\n",
       "      <td>551</td>\n",
       "      <td>0.10</td>\n",
       "      <td>float64</td>\n",
       "      <td>4909</td>\n",
       "      <td>7.483</td>\n",
       "      <td>0.290</td>\n",
       "      <td>14.13215</td>\n",
       "      <td>3.176</td>\n",
       "    </tr>\n",
       "    <tr>\n",
       "      <th>Renda nacional bruta (RNB) per capita (PPP US$)</th>\n",
       "      <td>446</td>\n",
       "      <td>0.08</td>\n",
       "      <td>float64</td>\n",
       "      <td>77</td>\n",
       "      <td>13357.760</td>\n",
       "      <td>270.000</td>\n",
       "      <td>131510.00000</td>\n",
       "      <td>16401.756</td>\n",
       "    </tr>\n",
       "    <tr>\n",
       "      <th>IDH</th>\n",
       "      <td>1001</td>\n",
       "      <td>0.18</td>\n",
       "      <td>float64</td>\n",
       "      <td>429</td>\n",
       "      <td>0.657</td>\n",
       "      <td>0.200</td>\n",
       "      <td>0.95000</td>\n",
       "      <td>0.166</td>\n",
       "    </tr>\n",
       "    <tr>\n",
       "      <th>CPI (Corruption Index)</th>\n",
       "      <td>5423</td>\n",
       "      <td>1.00</td>\n",
       "      <td>float64</td>\n",
       "      <td>2499</td>\n",
       "      <td>NaN</td>\n",
       "      <td>NaN</td>\n",
       "      <td>NaN</td>\n",
       "      <td>NaN</td>\n",
       "    </tr>\n",
       "  </tbody>\n",
       "</table>\n",
       "</div>"
      ],
      "text/plain": [
       "                                                 Qtde_NaN  %_NaN    DType  \\\n",
       "Expectativa de vida no nascimento                      84   0.02  float64   \n",
       "Anos esperados de escolaridade                        279   0.05  float64   \n",
       "Média de anos de escolaridade                         551   0.10  float64   \n",
       "Renda nacional bruta (RNB) per capita (PPP US$)       446   0.08  float64   \n",
       "IDH                                                  1001   0.18  float64   \n",
       "CPI (Corruption Index)                               5423   1.00  float64   \n",
       "\n",
       "                                                 Qtde_Unicos      Media  \\\n",
       "Expectativa de vida no nascimento                        370     68.275   \n",
       "Anos esperados de escolaridade                             1     11.798   \n",
       "Média de anos de escolaridade                           4909      7.483   \n",
       "Renda nacional bruta (RNB) per capita (PPP US$)           77  13357.760   \n",
       "IDH                                                      429      0.657   \n",
       "CPI (Corruption Index)                                  2499        NaN   \n",
       "\n",
       "                                                     Min           Max  \\\n",
       "Expectativa de vida no nascimento                 26.172      84.47000   \n",
       "Anos esperados de escolaridade                     2.100      23.30000   \n",
       "Média de anos de escolaridade                      0.290      14.13215   \n",
       "Renda nacional bruta (RNB) per capita (PPP US$)  270.000  131510.00000   \n",
       "IDH                                                0.200       0.95000   \n",
       "CPI (Corruption Index)                               NaN           NaN   \n",
       "\n",
       "                                                       STD  \n",
       "Expectativa de vida no nascimento                    9.565  \n",
       "Anos esperados de escolaridade                       3.361  \n",
       "Média de anos de escolaridade                        3.176  \n",
       "Renda nacional bruta (RNB) per capita (PPP US$)  16401.756  \n",
       "IDH                                                  0.166  \n",
       "CPI (Corruption Index)                                 NaN  "
      ]
     },
     "execution_count": 29,
     "metadata": {},
     "output_type": "execute_result"
    }
   ],
   "source": [
    "EDA(df.drop(['Ano','Paises'], axis = 1))"
   ]
  },
  {
   "cell_type": "code",
   "execution_count": 30,
   "metadata": {
    "scrolled": true
   },
   "outputs": [
    {
     "data": {
      "text/html": [
       "<div>\n",
       "<style scoped>\n",
       "    .dataframe tbody tr th:only-of-type {\n",
       "        vertical-align: middle;\n",
       "    }\n",
       "\n",
       "    .dataframe tbody tr th {\n",
       "        vertical-align: top;\n",
       "    }\n",
       "\n",
       "    .dataframe thead th {\n",
       "        text-align: right;\n",
       "    }\n",
       "</style>\n",
       "<table border=\"1\" class=\"dataframe\">\n",
       "  <thead>\n",
       "    <tr style=\"text-align: right;\">\n",
       "      <th></th>\n",
       "      <th>Qtde_NaN</th>\n",
       "      <th>%_NaN</th>\n",
       "      <th>DType</th>\n",
       "      <th>Qtde_Unicos</th>\n",
       "      <th>Media</th>\n",
       "      <th>Min</th>\n",
       "      <th>Max</th>\n",
       "      <th>STD</th>\n",
       "    </tr>\n",
       "  </thead>\n",
       "  <tbody>\n",
       "    <tr>\n",
       "      <th>Expectativa de vida no nascimento</th>\n",
       "      <td>0</td>\n",
       "      <td>0.0</td>\n",
       "      <td>float64</td>\n",
       "      <td>370</td>\n",
       "      <td>68.275</td>\n",
       "      <td>26.172</td>\n",
       "      <td>84.47000</td>\n",
       "      <td>9.491</td>\n",
       "    </tr>\n",
       "    <tr>\n",
       "      <th>Anos esperados de escolaridade</th>\n",
       "      <td>0</td>\n",
       "      <td>0.0</td>\n",
       "      <td>float64</td>\n",
       "      <td>4909</td>\n",
       "      <td>11.798</td>\n",
       "      <td>2.100</td>\n",
       "      <td>23.30000</td>\n",
       "      <td>3.273</td>\n",
       "    </tr>\n",
       "    <tr>\n",
       "      <th>Média de anos de escolaridade</th>\n",
       "      <td>0</td>\n",
       "      <td>0.0</td>\n",
       "      <td>float64</td>\n",
       "      <td>429</td>\n",
       "      <td>7.483</td>\n",
       "      <td>0.290</td>\n",
       "      <td>14.13215</td>\n",
       "      <td>3.011</td>\n",
       "    </tr>\n",
       "    <tr>\n",
       "      <th>Renda nacional bruta (RNB) per capita (PPP US$)</th>\n",
       "      <td>0</td>\n",
       "      <td>0.0</td>\n",
       "      <td>float64</td>\n",
       "      <td>2498</td>\n",
       "      <td>12364.457</td>\n",
       "      <td>270.000</td>\n",
       "      <td>131510.00000</td>\n",
       "      <td>16059.301</td>\n",
       "    </tr>\n",
       "  </tbody>\n",
       "</table>\n",
       "</div>"
      ],
      "text/plain": [
       "                                                 Qtde_NaN  %_NaN    DType  \\\n",
       "Expectativa de vida no nascimento                       0    0.0  float64   \n",
       "Anos esperados de escolaridade                          0    0.0  float64   \n",
       "Média de anos de escolaridade                           0    0.0  float64   \n",
       "Renda nacional bruta (RNB) per capita (PPP US$)         0    0.0  float64   \n",
       "\n",
       "                                                 Qtde_Unicos      Media  \\\n",
       "Expectativa de vida no nascimento                        370     68.275   \n",
       "Anos esperados de escolaridade                          4909     11.798   \n",
       "Média de anos de escolaridade                            429      7.483   \n",
       "Renda nacional bruta (RNB) per capita (PPP US$)         2498  12364.457   \n",
       "\n",
       "                                                     Min           Max  \\\n",
       "Expectativa de vida no nascimento                 26.172      84.47000   \n",
       "Anos esperados de escolaridade                     2.100      23.30000   \n",
       "Média de anos de escolaridade                      0.290      14.13215   \n",
       "Renda nacional bruta (RNB) per capita (PPP US$)  270.000  131510.00000   \n",
       "\n",
       "                                                       STD  \n",
       "Expectativa de vida no nascimento                    9.491  \n",
       "Anos esperados de escolaridade                       3.273  \n",
       "Média de anos de escolaridade                        3.011  \n",
       "Renda nacional bruta (RNB) per capita (PPP US$)  16059.301  "
      ]
     },
     "execution_count": 30,
     "metadata": {},
     "output_type": "execute_result"
    }
   ],
   "source": [
    "df_1 = df.copy()\n",
    "df_1.drop(['IDH','CPI (Corruption Index)'], axis = 1, inplace = True)\n",
    "\n",
    "df_1['Expectativa de vida no nascimento'].fillna(df_1['Expectativa de vida no nascimento'].mean(), inplace = True)\n",
    "df_1['Anos esperados de escolaridade'].fillna(df_1['Anos esperados de escolaridade'].mean(), inplace = True)\n",
    "df_1['Média de anos de escolaridade'].fillna(df_1['Média de anos de escolaridade'].mean(), inplace = True)\n",
    "df_1['Renda nacional bruta (RNB) per capita (PPP US$)'].\\\n",
    "    fillna(df_1['Renda nacional bruta (RNB) per capita (PPP US$)'].mode()[0], inplace = True)\n",
    "\n",
    "EDA(df_1.drop(['Ano','Paises'], axis = 1))"
   ]
  },
  {
   "cell_type": "markdown",
   "metadata": {},
   "source": [
    "## Feature Engineering"
   ]
  },
  {
   "cell_type": "code",
   "execution_count": 31,
   "metadata": {},
   "outputs": [],
   "source": [
    "paises = df_1.Paises.unique()"
   ]
  },
  {
   "cell_type": "code",
   "execution_count": 32,
   "metadata": {},
   "outputs": [],
   "source": [
    "index_paises = []\n",
    "for i in range(len(paises)):\n",
    "    index_paises.append (df_1[df_1.Paises == paises[i]].index)"
   ]
  },
  {
   "cell_type": "code",
   "execution_count": 33,
   "metadata": {},
   "outputs": [],
   "source": [
    "df_2 = pd.DataFrame()\n",
    "for i in range(len(index_paises)):\n",
    "    df_2 = pd.concat([df_2, df_1.iloc[index_paises[i]]], axis = 0)"
   ]
  },
  {
   "cell_type": "code",
   "execution_count": 34,
   "metadata": {},
   "outputs": [],
   "source": [
    "df_2.reset_index(inplace=True)\n",
    "df_2.drop('index', axis=1, inplace=True)"
   ]
  },
  {
   "cell_type": "code",
   "execution_count": 35,
   "metadata": {},
   "outputs": [],
   "source": [
    "index_paises = []\n",
    "\n",
    "for i in range(len(paises)):\n",
    "    index_paises.append (df_2[df_2.Paises == paises[i]].index)"
   ]
  },
  {
   "cell_type": "code",
   "execution_count": 51,
   "metadata": {},
   "outputs": [],
   "source": [
    "def feature_engineering (df, horizonte, paises, index_paises, drop):\n",
    "    \n",
    "    data = df.copy()\n",
    "    \n",
    "    horizonte += 1\n",
    "\n",
    "    for i in range(len(paises)):\n",
    "        #\n",
    "        data.loc[index_paises[i],'Diff_1'] = data.iloc[index_paises[i]]['Expectativa de vida no nascimento']\\\n",
    "                                            .diff(horizonte - 1)\n",
    "        data.loc[index_paises[i],'Diff_2'] = data.iloc[index_paises[i]]['Anos esperados de escolaridade']\\\n",
    "                                            .diff(horizonte - 1)\n",
    "        data.loc[index_paises[i],'Diff_3'] = data.iloc[index_paises[i]]['Média de anos de escolaridade']\\\n",
    "                                            .diff(horizonte - 1)\n",
    "        data.loc[index_paises[i],'Diff_4'] = data.iloc[index_paises[i]]['Renda nacional bruta (RNB) per capita (PPP US$)']\\\n",
    "                                            .diff(horizonte - 1)\n",
    "        #\n",
    "        data.loc[index_paises[i], 'Med_1'] = data.iloc[index_paises[i]]['Expectativa de vida no nascimento']\\\n",
    "                                            .rolling(horizonte).mean().round(2)\n",
    "        data.loc[index_paises[i], 'Med_2'] = data.iloc[index_paises[i]]['Anos esperados de escolaridade']\\\n",
    "                                            .rolling(horizonte).mean().round(2)\n",
    "        data.loc[index_paises[i], 'Med_3'] = data.iloc[index_paises[i]]['Média de anos de escolaridade']\\\n",
    "                                            .rolling(horizonte).mean().round(2)\n",
    "        data.loc[index_paises[i], 'Med_4'] = data.iloc[index_paises[i]]['Renda nacional bruta (RNB) per capita (PPP US$)']\\\n",
    "                                            .rolling(horizonte).mean().round(2)\n",
    "        #\n",
    "        data.loc[index_paises[i], 'Var_%_1'] = data.iloc[index_paises[i]]['Expectativa de vida no nascimento']\\\n",
    "                                            .pct_change(horizonte - 1).round(horizonte)\n",
    "        data.loc[index_paises[i], 'Var_%_2'] = data.iloc[index_paises[i]]['Anos esperados de escolaridade']\\\n",
    "                                            .pct_change(horizonte - 1).round(horizonte)\n",
    "        data.loc[index_paises[i], 'Var_%_3'] = data.iloc[index_paises[i]]['Média de anos de escolaridade']\\\n",
    "                                            .pct_change(horizonte - 1).round(horizonte)\n",
    "        data.loc[index_paises[i], 'Var_%_4'] = data.iloc[index_paises[i]]['Renda nacional bruta (RNB) per capita (PPP US$)']\\\n",
    "                                            .pct_change(horizonte - 1).round(horizonte)\n",
    "    \n",
    "    if drop == True:\n",
    "        data.dropna(how='any', axis=0, inplace=True)\n",
    "    \n",
    "    return data"
   ]
  },
  {
   "cell_type": "markdown",
   "metadata": {},
   "source": [
    "### K-means and t-SNE"
   ]
  },
  {
   "cell_type": "code",
   "execution_count": 54,
   "metadata": {},
   "outputs": [],
   "source": [
    "df_grouped = feature_engineering (df_2, horizonte, paises, index_paises, False)"
   ]
  },
  {
   "cell_type": "code",
   "execution_count": 55,
   "metadata": {},
   "outputs": [],
   "source": [
    "lista_colunas = []\n",
    "for x in df_grouped.columns:\n",
    "    if df_grouped[x].dtype == float:\n",
    "        lista_colunas.append(x)"
   ]
  },
  {
   "cell_type": "code",
   "execution_count": 56,
   "metadata": {},
   "outputs": [],
   "source": [
    "df_grouped = pd.DataFrame(df_grouped.groupby(['Paises'])[lista_colunas].mean())"
   ]
  },
  {
   "cell_type": "code",
   "execution_count": 64,
   "metadata": {},
   "outputs": [],
   "source": [
    "scaler = StandardScaler()  \n",
    "df_grouped_norm = scaler.fit_transform(df_grouped)"
   ]
  },
  {
   "cell_type": "code",
   "execution_count": 69,
   "metadata": {},
   "outputs": [
    {
     "name": "stdout",
     "output_type": "stream",
     "text": [
      "1 2991.9999999999995\n",
      "2 1921.1686608833204\n",
      "3 1539.1349759232828\n",
      "4 1310.921393163132\n",
      "5 1123.4117047024881\n",
      "6 1016.1432078704771\n",
      "7 1006.3095559671939\n",
      "8 855.1631699614255\n",
      "9 810.9441669349525\n",
      "10 756.3940115666696\n",
      "11 724.0293334346719\n",
      "12 701.1527373427249\n",
      "13 674.283709289955\n",
      "14 663.5175287678251\n",
      "15 628.8170896426369\n",
      "16 610.4911506325634\n",
      "17 584.1524437791683\n",
      "18 598.1661645407781\n",
      "19 567.2500238713623\n",
      "20 505.18839240846046\n"
     ]
    },
    {
     "data": {
      "image/png": "[encoded data removed]",
      "text/plain": [
       "<Figure size 432x288 with 1 Axes>"
      ]
     },
     "metadata": {
      "needs_background": "light"
     },
     "output_type": "display_data"
    }
   ],
   "source": [
    "X = np.array(df_grouped_norm)\n",
    "wcss = []\n",
    " \n",
    "for i in range(1, 21):\n",
    "    kmeans = KMeans(n_clusters = i, init = 'random')\n",
    "    kmeans.fit(X)\n",
    "    print(i,kmeans.inertia_)\n",
    "    wcss.append(kmeans.inertia_)  \n",
    "    \n",
    "plt.plot(range(1, 21), wcss)\n",
    "plt.title('O Metodo Elbow')\n",
    "plt.xlabel('Numero de Clusters')\n",
    "plt.ylabel('WSS') #within cluster sum of squares\n",
    "plt.show()"
   ]
  },
  {
   "cell_type": "code",
   "execution_count": 70,
   "metadata": {},
   "outputs": [],
   "source": [
    "n_clusters = 3\n",
    "#Inicializando o KMeans\n",
    "kmeans = KMeans(n_clusters)\n",
    "#Fit nos dados\n",
    "kmeans = kmeans.fit(X)\n",
    "#predizendo os clusters\n",
    "labels = kmeans.predict(X)\n",
    "#Encontrando os centroides\n",
    "C = kmeans.cluster_centers_"
   ]
  },
  {
   "cell_type": "code",
   "execution_count": 74,
   "metadata": {},
   "outputs": [
    {
     "data": {
      "text/plain": [
       "array([[-1.22830434, -1.24742358, -1.22024478, -0.72564116,  0.94721393,\n",
       "         0.35244761, -0.75934672, -0.66114092, -1.22586681, -1.24626668,\n",
       "        -1.22061043, -0.72268596,  1.13535544,  0.8792668 ,  0.241438  ,\n",
       "        -0.21379961],\n",
       "       [ 0.22464017,  0.20030164,  0.2272919 , -0.26174737, -0.39213769,\n",
       "        -0.32709496,  0.24514297, -0.19347394,  0.22380854,  0.19875075,\n",
       "         0.22758887, -0.26143039, -0.35986762, -0.42012934, -0.06478098,\n",
       "        -0.10088732],\n",
       "       [ 1.05793415,  1.13537379,  1.0419552 ,  1.48904141, -0.3363255 ,\n",
       "         0.27173841,  0.42124341,  1.25809694,  1.05667989,  1.13731107,\n",
       "         1.04176612,  1.4846179 , -0.64442899, -0.18926764, -0.16277057,\n",
       "         0.49078601]])"
      ]
     },
     "execution_count": 74,
     "metadata": {},
     "output_type": "execute_result"
    }
   ],
   "source": [
    "kmeans.cluster_centers_"
   ]
  },
  {
   "cell_type": "code",
   "execution_count": 76,
   "metadata": {},
   "outputs": [
    {
     "data": {
      "text/plain": [
       "array([0, 1, 1, 1, 0, 1, 1, 1, 2, 2, 1, 1, 2, 0, 1, 1, 2, 1, 0, 0, 1, 1,\n",
       "       1, 1, 2, 1, 0, 0, 1, 0, 0, 2, 0, 0, 1, 1, 1, 0, 0, 1, 0, 1, 1, 2,\n",
       "       2, 2, 0, 1, 1, 1, 1, 1, 0, 0, 2, 1, 0, 1, 2, 2, 1, 0, 1, 2, 0, 2,\n",
       "       1, 0, 0, 0, 1, 0, 1, 2, 2, 0, 1, 1, 1, 2, 2, 2, 1, 2, 1, 1, 0, 1,\n",
       "       1, 2, 1, 0, 1, 1, 1, 0, 1, 2, 2, 2, 1, 0, 0, 1, 1, 0, 2, 1, 0, 1,\n",
       "       1, 1, 1, 1, 1, 0, 0, 0, 1, 0, 2, 2, 1, 0, 0, 2, 2, 0, 1, 1, 1, 0,\n",
       "       1, 1, 1, 2, 2, 2, 1, 1, 0, 1, 1, 1, 1, 0, 2, 0, 1, 1, 0, 2, 2, 2,\n",
       "       0, 1, 0, 2, 1, 0, 1, 2, 2, 1, 1, 0, 1, 0, 0, 1, 1, 1, 1, 1, 0, 1,\n",
       "       2, 2, 2, 1, 1, 1, 1, 1, 0, 0, 1])"
      ]
     },
     "execution_count": 76,
     "metadata": {},
     "output_type": "execute_result"
    }
   ],
   "source": [
    "kmeans.labels_"
   ]
  },
  {
   "cell_type": "code",
   "execution_count": 73,
   "metadata": {},
   "outputs": [
    {
     "data": {
      "text/plain": [
       "(187, 2)"
      ]
     },
     "execution_count": 73,
     "metadata": {},
     "output_type": "execute_result"
    }
   ],
   "source": [
    "X_reduzido = TSNE(n_components=2).fit_transform(X)\n",
    "X_reduzido.shape"
   ]
  },
  {
   "cell_type": "code",
   "execution_count": 77,
   "metadata": {},
   "outputs": [],
   "source": [
    "n_clusters = 3\n",
    "#Inicializando o KMeans\n",
    "kmeans = KMeans(n_clusters)\n",
    "#Fit nos dados\n",
    "kmeans = kmeans.fit(X_reduzido)\n",
    "#predizendo os clusters\n",
    "labels = kmeans.predict(X_reduzido)\n",
    "#Encontrando os centroides\n",
    "C = kmeans.cluster_centers_"
   ]
  },
  {
   "cell_type": "code",
   "execution_count": 78,
   "metadata": {},
   "outputs": [
    {
     "data": {
      "text/plain": [
       "array([[ 1.1185141 , -0.59166896],\n",
       "       [ 9.36683   ,  8.125121  ],\n",
       "       [-8.23125   , -3.8134317 ]], dtype=float32)"
      ]
     },
     "execution_count": 78,
     "metadata": {},
     "output_type": "execute_result"
    }
   ],
   "source": [
    "kmeans.cluster_centers_"
   ]
  },
  {
   "cell_type": "code",
   "execution_count": 79,
   "metadata": {},
   "outputs": [
    {
     "data": {
      "image/png": "[encoded data removed]",
      "text/plain": [
       "<Figure size 1080x1080 with 1 Axes>"
      ]
     },
     "metadata": {
      "needs_background": "light"
     },
     "output_type": "display_data"
    }
   ],
   "source": [
    "plt.figure(figsize=(15,15))\n",
    "\n",
    "plt.scatter(X_reduzido[:, 0], X_reduzido[:, 1], s=plt.rcParams['lines.markersize']**2, c = kmeans.labels_)\n",
    "plt.scatter(kmeans.cluster_centers_[:, 0], kmeans.cluster_centers_[:, 1],  c = 'red',label = 'Centroids')\n",
    "plt.title('Cluster')\n",
    "plt.legend()\n",
    "\n",
    "plt.show()"
   ]
  },
  {
   "cell_type": "code",
   "execution_count": 81,
   "metadata": {},
   "outputs": [
    {
     "data": {
      "text/plain": [
       "<matplotlib.axes._subplots.AxesSubplot at 0x249c8fe4448>"
      ]
     },
     "execution_count": 81,
     "metadata": {},
     "output_type": "execute_result"
    },
    {
     "data": {
      "image/png": "[encoded data removed]",
      "text/plain": [
       "<Figure size 432x288 with 1 Axes>"
      ]
     },
     "metadata": {
      "needs_background": "light"
     },
     "output_type": "display_data"
    }
   ],
   "source": [
    "cluster_list = kmeans.labels_\n",
    "df_grouped[\"Classificação IDH\"] = cluster_list\n",
    "df_grouped.groupby(\"Classificação IDH\").aggregate(\"mean\").plot.bar()"
   ]
  },
  {
   "cell_type": "markdown",
   "metadata": {},
   "source": [
    "## Regression Tree"
   ]
  },
  {
   "cell_type": "code",
   "execution_count": 37,
   "metadata": {},
   "outputs": [],
   "source": [
    "def split_prev(df, ano_ref, ano_prev, pais):\n",
    "    \n",
    "    data = df.copy()\n",
    "    \n",
    "    treino =  data.loc[(data.Ano <= ano_ref) & (data.Paises == pais)].copy()\n",
    "    teste = data.loc[(data.Ano > ano_ref) & (data.Ano <= ano_prev) & (data.Paises == pais)].copy()\n",
    "    \n",
    "    #não iremos utilizar essa coluna para treinar nosso modelo\n",
    "    treino.drop(['Ano', 'Paises'], axis=1, inplace=True)\n",
    "    teste.drop(['Ano', 'Paises'], axis=1, inplace=True)\n",
    "\n",
    "    #vamos dividir as variáveis alvo e de entrada\n",
    "    y_treino = treino['Expectativa de vida no nascimento'].values\n",
    "    del treino['Expectativa de vida no nascimento']\n",
    "    \n",
    "    x_treino = treino.values\n",
    "\n",
    "    y_teste = teste['Expectativa de vida no nascimento'].values\n",
    "    del teste['Expectativa de vida no nascimento']\n",
    "\n",
    "    x_teste = teste.values;\n",
    "    \n",
    "    #treino do modelo para fazer a previsão\n",
    "    regr_1 = DecisionTreeRegressor(max_depth=5, min_samples_split = 2, random_state = 2019)\n",
    "    regr_1.fit(x_treino, y_treino)\n",
    "    \n",
    "    y_pred_teste = regr_1.predict(x_teste)\n",
    "    y_pred_treino = regr_1.predict(x_treino)\n",
    "    \n",
    "    # Avaliar o fitting\n",
    "    rmse_teste = np.round(mean_squared_error(y_teste, y_pred_teste) **0.5, 2)\n",
    "    rmse_treino = np.round(mean_squared_error(y_treino, y_pred_treino)**0.5, 2)\n",
    "    \n",
    "    return ano_ref, ano_prev, pais, rmse_teste, rmse_treino"
   ]
  },
  {
   "cell_type": "code",
   "execution_count": 38,
   "metadata": {},
   "outputs": [],
   "source": [
    "def walk_forward (data, janela, horizonte, passo, limite):\n",
    "    result = []\n",
    "    pais_ref = data.Paises.unique()\n",
    "    controle = limite - janela\n",
    "    \n",
    "    ano_ref = janela\n",
    "    \n",
    "    while controle >= 0:\n",
    "        ano_prev = ano_ref + horizonte\n",
    "        \n",
    "        if ano_prev > limite:\n",
    "            break\n",
    "            return result\n",
    "                \n",
    "        for i in paises:\n",
    "            result.append(split_prev(data, ano_ref, ano_prev, i))\n",
    "\n",
    "        ano_ref += passo\n",
    "        controle -= passo\n",
    "    return result"
   ]
  },
  {
   "cell_type": "code",
   "execution_count": 39,
   "metadata": {},
   "outputs": [],
   "source": [
    "def analise_estabilidade(data, janela, limite):\n",
    "    result = []\n",
    "    controle = limite - janela\n",
    "    \n",
    "    ano_ref = janela\n",
    "    ano_prev = janela\n",
    "    \n",
    "    while controle >= 0:\n",
    "        ano_prev += 1\n",
    "        \n",
    "        if ano_prev > limite:\n",
    "            break\n",
    "            return result\n",
    "        \n",
    "        for i in paises:\n",
    "            result.append(split_prev(data, ano_ref, ano_prev, i))\n",
    "\n",
    "        controle -= 1\n",
    "    \n",
    "    return result"
   ]
  },
  {
   "cell_type": "code",
   "execution_count": 40,
   "metadata": {},
   "outputs": [],
   "source": [
    "janela = 2005 #fará o walk de janela + horizonte, nesse caso pegará do menor ano até 2005 conjunto de treino.\n",
    "horizonte = 1 #quantos anos para frente tentará prever\n",
    "passo = 1 #no loop soma esse valor a janela.\n",
    "limite = df_2.Ano.unique().max() #quando o loop para."
   ]
  },
  {
   "cell_type": "code",
   "execution_count": 42,
   "metadata": {},
   "outputs": [],
   "source": [
    "df_3 = feature_engineering (df_2, horizonte, paises, index_paises, True)"
   ]
  },
  {
   "cell_type": "code",
   "execution_count": 20,
   "metadata": {
    "scrolled": true
   },
   "outputs": [],
   "source": [
    "df_walk_forward = pd.DataFrame(data = walk_forward (df_3, janela, horizonte, passo, limite),\\\n",
    "                          columns=['Ano_Ref','Ano_Prev','Pais','Rmse_teste','Rmse_treino'])"
   ]
  },
  {
   "cell_type": "code",
   "execution_count": 21,
   "metadata": {
    "scrolled": false
   },
   "outputs": [
    {
     "data": {
      "text/html": [
       "<div>\n",
       "<style scoped>\n",
       "    .dataframe tbody tr th:only-of-type {\n",
       "        vertical-align: middle;\n",
       "    }\n",
       "\n",
       "    .dataframe tbody tr th {\n",
       "        vertical-align: top;\n",
       "    }\n",
       "\n",
       "    .dataframe thead th {\n",
       "        text-align: right;\n",
       "    }\n",
       "</style>\n",
       "<table border=\"1\" class=\"dataframe\">\n",
       "  <thead>\n",
       "    <tr style=\"text-align: right;\">\n",
       "      <th></th>\n",
       "      <th>Ano_Ref</th>\n",
       "      <th>Ano_Prev</th>\n",
       "      <th>Pais</th>\n",
       "      <th>Rmse_teste</th>\n",
       "      <th>Rmse_treino</th>\n",
       "    </tr>\n",
       "  </thead>\n",
       "  <tbody>\n",
       "    <tr>\n",
       "      <th>0</th>\n",
       "      <td>2005</td>\n",
       "      <td>2006</td>\n",
       "      <td>Norway</td>\n",
       "      <td>0.50</td>\n",
       "      <td>0.0</td>\n",
       "    </tr>\n",
       "    <tr>\n",
       "      <th>1</th>\n",
       "      <td>2005</td>\n",
       "      <td>2006</td>\n",
       "      <td>Switzerland</td>\n",
       "      <td>0.51</td>\n",
       "      <td>0.0</td>\n",
       "    </tr>\n",
       "    <tr>\n",
       "      <th>2</th>\n",
       "      <td>2005</td>\n",
       "      <td>2006</td>\n",
       "      <td>Ireland</td>\n",
       "      <td>0.35</td>\n",
       "      <td>0.0</td>\n",
       "    </tr>\n",
       "    <tr>\n",
       "      <th>3</th>\n",
       "      <td>2005</td>\n",
       "      <td>2006</td>\n",
       "      <td>Germany</td>\n",
       "      <td>0.44</td>\n",
       "      <td>0.0</td>\n",
       "    </tr>\n",
       "    <tr>\n",
       "      <th>4</th>\n",
       "      <td>2005</td>\n",
       "      <td>2006</td>\n",
       "      <td>China</td>\n",
       "      <td>0.29</td>\n",
       "      <td>0.0</td>\n",
       "    </tr>\n",
       "  </tbody>\n",
       "</table>\n",
       "</div>"
      ],
      "text/plain": [
       "   Ano_Ref  Ano_Prev         Pais  Rmse_teste  Rmse_treino\n",
       "0     2005      2006       Norway        0.50          0.0\n",
       "1     2005      2006  Switzerland        0.51          0.0\n",
       "2     2005      2006      Ireland        0.35          0.0\n",
       "3     2005      2006      Germany        0.44          0.0\n",
       "4     2005      2006        China        0.29          0.0"
      ]
     },
     "execution_count": 21,
     "metadata": {},
     "output_type": "execute_result"
    }
   ],
   "source": [
    "df_walk_forward.head()"
   ]
  },
  {
   "cell_type": "code",
   "execution_count": 22,
   "metadata": {},
   "outputs": [],
   "source": [
    "df_estabilidade = pd.DataFrame(data =  analise_estabilidade(df_3, janela, limite),\\\n",
    "                               columns=['Ano_Ref','Ano_Prev', 'Pais','Rmse_teste','Rmse_treino'])"
   ]
  },
  {
   "cell_type": "code",
   "execution_count": 85,
   "metadata": {
    "scrolled": false
   },
   "outputs": [
    {
     "data": {
      "text/html": [
       "<div>\n",
       "<style scoped>\n",
       "    .dataframe tbody tr th:only-of-type {\n",
       "        vertical-align: middle;\n",
       "    }\n",
       "\n",
       "    .dataframe tbody tr th {\n",
       "        vertical-align: top;\n",
       "    }\n",
       "\n",
       "    .dataframe thead th {\n",
       "        text-align: right;\n",
       "    }\n",
       "</style>\n",
       "<table border=\"1\" class=\"dataframe\">\n",
       "  <thead>\n",
       "    <tr style=\"text-align: right;\">\n",
       "      <th></th>\n",
       "      <th>Ano_Ref</th>\n",
       "      <th>Ano_Prev</th>\n",
       "      <th>Pais</th>\n",
       "      <th>Rmse_teste</th>\n",
       "      <th>Rmse_treino</th>\n",
       "    </tr>\n",
       "  </thead>\n",
       "  <tbody>\n",
       "    <tr>\n",
       "      <th>0</th>\n",
       "      <td>2005</td>\n",
       "      <td>2006</td>\n",
       "      <td>Norway</td>\n",
       "      <td>0.50</td>\n",
       "      <td>0.0</td>\n",
       "    </tr>\n",
       "    <tr>\n",
       "      <th>1</th>\n",
       "      <td>2005</td>\n",
       "      <td>2006</td>\n",
       "      <td>Switzerland</td>\n",
       "      <td>0.51</td>\n",
       "      <td>0.0</td>\n",
       "    </tr>\n",
       "    <tr>\n",
       "      <th>2</th>\n",
       "      <td>2005</td>\n",
       "      <td>2006</td>\n",
       "      <td>Ireland</td>\n",
       "      <td>0.35</td>\n",
       "      <td>0.0</td>\n",
       "    </tr>\n",
       "    <tr>\n",
       "      <th>3</th>\n",
       "      <td>2005</td>\n",
       "      <td>2006</td>\n",
       "      <td>Germany</td>\n",
       "      <td>0.44</td>\n",
       "      <td>0.0</td>\n",
       "    </tr>\n",
       "    <tr>\n",
       "      <th>4</th>\n",
       "      <td>2005</td>\n",
       "      <td>2006</td>\n",
       "      <td>China</td>\n",
       "      <td>0.29</td>\n",
       "      <td>0.0</td>\n",
       "    </tr>\n",
       "  </tbody>\n",
       "</table>\n",
       "</div>"
      ],
      "text/plain": [
       "   Ano_Ref  Ano_Prev         Pais  Rmse_teste  Rmse_treino\n",
       "0     2005      2006       Norway        0.50          0.0\n",
       "1     2005      2006  Switzerland        0.51          0.0\n",
       "2     2005      2006      Ireland        0.35          0.0\n",
       "3     2005      2006      Germany        0.44          0.0\n",
       "4     2005      2006        China        0.29          0.0"
      ]
     },
     "execution_count": 85,
     "metadata": {},
     "output_type": "execute_result"
    }
   ],
   "source": [
    "df_estabilidade.head()"
   ]
  },
  {
   "cell_type": "code",
   "execution_count": null,
   "metadata": {},
   "outputs": [],
   "source": []
  }
 ],
 "metadata": {
  "kernelspec": {
   "display_name": "Python 3",
   "language": "python",
   "name": "python3"
  },
  "language_info": {
   "codemirror_mode": {
    "name": "ipython",
    "version": 3
   },
   "file_extension": ".py",
   "mimetype": "text/x-python",
   "name": "python",
   "nbconvert_exporter": "python",
   "pygments_lexer": "ipython3",
   "version": "3.7.6"
  }
 },
 "nbformat": 4,
 "nbformat_minor": 4
}
