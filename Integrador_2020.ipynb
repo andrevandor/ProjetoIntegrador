{
 "cells": [
  {
   "cell_type": "code",
   "execution_count": 1,
   "metadata": {},
   "outputs": [],
   "source": [
    "import pandas as pd\n",
    "import numpy as np\n",
    "import matplotlib\n",
    "import seaborn as sns\n",
    "\n",
    "from sklearn.cluster import KMeans\n",
    "from sklearn.manifold import TSNE\n",
    "from sklearn.preprocessing import StandardScaler \n",
    "\n",
    "from matplotlib import pyplot as plot\n",
    "\n",
    "#biblioteca para fazer fazer a regressão\n",
    "from sklearn.tree import DecisionTreeRegressor\n",
    "\n",
    "#biblioteca para calcular uma métrica de avaliação\n",
    "from sklearn.metrics import mean_squared_error"
   ]
  },
  {
   "cell_type": "code",
   "execution_count": 2,
   "metadata": {},
   "outputs": [],
   "source": [
    "df = pd.read_excel('https://github.com/andrevandor/ProjetoIntegrador/raw/master/data/HDI_1990_2019.xlsx')"
   ]
  },
  {
   "cell_type": "markdown",
   "metadata": {},
   "source": [
    "## Treatment of Null Values"
   ]
  },
  {
   "cell_type": "code",
   "execution_count": 3,
   "metadata": {},
   "outputs": [],
   "source": [
    "def EDA (df):\n",
    "    eda_df = {}\n",
    "    eda_df['Qtde_NaN'] = df.isnull().sum()\n",
    "    eda_df['%_NaN'] = df.isnull().mean().round(2)\n",
    "    eda_df['DType'] = df.dtypes\n",
    "    eda_df['Qtde_Unicos'] = df.count()\n",
    "    \n",
    "    colunas = sorted(df.columns.tolist(), key=str.lower, reverse=False)\n",
    "    eda_df['Qtde_Unicos'] = filtered_result = list(map(lambda x: len(df[x].unique().tolist()), colunas))\n",
    "    \n",
    "    eda_df['Media'] = df.mean().round(3)\n",
    "    eda_df['Min'] = df.min()\n",
    "    eda_df['Max'] = df.max()\n",
    "    eda_df['STD'] = df.std().round(3)\n",
    "    \n",
    "    return pd.DataFrame(eda_df)"
   ]
  },
  {
   "cell_type": "code",
   "execution_count": 5,
   "metadata": {},
   "outputs": [
    {
     "data": {
      "text/html": [
       "<div>\n",
       "<style scoped>\n",
       "    .dataframe tbody tr th:only-of-type {\n",
       "        vertical-align: middle;\n",
       "    }\n",
       "\n",
       "    .dataframe tbody tr th {\n",
       "        vertical-align: top;\n",
       "    }\n",
       "\n",
       "    .dataframe thead th {\n",
       "        text-align: right;\n",
       "    }\n",
       "</style>\n",
       "<table border=\"1\" class=\"dataframe\">\n",
       "  <thead>\n",
       "    <tr style=\"text-align: right;\">\n",
       "      <th></th>\n",
       "      <th>Qtde_NaN</th>\n",
       "      <th>%_NaN</th>\n",
       "      <th>DType</th>\n",
       "      <th>Qtde_Unicos</th>\n",
       "      <th>Media</th>\n",
       "      <th>Min</th>\n",
       "      <th>Max</th>\n",
       "      <th>STD</th>\n",
       "    </tr>\n",
       "  </thead>\n",
       "  <tbody>\n",
       "    <tr>\n",
       "      <th>Expectativa de vida no nascimento</th>\n",
       "      <td>84</td>\n",
       "      <td>0.01</td>\n",
       "      <td>float64</td>\n",
       "      <td>371</td>\n",
       "      <td>68.418</td>\n",
       "      <td>26.172</td>\n",
       "      <td>84.50000</td>\n",
       "      <td>9.530</td>\n",
       "    </tr>\n",
       "    <tr>\n",
       "      <th>Anos esperados de escolaridade</th>\n",
       "      <td>279</td>\n",
       "      <td>0.05</td>\n",
       "      <td>float64</td>\n",
       "      <td>5013</td>\n",
       "      <td>11.849</td>\n",
       "      <td>2.100</td>\n",
       "      <td>23.30000</td>\n",
       "      <td>3.358</td>\n",
       "    </tr>\n",
       "    <tr>\n",
       "      <th>Média de anos de escolaridade</th>\n",
       "      <td>551</td>\n",
       "      <td>0.10</td>\n",
       "      <td>float64</td>\n",
       "      <td>5</td>\n",
       "      <td>7.525</td>\n",
       "      <td>0.290</td>\n",
       "      <td>14.13215</td>\n",
       "      <td>3.180</td>\n",
       "    </tr>\n",
       "    <tr>\n",
       "      <th>Renda nacional bruta (RNB) per capita (PPP US$)</th>\n",
       "      <td>446</td>\n",
       "      <td>0.08</td>\n",
       "      <td>float64</td>\n",
       "      <td>429</td>\n",
       "      <td>13408.952</td>\n",
       "      <td>14.000</td>\n",
       "      <td>131510.00000</td>\n",
       "      <td>16507.846</td>\n",
       "    </tr>\n",
       "    <tr>\n",
       "      <th>Faixa</th>\n",
       "      <td>1001</td>\n",
       "      <td>0.18</td>\n",
       "      <td>float64</td>\n",
       "      <td>2684</td>\n",
       "      <td>2.448</td>\n",
       "      <td>1.000</td>\n",
       "      <td>4.00000</td>\n",
       "      <td>1.109</td>\n",
       "    </tr>\n",
       "  </tbody>\n",
       "</table>\n",
       "</div>"
      ],
      "text/plain": [
       "                                                 Qtde_NaN  %_NaN    DType  \\\n",
       "Expectativa de vida no nascimento                      84   0.01  float64   \n",
       "Anos esperados de escolaridade                        279   0.05  float64   \n",
       "Média de anos de escolaridade                         551   0.10  float64   \n",
       "Renda nacional bruta (RNB) per capita (PPP US$)       446   0.08  float64   \n",
       "Faixa                                                1001   0.18  float64   \n",
       "\n",
       "                                                 Qtde_Unicos      Media  \\\n",
       "Expectativa de vida no nascimento                        371     68.418   \n",
       "Anos esperados de escolaridade                          5013     11.849   \n",
       "Média de anos de escolaridade                              5      7.525   \n",
       "Renda nacional bruta (RNB) per capita (PPP US$)          429  13408.952   \n",
       "Faixa                                                   2684      2.448   \n",
       "\n",
       "                                                    Min           Max  \\\n",
       "Expectativa de vida no nascimento                26.172      84.50000   \n",
       "Anos esperados de escolaridade                    2.100      23.30000   \n",
       "Média de anos de escolaridade                     0.290      14.13215   \n",
       "Renda nacional bruta (RNB) per capita (PPP US$)  14.000  131510.00000   \n",
       "Faixa                                             1.000       4.00000   \n",
       "\n",
       "                                                       STD  \n",
       "Expectativa de vida no nascimento                    9.530  \n",
       "Anos esperados de escolaridade                       3.358  \n",
       "Média de anos de escolaridade                        3.180  \n",
       "Renda nacional bruta (RNB) per capita (PPP US$)  16507.846  \n",
       "Faixa                                                1.109  "
      ]
     },
     "execution_count": 5,
     "metadata": {},
     "output_type": "execute_result"
    }
   ],
   "source": [
    "EDA(df.drop(['Ano','Paises','IDH','CPI (Corruption Index)'], axis = 1))"
   ]
  },
  {
   "cell_type": "code",
   "execution_count": 6,
   "metadata": {},
   "outputs": [],
   "source": [
    "#Analisando Expectativa de vida no nascimento\n",
    "df_analise_nulls = df.copy()\n",
    "\n",
    "indices = df_analise_nulls[df_analise_nulls['Expectativa de vida no nascimento'].isnull()].index\n",
    "paises_com_linha_em_branco = []\n",
    "for i in indices:\n",
    "    if (df_analise_nulls.loc[i,'Paises'] not in paises_com_linha_em_branco):\n",
    "        paises_com_linha_em_branco.append(df_analise_nulls.loc[i,'Paises'])"
   ]
  },
  {
   "cell_type": "code",
   "execution_count": 7,
   "metadata": {},
   "outputs": [
    {
     "data": {
      "text/plain": [
       "['Korea (Republic of)', 'Cabo Verde', 'Eswatini (Kingdom of)']"
      ]
     },
     "execution_count": 7,
     "metadata": {},
     "output_type": "execute_result"
    }
   ],
   "source": [
    "paises_com_linha_em_branco"
   ]
  },
  {
   "cell_type": "code",
   "execution_count": 8,
   "metadata": {},
   "outputs": [
    {
     "data": {
      "text/html": [
       "<div>\n",
       "<style scoped>\n",
       "    .dataframe tbody tr th:only-of-type {\n",
       "        vertical-align: middle;\n",
       "    }\n",
       "\n",
       "    .dataframe tbody tr th {\n",
       "        vertical-align: top;\n",
       "    }\n",
       "\n",
       "    .dataframe thead th {\n",
       "        text-align: right;\n",
       "    }\n",
       "</style>\n",
       "<table border=\"1\" class=\"dataframe\">\n",
       "  <thead>\n",
       "    <tr style=\"text-align: right;\">\n",
       "      <th></th>\n",
       "      <th>Paises</th>\n",
       "      <th>Ano</th>\n",
       "      <th>Expectativa de vida no nascimento</th>\n",
       "      <th>Anos esperados de escolaridade</th>\n",
       "      <th>Média de anos de escolaridade</th>\n",
       "      <th>Renda nacional bruta (RNB) per capita (PPP US$)</th>\n",
       "      <th>IDH</th>\n",
       "      <th>Faixa</th>\n",
       "      <th>CPI (Corruption Index)</th>\n",
       "    </tr>\n",
       "  </thead>\n",
       "  <tbody>\n",
       "    <tr>\n",
       "      <th>22</th>\n",
       "      <td>Korea (Republic of)</td>\n",
       "      <td>1990</td>\n",
       "      <td>NaN</td>\n",
       "      <td>NaN</td>\n",
       "      <td>NaN</td>\n",
       "      <td>8260.0</td>\n",
       "      <td>NaN</td>\n",
       "      <td>NaN</td>\n",
       "      <td>NaN</td>\n",
       "    </tr>\n",
       "    <tr>\n",
       "      <th>209</th>\n",
       "      <td>Korea (Republic of)</td>\n",
       "      <td>1991</td>\n",
       "      <td>NaN</td>\n",
       "      <td>NaN</td>\n",
       "      <td>NaN</td>\n",
       "      <td>9330.0</td>\n",
       "      <td>NaN</td>\n",
       "      <td>NaN</td>\n",
       "      <td>NaN</td>\n",
       "    </tr>\n",
       "  </tbody>\n",
       "</table>\n",
       "</div>"
      ],
      "text/plain": [
       "                  Paises   Ano  Expectativa de vida no nascimento  \\\n",
       "22   Korea (Republic of)  1990                                NaN   \n",
       "209  Korea (Republic of)  1991                                NaN   \n",
       "\n",
       "     Anos esperados de escolaridade  Média de anos de escolaridade  \\\n",
       "22                              NaN                            NaN   \n",
       "209                             NaN                            NaN   \n",
       "\n",
       "     Renda nacional bruta (RNB) per capita (PPP US$)  IDH  Faixa  \\\n",
       "22                                            8260.0  NaN    NaN   \n",
       "209                                           9330.0  NaN    NaN   \n",
       "\n",
       "     CPI (Corruption Index)  \n",
       "22                      NaN  \n",
       "209                     NaN  "
      ]
     },
     "execution_count": 8,
     "metadata": {},
     "output_type": "execute_result"
    }
   ],
   "source": [
    "df_analise_nulls.loc[df_analise_nulls['Paises']=='Korea (Republic of)'].head(2)"
   ]
  },
  {
   "cell_type": "code",
   "execution_count": 9,
   "metadata": {},
   "outputs": [
    {
     "data": {
      "text/html": [
       "<div>\n",
       "<style scoped>\n",
       "    .dataframe tbody tr th:only-of-type {\n",
       "        vertical-align: middle;\n",
       "    }\n",
       "\n",
       "    .dataframe tbody tr th {\n",
       "        vertical-align: top;\n",
       "    }\n",
       "\n",
       "    .dataframe thead th {\n",
       "        text-align: right;\n",
       "    }\n",
       "</style>\n",
       "<table border=\"1\" class=\"dataframe\">\n",
       "  <thead>\n",
       "    <tr style=\"text-align: right;\">\n",
       "      <th></th>\n",
       "      <th>Paises</th>\n",
       "      <th>Ano</th>\n",
       "      <th>Expectativa de vida no nascimento</th>\n",
       "      <th>Anos esperados de escolaridade</th>\n",
       "      <th>Média de anos de escolaridade</th>\n",
       "      <th>Renda nacional bruta (RNB) per capita (PPP US$)</th>\n",
       "      <th>IDH</th>\n",
       "      <th>Faixa</th>\n",
       "      <th>CPI (Corruption Index)</th>\n",
       "    </tr>\n",
       "  </thead>\n",
       "  <tbody>\n",
       "    <tr>\n",
       "      <th>124</th>\n",
       "      <td>Cabo Verde</td>\n",
       "      <td>1990</td>\n",
       "      <td>NaN</td>\n",
       "      <td>NaN</td>\n",
       "      <td>NaN</td>\n",
       "      <td>1140.0</td>\n",
       "      <td>NaN</td>\n",
       "      <td>NaN</td>\n",
       "      <td>NaN</td>\n",
       "    </tr>\n",
       "    <tr>\n",
       "      <th>311</th>\n",
       "      <td>Cabo Verde</td>\n",
       "      <td>1991</td>\n",
       "      <td>NaN</td>\n",
       "      <td>NaN</td>\n",
       "      <td>NaN</td>\n",
       "      <td>1160.0</td>\n",
       "      <td>NaN</td>\n",
       "      <td>NaN</td>\n",
       "      <td>NaN</td>\n",
       "    </tr>\n",
       "  </tbody>\n",
       "</table>\n",
       "</div>"
      ],
      "text/plain": [
       "         Paises   Ano  Expectativa de vida no nascimento  \\\n",
       "124  Cabo Verde  1990                                NaN   \n",
       "311  Cabo Verde  1991                                NaN   \n",
       "\n",
       "     Anos esperados de escolaridade  Média de anos de escolaridade  \\\n",
       "124                             NaN                            NaN   \n",
       "311                             NaN                            NaN   \n",
       "\n",
       "     Renda nacional bruta (RNB) per capita (PPP US$)  IDH  Faixa  \\\n",
       "124                                           1140.0  NaN    NaN   \n",
       "311                                           1160.0  NaN    NaN   \n",
       "\n",
       "     CPI (Corruption Index)  \n",
       "124                     NaN  \n",
       "311                     NaN  "
      ]
     },
     "execution_count": 9,
     "metadata": {},
     "output_type": "execute_result"
    }
   ],
   "source": [
    "df_analise_nulls.loc[df_analise_nulls['Paises']=='Cabo Verde'].head(2)"
   ]
  },
  {
   "cell_type": "code",
   "execution_count": 10,
   "metadata": {},
   "outputs": [
    {
     "data": {
      "text/html": [
       "<div>\n",
       "<style scoped>\n",
       "    .dataframe tbody tr th:only-of-type {\n",
       "        vertical-align: middle;\n",
       "    }\n",
       "\n",
       "    .dataframe tbody tr th {\n",
       "        vertical-align: top;\n",
       "    }\n",
       "\n",
       "    .dataframe thead th {\n",
       "        text-align: right;\n",
       "    }\n",
       "</style>\n",
       "<table border=\"1\" class=\"dataframe\">\n",
       "  <thead>\n",
       "    <tr style=\"text-align: right;\">\n",
       "      <th></th>\n",
       "      <th>Paises</th>\n",
       "      <th>Ano</th>\n",
       "      <th>Expectativa de vida no nascimento</th>\n",
       "      <th>Anos esperados de escolaridade</th>\n",
       "      <th>Média de anos de escolaridade</th>\n",
       "      <th>Renda nacional bruta (RNB) per capita (PPP US$)</th>\n",
       "      <th>IDH</th>\n",
       "      <th>Faixa</th>\n",
       "      <th>CPI (Corruption Index)</th>\n",
       "    </tr>\n",
       "  </thead>\n",
       "  <tbody>\n",
       "    <tr>\n",
       "      <th>137</th>\n",
       "      <td>Eswatini (Kingdom of)</td>\n",
       "      <td>1990</td>\n",
       "      <td>NaN</td>\n",
       "      <td>NaN</td>\n",
       "      <td>NaN</td>\n",
       "      <td>3700.0</td>\n",
       "      <td>NaN</td>\n",
       "      <td>NaN</td>\n",
       "      <td>NaN</td>\n",
       "    </tr>\n",
       "    <tr>\n",
       "      <th>324</th>\n",
       "      <td>Eswatini (Kingdom of)</td>\n",
       "      <td>1991</td>\n",
       "      <td>NaN</td>\n",
       "      <td>NaN</td>\n",
       "      <td>NaN</td>\n",
       "      <td>3820.0</td>\n",
       "      <td>NaN</td>\n",
       "      <td>NaN</td>\n",
       "      <td>NaN</td>\n",
       "    </tr>\n",
       "  </tbody>\n",
       "</table>\n",
       "</div>"
      ],
      "text/plain": [
       "                    Paises   Ano  Expectativa de vida no nascimento  \\\n",
       "137  Eswatini (Kingdom of)  1990                                NaN   \n",
       "324  Eswatini (Kingdom of)  1991                                NaN   \n",
       "\n",
       "     Anos esperados de escolaridade  Média de anos de escolaridade  \\\n",
       "137                             NaN                            NaN   \n",
       "324                             NaN                            NaN   \n",
       "\n",
       "     Renda nacional bruta (RNB) per capita (PPP US$)  IDH  Faixa  \\\n",
       "137                                           3700.0  NaN    NaN   \n",
       "324                                           3820.0  NaN    NaN   \n",
       "\n",
       "     CPI (Corruption Index)  \n",
       "137                     NaN  \n",
       "324                     NaN  "
      ]
     },
     "execution_count": 10,
     "metadata": {},
     "output_type": "execute_result"
    }
   ],
   "source": [
    "df_analise_nulls.loc[df_analise_nulls['Paises']=='Eswatini (Kingdom of)'].head(2)"
   ]
  },
  {
   "cell_type": "code",
   "execution_count": 11,
   "metadata": {},
   "outputs": [],
   "source": [
    "#Os três países (Korea (Republic of), Cabo Verde, Eswatini (Kingdom of)) acima possuem dados somente em 2018, \n",
    "#por isso não possuem informações suficientes para uma Série Temporal. Serão removidos da base.\n",
    "linhas_deletar = df_analise_nulls.loc[(df_analise_nulls['Paises']=='Korea (Republic of)')  | \\\n",
    "                                      (df_analise_nulls['Paises']=='Cabo Verde') | \\\n",
    "                                      (df_analise_nulls['Paises']=='Eswatini (Kingdom of)')].index.tolist()\n",
    "df_analise_nulls.drop(index=linhas_deletar, inplace=True)"
   ]
  },
  {
   "cell_type": "code",
   "execution_count": 12,
   "metadata": {},
   "outputs": [],
   "source": [
    "df_analise_nulls['Expectativa de vida no nascimento'].interpolate(method='linear', limit_direction='forward', inplace=True)\n",
    "df_analise_nulls['Anos esperados de escolaridade'].interpolate(method='linear', limit_direction='forward', inplace=True)\n",
    "df_analise_nulls['Média de anos de escolaridade'].interpolate(method='linear', limit_direction='forward', inplace=True)\n",
    "df_analise_nulls['Renda nacional bruta (RNB) per capita (PPP US$)'].interpolate(method='linear', limit_direction='forward',\\\n",
    "                                                                                inplace=True)"
   ]
  },
  {
   "cell_type": "code",
   "execution_count": 13,
   "metadata": {},
   "outputs": [],
   "source": [
    "df_analise_nulls.drop(['IDH','CPI (Corruption Index)'], axis=1, inplace=True)"
   ]
  },
  {
   "cell_type": "code",
   "execution_count": 14,
   "metadata": {},
   "outputs": [
    {
     "data": {
      "text/html": [
       "<div>\n",
       "<style scoped>\n",
       "    .dataframe tbody tr th:only-of-type {\n",
       "        vertical-align: middle;\n",
       "    }\n",
       "\n",
       "    .dataframe tbody tr th {\n",
       "        vertical-align: top;\n",
       "    }\n",
       "\n",
       "    .dataframe thead th {\n",
       "        text-align: right;\n",
       "    }\n",
       "</style>\n",
       "<table border=\"1\" class=\"dataframe\">\n",
       "  <thead>\n",
       "    <tr style=\"text-align: right;\">\n",
       "      <th></th>\n",
       "      <th>Qtde_NaN</th>\n",
       "      <th>%_NaN</th>\n",
       "      <th>DType</th>\n",
       "      <th>Qtde_Unicos</th>\n",
       "      <th>Media</th>\n",
       "      <th>Min</th>\n",
       "      <th>Max</th>\n",
       "      <th>STD</th>\n",
       "    </tr>\n",
       "  </thead>\n",
       "  <tbody>\n",
       "    <tr>\n",
       "      <th>Expectativa de vida no nascimento</th>\n",
       "      <td>0</td>\n",
       "      <td>0.00</td>\n",
       "      <td>float64</td>\n",
       "      <td>456</td>\n",
       "      <td>68.415</td>\n",
       "      <td>26.172</td>\n",
       "      <td>84.50000</td>\n",
       "      <td>9.529</td>\n",
       "    </tr>\n",
       "    <tr>\n",
       "      <th>Anos esperados de escolaridade</th>\n",
       "      <td>0</td>\n",
       "      <td>0.00</td>\n",
       "      <td>float64</td>\n",
       "      <td>5009</td>\n",
       "      <td>11.773</td>\n",
       "      <td>2.100</td>\n",
       "      <td>23.30000</td>\n",
       "      <td>3.369</td>\n",
       "    </tr>\n",
       "    <tr>\n",
       "      <th>Média de anos de escolaridade</th>\n",
       "      <td>0</td>\n",
       "      <td>0.00</td>\n",
       "      <td>float64</td>\n",
       "      <td>5</td>\n",
       "      <td>7.323</td>\n",
       "      <td>0.290</td>\n",
       "      <td>14.13215</td>\n",
       "      <td>3.198</td>\n",
       "    </tr>\n",
       "    <tr>\n",
       "      <th>Renda nacional bruta (RNB) per capita (PPP US$)</th>\n",
       "      <td>0</td>\n",
       "      <td>0.00</td>\n",
       "      <td>float64</td>\n",
       "      <td>615</td>\n",
       "      <td>13269.261</td>\n",
       "      <td>14.000</td>\n",
       "      <td>131510.00000</td>\n",
       "      <td>16501.264</td>\n",
       "    </tr>\n",
       "    <tr>\n",
       "      <th>Faixa</th>\n",
       "      <td>917</td>\n",
       "      <td>0.17</td>\n",
       "      <td>float64</td>\n",
       "      <td>2928</td>\n",
       "      <td>2.448</td>\n",
       "      <td>1.000</td>\n",
       "      <td>4.00000</td>\n",
       "      <td>1.109</td>\n",
       "    </tr>\n",
       "  </tbody>\n",
       "</table>\n",
       "</div>"
      ],
      "text/plain": [
       "                                                 Qtde_NaN  %_NaN    DType  \\\n",
       "Expectativa de vida no nascimento                       0   0.00  float64   \n",
       "Anos esperados de escolaridade                          0   0.00  float64   \n",
       "Média de anos de escolaridade                           0   0.00  float64   \n",
       "Renda nacional bruta (RNB) per capita (PPP US$)         0   0.00  float64   \n",
       "Faixa                                                 917   0.17  float64   \n",
       "\n",
       "                                                 Qtde_Unicos      Media  \\\n",
       "Expectativa de vida no nascimento                        456     68.415   \n",
       "Anos esperados de escolaridade                          5009     11.773   \n",
       "Média de anos de escolaridade                              5      7.323   \n",
       "Renda nacional bruta (RNB) per capita (PPP US$)          615  13269.261   \n",
       "Faixa                                                   2928      2.448   \n",
       "\n",
       "                                                    Min           Max  \\\n",
       "Expectativa de vida no nascimento                26.172      84.50000   \n",
       "Anos esperados de escolaridade                    2.100      23.30000   \n",
       "Média de anos de escolaridade                     0.290      14.13215   \n",
       "Renda nacional bruta (RNB) per capita (PPP US$)  14.000  131510.00000   \n",
       "Faixa                                             1.000       4.00000   \n",
       "\n",
       "                                                       STD  \n",
       "Expectativa de vida no nascimento                    9.529  \n",
       "Anos esperados de escolaridade                       3.369  \n",
       "Média de anos de escolaridade                        3.198  \n",
       "Renda nacional bruta (RNB) per capita (PPP US$)  16501.264  \n",
       "Faixa                                                1.109  "
      ]
     },
     "execution_count": 14,
     "metadata": {},
     "output_type": "execute_result"
    }
   ],
   "source": [
    "EDA(df_analise_nulls.drop(['Ano','Paises'], axis=1))"
   ]
  },
  {
   "cell_type": "code",
   "execution_count": 15,
   "metadata": {
    "scrolled": true
   },
   "outputs": [],
   "source": [
    "df_1 = df_analise_nulls.copy()\n",
    "df_1.reset_index(inplace=True)\n",
    "df_1.drop('index', axis=1, inplace=True)"
   ]
  },
  {
   "cell_type": "code",
   "execution_count": 16,
   "metadata": {},
   "outputs": [],
   "source": [
    "df_1['Indice_Vida'] = (df_1['Expectativa de vida no nascimento'] - 20)/(85 - 20)\n",
    "\n",
    "indexer = df_1.index.to_list()\n",
    "for i in indexer:\n",
    "    if df_1.loc[i,'Anos esperados de escolaridade'] > 18:\n",
    "        df_1.loc[i,'Indice_Escola'] = ((df_1.loc[i,'Média de anos de escolaridade'] / 15)\\\n",
    "                                       + (df_1.loc[i,'Anos esperados de escolaridade']/18)) / 2\n",
    "    else:\n",
    "        df_1.loc[i,'Indice_Escola'] = ((df_1.loc[i,'Média de anos de escolaridade'] / 15)\\\n",
    "                                       + (df_1.loc[i,'Anos esperados de escolaridade']/18)) / 2\n",
    "        \n",
    "df_1['Indice_Renda'] = (np.log(df_1['Renda nacional bruta (RNB) per capita (PPP US$)'])\\\n",
    "                        - np.log(100)) / (np.log(75000) - np.log(100))"
   ]
  },
  {
   "cell_type": "code",
   "execution_count": 17,
   "metadata": {},
   "outputs": [],
   "source": [
    "df_1.loc[df_1.Indice_Renda < 0, 'Indice_Renda'] = 0\n",
    "df_1.loc[df_1.Indice_Renda > 1, 'Indice_Renda'] = 0.99\n",
    "df_1.loc[df_1.Indice_Escola > 1, 'Indice_Escola'] = 0.99"
   ]
  },
  {
   "cell_type": "markdown",
   "metadata": {},
   "source": [
    "## Data Visualization"
   ]
  },
  {
   "cell_type": "code",
   "execution_count": 18,
   "metadata": {},
   "outputs": [
    {
     "name": "stdout",
     "output_type": "stream",
     "text": [
      "Correlações altas já esperadas, como Expectativa de Vida e Anos de Escolaridade \n",
      "e faixa de IDH e demais pilares, já que quando maior a faixa melhor o pilar \n",
      "porem temos um fato interessante que é o RNB correlacionado com os demais pilares. \n",
      "\n"
     ]
    },
    {
     "data": {
      "image/png": "[encoded data removed]",
      "text/plain": [
       "<Figure size 432x288 with 2 Axes>"
      ]
     },
     "metadata": {
      "needs_background": "light"
     },
     "output_type": "display_data"
    }
   ],
   "source": [
    "sns.heatmap(df_1.drop('Ano', axis=1).corr(), linewidths = 1, cmap = 'RdBu', annot = True)\n",
    "print(\"Correlações altas já esperadas, como Expectativa de Vida e Anos de Escolaridade \\n\"\\\n",
    "      + \"e faixa de IDH e demais pilares, já que quando maior a faixa melhor o pilar \\n\"\n",
    "      + \"porem temos um fato interessante que é o RNB correlacionado com os demais pilares. \\n\")"
   ]
  },
  {
   "cell_type": "code",
   "execution_count": 28,
   "metadata": {},
   "outputs": [
    {
     "name": "stdout",
     "output_type": "stream",
     "text": [
      "Paises escolhidos por faixa, aleatoriamente: \n",
      "\n",
      "Baixo desenvolvimento: Afghanistan\n",
      "Médio desenvolvimento: Libya\n",
      "Alto desenvolvimento: Kuwait\n",
      "Muito Alto desenvolvimento: Russia\n"
     ]
    }
   ],
   "source": [
    "country_choices = [df_1[df_1.Faixa == 1].Paises.sample(1).to_list()[0],df_1[df_1.Faixa == 2].Paises.sample(1).to_list()[0],\\\n",
    "                  df_1[df_1.Faixa == 3].Paises.sample(1).to_list()[0],df_1[df_1.Faixa == 4].Paises.sample(1).to_list()[0]]\n",
    "\n",
    "print('Paises escolhidos por faixa, aleatoriamente: \\n\\n'\n",
    "      + 'Baixo desenvolvimento: ' + country_choices[0] + '\\n'\n",
    "      + 'Médio desenvolvimento: ' + country_choices[1] + '\\n'\n",
    "      + 'Alto desenvolvimento: ' + country_choices[2] + '\\n'\n",
    "      + 'Muito Alto desenvolvimento: ' + country_choices[3])"
   ]
  },
  {
   "cell_type": "code",
   "execution_count": 29,
   "metadata": {},
   "outputs": [
    {
     "name": "stdout",
     "output_type": "stream",
     "text": [
      "Baixo desenvolvimento\n",
      "\n"
     ]
    },
    {
     "data": {
      "image/png": "[encoded data removed]",
      "text/plain": [
       "<Figure size 432x288 with 1 Axes>"
      ]
     },
     "metadata": {
      "needs_background": "light"
     },
     "output_type": "display_data"
    },
    {
     "name": "stdout",
     "output_type": "stream",
     "text": [
      "Médio desenvolvimento\n",
      "\n"
     ]
    },
    {
     "data": {
      "image/png": "[encoded data removed]",
      "text/plain": [
       "<Figure size 432x288 with 1 Axes>"
      ]
     },
     "metadata": {
      "needs_background": "light"
     },
     "output_type": "display_data"
    },
    {
     "name": "stdout",
     "output_type": "stream",
     "text": [
      "Alto desenvolvimento\n",
      "\n"
     ]
    },
    {
     "data": {
      "image/png": "[encoded data removed]",
      "text/plain": [
       "<Figure size 432x288 with 1 Axes>"
      ]
     },
     "metadata": {
      "needs_background": "light"
     },
     "output_type": "display_data"
    },
    {
     "name": "stdout",
     "output_type": "stream",
     "text": [
      "Muito Alto desenvolvimento\n",
      "\n"
     ]
    },
    {
     "data": {
      "image/png": "[encoded data removed]",
      "text/plain": [
       "<Figure size 432x288 with 1 Axes>"
      ]
     },
     "metadata": {
      "needs_background": "light"
     },
     "output_type": "display_data"
    },
    {
     "name": "stdout",
     "output_type": "stream",
     "text": [
      "\n",
      "Dividimos um gráfico para cada faixa de HDI, percebemos que, infelizmente, os paises de baixo desenvolvimento \n",
      "tem um crescimento leve porem, comparado com os demais percebemos que a subida é menos acentuada, para a maioria das escolhas.\n",
      "Paises em desenvolvimento muito alto tem seus indices muito proximos, uma subida acentuada e constante.\n"
     ]
    }
   ],
   "source": [
    "print('Baixo desenvolvimento\\n')\n",
    "sns.lineplot(y=df_1[df_1.Paises == country_choices[0]]['Indice_Renda'], x=df_1.Ano.unique(), data=df_1)\n",
    "sns.lineplot(y=df_1[df_1.Paises == country_choices[0]]['Indice_Escola'], x=df_1.Ano.unique(), data=df_1)\n",
    "sns.lineplot(y=df_1[df_1.Paises == country_choices[0]]['Indice_Vida'], x=df_1.Ano.unique(), data=df_1)\n",
    "plot.ylabel('Indice')\n",
    "plot.show()\n",
    "print('Médio desenvolvimento\\n')\n",
    "sns.lineplot(y=df_1[df_1.Paises == country_choices[1]]['Indice_Renda'], x=df_1.Ano.unique(), data=df_1)\n",
    "sns.lineplot(y=df_1[df_1.Paises == country_choices[1]]['Indice_Escola'], x=df_1.Ano.unique(), data=df_1)\n",
    "sns.lineplot(y=df_1[df_1.Paises == country_choices[1]]['Indice_Vida'], x=df_1.Ano.unique(), data=df_1)\n",
    "plot.ylabel('Indice')\n",
    "plot.show()\n",
    "print('Alto desenvolvimento\\n')\n",
    "sns.lineplot(y=df_1[df_1.Paises == country_choices[2]]['Indice_Renda'], x=df_1.Ano.unique(), data=df_1)\n",
    "sns.lineplot(y=df_1[df_1.Paises == country_choices[2]]['Indice_Escola'], x=df_1.Ano.unique(), data=df_1)\n",
    "sns.lineplot(y=df_1[df_1.Paises == country_choices[2]]['Indice_Vida'], x=df_1.Ano.unique(), data=df_1)\n",
    "plot.ylabel('Indice')\n",
    "plot.show()\n",
    "print('Muito Alto desenvolvimento\\n')\n",
    "sns.lineplot(y=df_1[df_1.Paises == country_choices[3]]['Indice_Renda'], x=df_1.Ano.unique(), data=df_1)\n",
    "sns.lineplot(y=df_1[df_1.Paises == country_choices[3]]['Indice_Escola'], x=df_1.Ano.unique(), data=df_1)\n",
    "sns.lineplot(y=df_1[df_1.Paises == country_choices[3]]['Indice_Vida'], x=df_1.Ano.unique(), data=df_1)\n",
    "plot.ylabel('Indice')\n",
    "plot.show()\n",
    "\n",
    "print('\\nDividimos um gráfico para cada faixa de HDI, percebemos que, infelizmente, os paises de baixo desenvolvimento \\n' \\\n",
    "     + 'tem um crescimento leve porem, comparado com os demais percebemos que a subida é menos acentuada, para a maioria das escolhas.\\n' \\\n",
    "     + 'Paises em desenvolvimento muito alto tem seus indices muito proximos, uma subida acentuada e constante.')"
   ]
  },
  {
   "cell_type": "code",
   "execution_count": 30,
   "metadata": {},
   "outputs": [],
   "source": [
    "sums = []\n",
    "for i in range(1,5):\n",
    "    sums.append(np.round(df_1[df_1.Faixa == i]['Renda nacional bruta (RNB) per capita (PPP US$)'].sum(),2))"
   ]
  },
  {
   "cell_type": "code",
   "execution_count": 31,
   "metadata": {},
   "outputs": [],
   "source": [
    "df_sums = pd.DataFrame(sums)\n",
    "df_sums.columns = ['Soma Faixas']"
   ]
  },
  {
   "cell_type": "code",
   "execution_count": 32,
   "metadata": {},
   "outputs": [],
   "source": [
    "df_sums['% do Total'] = (df_sums['Soma Faixas']/df_sums['Soma Faixas'].sum())*100"
   ]
  },
  {
   "cell_type": "code",
   "execution_count": 33,
   "metadata": {},
   "outputs": [],
   "source": [
    "df_sums.index = [1,2,3,4]"
   ]
  },
  {
   "cell_type": "code",
   "execution_count": 34,
   "metadata": {},
   "outputs": [
    {
     "data": {
      "text/html": [
       "<div>\n",
       "<style scoped>\n",
       "    .dataframe tbody tr th:only-of-type {\n",
       "        vertical-align: middle;\n",
       "    }\n",
       "\n",
       "    .dataframe tbody tr th {\n",
       "        vertical-align: top;\n",
       "    }\n",
       "\n",
       "    .dataframe thead th {\n",
       "        text-align: right;\n",
       "    }\n",
       "</style>\n",
       "<table border=\"1\" class=\"dataframe\">\n",
       "  <thead>\n",
       "    <tr style=\"text-align: right;\">\n",
       "      <th></th>\n",
       "      <th>Soma Faixas</th>\n",
       "      <th>% do Total</th>\n",
       "    </tr>\n",
       "  </thead>\n",
       "  <tbody>\n",
       "    <tr>\n",
       "      <th>1</th>\n",
       "      <td>2091234.42</td>\n",
       "      <td>3.242338</td>\n",
       "    </tr>\n",
       "    <tr>\n",
       "      <th>2</th>\n",
       "      <td>7633064.05</td>\n",
       "      <td>11.834623</td>\n",
       "    </tr>\n",
       "    <tr>\n",
       "      <th>3</th>\n",
       "      <td>17029501.32</td>\n",
       "      <td>26.403253</td>\n",
       "    </tr>\n",
       "    <tr>\n",
       "      <th>4</th>\n",
       "      <td>37743939.53</td>\n",
       "      <td>58.519787</td>\n",
       "    </tr>\n",
       "  </tbody>\n",
       "</table>\n",
       "</div>"
      ],
      "text/plain": [
       "   Soma Faixas  % do Total\n",
       "1   2091234.42    3.242338\n",
       "2   7633064.05   11.834623\n",
       "3  17029501.32   26.403253\n",
       "4  37743939.53   58.519787"
      ]
     },
     "execution_count": 34,
     "metadata": {},
     "output_type": "execute_result"
    }
   ],
   "source": [
    "df_sums"
   ]
  },
  {
   "cell_type": "code",
   "execution_count": 35,
   "metadata": {},
   "outputs": [
    {
     "name": "stdout",
     "output_type": "stream",
     "text": [
      "Teriamos um melhor balanceamento entre as faixas de os paises na faixa 1 e 2 representassem um unica faixa.\n",
      "De toda forma os paises da faixa 4 sozinhos detem o poder de compra das faixas 1,2 e 3, comparando com o correlação\n",
      "onde podemos dizer que o pilar de PPP sustenta os demais eles tem muito mais chance de melhorarem ou manteremseus indicadores.\n",
      "\n",
      "4.0    60\n",
      "3.0    54\n",
      "1.0    35\n",
      "2.0    35\n",
      "Name: Faixa, dtype: int64\n",
      "\n",
      "Para tentar validar a hiposete da melhor divisão em 3 grupos iremos usar KNE e T-SNE\n"
     ]
    }
   ],
   "source": [
    "print('Teriamos um melhor balanceamento entre as faixas de os paises na faixa 1 e 2 representassem um unica faixa.\\n'\\\n",
    "     + 'De toda forma os paises da faixa 4 sozinhos detem o poder de compra das faixas 1,2 e 3, comparando com o correlação\\n'\\\n",
    "     + 'onde podemos dizer que o pilar de PPP sustenta os demais eles tem muito mais chance de melhorarem ou manterem'\\\n",
    "     + 'seus indicadores.\\n')\n",
    "\n",
    "print(df_1[df_1.Ano == 2019].Faixa.value_counts())\n",
    "\n",
    "print('\\nPara tentar validar a hiposete da melhor divisão em 3 grupos iremos usar KNE e T-SNE')"
   ]
  },
  {
   "cell_type": "markdown",
   "metadata": {},
   "source": [
    "### K-means and t-SNE"
   ]
  },
  {
   "cell_type": "code",
   "execution_count": 36,
   "metadata": {},
   "outputs": [],
   "source": [
    "df_grouped = df_1.drop(['Paises','Faixa','Indice_Vida','Indice_Escola','Indice_Renda'], axis=1).copy()"
   ]
  },
  {
   "cell_type": "code",
   "execution_count": 37,
   "metadata": {},
   "outputs": [],
   "source": [
    "df_grouped = df_grouped[df_grouped.Ano == 2019]"
   ]
  },
  {
   "cell_type": "code",
   "execution_count": 38,
   "metadata": {},
   "outputs": [],
   "source": [
    "df_grouped.drop('Ano', axis= 1, inplace = True)"
   ]
  },
  {
   "cell_type": "code",
   "execution_count": 39,
   "metadata": {},
   "outputs": [
    {
     "data": {
      "text/html": [
       "<div>\n",
       "<style scoped>\n",
       "    .dataframe tbody tr th:only-of-type {\n",
       "        vertical-align: middle;\n",
       "    }\n",
       "\n",
       "    .dataframe tbody tr th {\n",
       "        vertical-align: top;\n",
       "    }\n",
       "\n",
       "    .dataframe thead th {\n",
       "        text-align: right;\n",
       "    }\n",
       "</style>\n",
       "<table border=\"1\" class=\"dataframe\">\n",
       "  <thead>\n",
       "    <tr style=\"text-align: right;\">\n",
       "      <th></th>\n",
       "      <th>Expectativa de vida no nascimento</th>\n",
       "      <th>Anos esperados de escolaridade</th>\n",
       "      <th>Média de anos de escolaridade</th>\n",
       "      <th>Renda nacional bruta (RNB) per capita (PPP US$)</th>\n",
       "    </tr>\n",
       "  </thead>\n",
       "  <tbody>\n",
       "    <tr>\n",
       "      <th>5336</th>\n",
       "      <td>82.3</td>\n",
       "      <td>18.1</td>\n",
       "      <td>12.6</td>\n",
       "      <td>6859.0</td>\n",
       "    </tr>\n",
       "    <tr>\n",
       "      <th>5337</th>\n",
       "      <td>83.6</td>\n",
       "      <td>16.2</td>\n",
       "      <td>13.4</td>\n",
       "      <td>59375.0</td>\n",
       "    </tr>\n",
       "  </tbody>\n",
       "</table>\n",
       "</div>"
      ],
      "text/plain": [
       "      Expectativa de vida no nascimento  Anos esperados de escolaridade  \\\n",
       "5336                               82.3                            18.1   \n",
       "5337                               83.6                            16.2   \n",
       "\n",
       "      Média de anos de escolaridade  \\\n",
       "5336                           12.6   \n",
       "5337                           13.4   \n",
       "\n",
       "      Renda nacional bruta (RNB) per capita (PPP US$)  \n",
       "5336                                           6859.0  \n",
       "5337                                          59375.0  "
      ]
     },
     "execution_count": 39,
     "metadata": {},
     "output_type": "execute_result"
    }
   ],
   "source": [
    "df_grouped.head(2)"
   ]
  },
  {
   "cell_type": "code",
   "execution_count": 40,
   "metadata": {},
   "outputs": [],
   "source": [
    "scaler = StandardScaler()  \n",
    "df_grouped_norm = scaler.fit_transform(df_grouped)"
   ]
  },
  {
   "cell_type": "code",
   "execution_count": 41,
   "metadata": {
    "jupyter": {
     "source_hidden": true
    }
   },
   "outputs": [
    {
     "name": "stdout",
     "output_type": "stream",
     "text": [
      "1 736.0\n",
      "2 359.46\n",
      "3 234.2\n",
      "4 190.73\n",
      "5 159.5\n",
      "6 141.25\n",
      "7 127.45\n",
      "8 115.67\n",
      "9 108.68\n",
      "10 99.0\n",
      "11 94.68\n",
      "12 90.97\n",
      "13 85.87\n",
      "14 82.29\n",
      "15 75.27\n",
      "16 72.59\n",
      "17 69.72\n",
      "18 67.21\n",
      "19 64.91\n",
      "20 62.6\n"
     ]
    },
    {
     "data": {
      "image/png": "[encoded data removed]",
      "text/plain": [
       "<Figure size 432x288 with 1 Axes>"
      ]
     },
     "metadata": {
      "needs_background": "light"
     },
     "output_type": "display_data"
    },
    {
     "name": "stdout",
     "output_type": "stream",
     "text": [
      "        0\n",
      "0   48.84\n",
      "1   65.15\n",
      "2   81.44\n",
      "3   83.63\n",
      "4   88.56\n",
      "5   90.23\n",
      "6   90.76\n",
      "7   93.96\n",
      "8   91.10\n",
      "9   95.63\n",
      "10  96.09\n",
      "11  94.40\n",
      "12  95.83\n",
      "13  91.46\n",
      "14  96.44\n",
      "15  96.06\n",
      "16  96.39\n",
      "17  96.57\n",
      "18  96.45\n"
     ]
    },
    {
     "data": {
      "image/png": "[encoded data removed]",
      "text/plain": [
       "<Figure size 432x288 with 1 Axes>"
      ]
     },
     "metadata": {
      "needs_background": "light"
     },
     "output_type": "display_data"
    },
    {
     "name": "stdout",
     "output_type": "stream",
     "text": [
      "Como haviamos suspeitado e pelo que observamos nas informações de ganho para cada cluster processadonosso melhor momento de canho foi até o 3 clustes e depois começamos a ter um ganho leve e gradual.Portanto cruzando o WSS versus o WSS percent validamos 3 diviões de faixa.\n"
     ]
    }
   ],
   "source": [
    "X = np.array(df_grouped_norm)\n",
    "wcss = []\n",
    "wss_percent =  []\n",
    "\n",
    "for i in range(1, 21):\n",
    "    kmeans = KMeans(n_clusters = i, init = 'random')\n",
    "    kmeans.fit(X)\n",
    "    print(i,np.round(kmeans.inertia_,2))\n",
    "    wcss.append(kmeans.inertia_)  \n",
    "    if i > 1:\n",
    "        wss_percent.append(np.round((kmeans.inertia_/wcss[i-2])*100,2))\n",
    "    \n",
    "plot.plot(range(1, 21), wcss)\n",
    "plot.title('O Metodo Elbow')\n",
    "plot.xlabel('Numero de Clusters')\n",
    "plot.ylabel('WSS') #within cluster sum of squares\n",
    "plot.show()\n",
    "\n",
    "print(pd.DataFrame(wss_percent))\n",
    "\n",
    "plot.plot(range(0, 19), wss_percent)\n",
    "plot.title('Ganho entre CLusters')\n",
    "plot.xlabel('Numero de Clusters')\n",
    "plot.ylabel('Wss_percent')\n",
    "plot.show()\n",
    "\n",
    "print('Como haviamos suspeitado e pelo que observamos nas informações de ganho para cada cluster processado'\\\n",
    "    + 'nosso melhor momento de canho foi até o 3 clustes e depois começamos a ter um ganho leve e gradual.'\\\n",
    "    + 'Portanto cruzando o WSS versus o WSS percent validamos 3 diviões de faixa.')"
   ]
  },
  {
   "cell_type": "code",
   "execution_count": 42,
   "metadata": {},
   "outputs": [],
   "source": [
    "n_clusters = 3\n",
    "#Inicializando o KMeans\n",
    "kmeans = KMeans(n_clusters)\n",
    "#Fit nos dados\n",
    "kmeans = kmeans.fit(X)\n",
    "#predizendo os clusters\n",
    "labels = kmeans.predict(X)\n",
    "#Encontrando os centroides\n",
    "C = kmeans.cluster_centers_"
   ]
  },
  {
   "cell_type": "code",
   "execution_count": 43,
   "metadata": {},
   "outputs": [
    {
     "data": {
      "text/plain": [
       "array([[-1.11105158, -1.05305676, -1.17064557, -0.6036843 ],\n",
       "       [ 0.33884918,  0.29875453,  0.41041088, -0.24406959],\n",
       "       [ 1.08444053,  1.08417326,  1.00837778,  1.66579618]])"
      ]
     },
     "execution_count": 43,
     "metadata": {},
     "output_type": "execute_result"
    }
   ],
   "source": [
    "kmeans.cluster_centers_"
   ]
  },
  {
   "cell_type": "code",
   "execution_count": 44,
   "metadata": {
    "jupyter": {
     "outputs_hidden": true
    }
   },
   "outputs": [
    {
     "data": {
      "text/plain": [
       "array([1, 2, 1, 2, 2, 2, 2, 2, 1, 2, 2, 2, 2, 2, 1, 2, 2, 2, 2, 2, 1, 2,\n",
       "       1, 2, 2, 2, 2, 2, 1, 2, 2, 2, 2, 2, 2, 2, 2, 2, 2, 1, 2, 1, 2, 1,\n",
       "       1, 1, 1, 1, 1, 1, 1, 1, 1, 1, 2, 1, 1, 1, 1, 1, 1, 1, 1, 1, 1, 1,\n",
       "       1, 1, 1, 1, 1, 1, 1, 1, 1, 1, 1, 1, 1, 1, 1, 1, 1, 1, 1, 1, 1, 1,\n",
       "       1, 1, 1, 1, 1, 1, 1, 1, 1, 1, 1, 1, 1, 1, 1, 1, 1, 1, 1, 1, 1, 1,\n",
       "       1, 1, 1, 1, 1, 1, 1, 0, 1, 1, 1, 1, 1, 0, 1, 0, 0, 0, 0, 0, 0, 0,\n",
       "       0, 0, 0, 0, 0, 0, 0, 0, 0, 0, 0, 0, 0, 0, 0, 0, 0, 0, 0, 0, 0, 0,\n",
       "       0, 0, 0, 0, 0, 0, 0, 0, 0, 0, 0, 0, 0, 0, 0, 0, 0, 0, 0, 0, 0, 0,\n",
       "       0, 0, 0, 0, 0, 0, 0, 0])"
      ]
     },
     "execution_count": 44,
     "metadata": {},
     "output_type": "execute_result"
    }
   ],
   "source": [
    "kmeans.labels_"
   ]
  },
  {
   "cell_type": "code",
   "execution_count": 45,
   "metadata": {
    "jupyter": {
     "source_hidden": true
    }
   },
   "outputs": [
    {
     "data": {
      "text/plain": [
       "(184, 2)"
      ]
     },
     "execution_count": 45,
     "metadata": {},
     "output_type": "execute_result"
    }
   ],
   "source": [
    "X_reduzido = TSNE(n_components=2).fit_transform(X)\n",
    "X_reduzido.shape"
   ]
  },
  {
   "cell_type": "code",
   "execution_count": 46,
   "metadata": {
    "jupyter": {
     "source_hidden": true
    }
   },
   "outputs": [],
   "source": [
    "n_clusters = 3\n",
    "#Inicializando o KMeans\n",
    "kmeans = KMeans(n_clusters)\n",
    "#Fit nos dados\n",
    "kmeans = kmeans.fit(X_reduzido)\n",
    "#predizendo os clusters\n",
    "labels = kmeans.predict(X_reduzido)\n",
    "#Encontrando os centroides\n",
    "C = kmeans.cluster_centers_"
   ]
  },
  {
   "cell_type": "code",
   "execution_count": 47,
   "metadata": {
    "jupyter": {
     "outputs_hidden": true
    }
   },
   "outputs": [
    {
     "data": {
      "text/plain": [
       "array([[ 7.818971  , -8.041585  ],\n",
       "       [-8.787161  ,  8.782811  ],\n",
       "       [-0.13373831,  2.2620664 ]], dtype=float32)"
      ]
     },
     "execution_count": 47,
     "metadata": {},
     "output_type": "execute_result"
    }
   ],
   "source": [
    "kmeans.cluster_centers_"
   ]
  },
  {
   "cell_type": "code",
   "execution_count": 49,
   "metadata": {},
   "outputs": [
    {
     "data": {
      "image/png": "[encoded data removed]",
      "text/plain": [
       "<Figure size 720x360 with 1 Axes>"
      ]
     },
     "metadata": {
      "needs_background": "light"
     },
     "output_type": "display_data"
    }
   ],
   "source": [
    "plot.figure(figsize=(10,5))\n",
    "\n",
    "plot.scatter(X_reduzido[:, 0], X_reduzido[:, 1], s=plot.rcParams['lines.markersize']**2, c = kmeans.labels_)\n",
    "plot.scatter(kmeans.cluster_centers_[:, 0], kmeans.cluster_centers_[:, 1],  c = 'red',label = 'Centroids')\n",
    "plot.title('Cluster')\n",
    "plot.legend()\n",
    "\n",
    "plot.show()"
   ]
  },
  {
   "cell_type": "code",
   "execution_count": 50,
   "metadata": {},
   "outputs": [],
   "source": [
    "cluster_list = kmeans.labels_\n",
    "df_grouped[\"Cluster IDH\"] = cluster_list"
   ]
  },
  {
   "cell_type": "markdown",
   "metadata": {},
   "source": [
    "## Feature Engineering"
   ]
  },
  {
   "cell_type": "code",
   "execution_count": 51,
   "metadata": {},
   "outputs": [],
   "source": [
    "paises = df_1.Paises.unique()"
   ]
  },
  {
   "cell_type": "code",
   "execution_count": 52,
   "metadata": {},
   "outputs": [],
   "source": [
    "index_paises = []\n",
    "for i in range(len(paises)):\n",
    "    index_paises.append (df_1[df_1.Paises == paises[i]].index)"
   ]
  },
  {
   "cell_type": "code",
   "execution_count": 53,
   "metadata": {},
   "outputs": [],
   "source": [
    "df_2 = pd.DataFrame()\n",
    "for i in range(len(index_paises)):\n",
    "    df_2 = pd.concat([df_2, df_1.iloc[index_paises[i]]], axis = 0)"
   ]
  },
  {
   "cell_type": "code",
   "execution_count": 54,
   "metadata": {},
   "outputs": [],
   "source": [
    "df_2.reset_index(inplace=True)\n",
    "df_2.drop('index', axis=1, inplace=True)"
   ]
  },
  {
   "cell_type": "code",
   "execution_count": 55,
   "metadata": {},
   "outputs": [],
   "source": [
    "index_paises = []\n",
    "for i in range(len(paises)):\n",
    "    index_paises.append (df_2[df_2.Paises == paises[i]].index)"
   ]
  },
  {
   "cell_type": "code",
   "execution_count": 61,
   "metadata": {},
   "outputs": [],
   "source": [
    "def feature_engineering (df, roll, paises, index_paises, drop):\n",
    "    \n",
    "    data = df.copy()\n",
    "    \n",
    "    roll += 1\n",
    "\n",
    "    for i in range(len(paises)):\n",
    "        #\n",
    "        data.loc[index_paises[i],'Diff_1'] = data.iloc[index_paises[i]]['Expectativa de vida no nascimento']\\\n",
    "                                            .diff(roll - 1)\n",
    "        data.loc[index_paises[i],'Diff_2'] = data.iloc[index_paises[i]]['Anos esperados de escolaridade']\\\n",
    "                                            .diff(roll - 1)\n",
    "        data.loc[index_paises[i],'Diff_3'] = data.iloc[index_paises[i]]['Média de anos de escolaridade']\\\n",
    "                                            .diff(roll - 1)\n",
    "        data.loc[index_paises[i],'Diff_4'] = data.iloc[index_paises[i]]['Renda nacional bruta (RNB) per capita (PPP US$)']\\\n",
    "                                            .diff(roll - 1)\n",
    "        #\n",
    "        data.loc[index_paises[i], 'Med_1'] = data.iloc[index_paises[i]]['Expectativa de vida no nascimento']\\\n",
    "                                            .rolling(roll).mean().round(2)\n",
    "        data.loc[index_paises[i], 'Med_2'] = data.iloc[index_paises[i]]['Anos esperados de escolaridade']\\\n",
    "                                            .rolling(roll).mean().round(2)\n",
    "        data.loc[index_paises[i], 'Med_3'] = data.iloc[index_paises[i]]['Média de anos de escolaridade']\\\n",
    "                                            .rolling(roll).mean().round(2)\n",
    "        data.loc[index_paises[i], 'Med_4'] = data.iloc[index_paises[i]]['Renda nacional bruta (RNB) per capita (PPP US$)']\\\n",
    "                                            .rolling(roll).mean().round(2)\n",
    "        #\n",
    "        data.loc[index_paises[i], 'Var_%_1'] = data.iloc[index_paises[i]]['Expectativa de vida no nascimento']\\\n",
    "                                            .pct_change(roll - 1).round(horizonte)\n",
    "        data.loc[index_paises[i], 'Var_%_2'] = data.iloc[index_paises[i]]['Anos esperados de escolaridade']\\\n",
    "                                            .pct_change(roll - 1).round(horizonte)\n",
    "        data.loc[index_paises[i], 'Var_%_3'] = data.iloc[index_paises[i]]['Média de anos de escolaridade']\\\n",
    "                                            .pct_change(roll - 1).round(horizonte)\n",
    "        data.loc[index_paises[i], 'Var_%_4'] = data.iloc[index_paises[i]]['Renda nacional bruta (RNB) per capita (PPP US$)']\\\n",
    "                                            .pct_change(roll - 1).round(horizonte)\n",
    "\n",
    "    #if drop == True:\n",
    "        #data.dropna(how='any', axis=0, inplace=True)\n",
    "    \n",
    "    return data"
   ]
  },
  {
   "cell_type": "markdown",
   "metadata": {},
   "source": [
    "## Janelas de Previsão"
   ]
  },
  {
   "cell_type": "code",
   "execution_count": 78,
   "metadata": {},
   "outputs": [],
   "source": [
    "roll = 1\n",
    "janela = 2005 #fará o walk de janela + horizonte, nesse caso pegará do menor ano até 2005 conjunto de treino.\n",
    "horizonte = 1 #quantos anos para frente tentará prever\n",
    "passo = 1 #no loop soma esse valor a janela.\n",
    "limite = df_2.Ano.unique().max() #quando o loop para."
   ]
  },
  {
   "cell_type": "code",
   "execution_count": 79,
   "metadata": {},
   "outputs": [],
   "source": [
    "df_3 = feature_engineering (df_2.drop('Faixa', axis=1), horizonte, paises, index_paises, True)"
   ]
  },
  {
   "cell_type": "markdown",
   "metadata": {},
   "source": [
    "### Ajustar a partir daqui"
   ]
  },
  {
   "cell_type": "code",
   "execution_count": 75,
   "metadata": {},
   "outputs": [],
   "source": [
    "colunas = df_3.select_dtypes(exclude=['int64', 'object']).columns.tolist()\n",
    "    \n",
    "for i in range (0, len(colunas)):\n",
    "    df_3[colunas[i]] = df_3[colunas[i]].shift(periods=roll)"
   ]
  },
  {
   "cell_type": "code",
   "execution_count": 82,
   "metadata": {},
   "outputs": [
    {
     "data": {
      "text/html": [
       "<div>\n",
       "<style scoped>\n",
       "    .dataframe tbody tr th:only-of-type {\n",
       "        vertical-align: middle;\n",
       "    }\n",
       "\n",
       "    .dataframe tbody tr th {\n",
       "        vertical-align: top;\n",
       "    }\n",
       "\n",
       "    .dataframe thead th {\n",
       "        text-align: right;\n",
       "    }\n",
       "</style>\n",
       "<table border=\"1\" class=\"dataframe\">\n",
       "  <thead>\n",
       "    <tr style=\"text-align: right;\">\n",
       "      <th></th>\n",
       "      <th>Paises</th>\n",
       "      <th>Ano</th>\n",
       "      <th>Expectativa de vida no nascimento</th>\n",
       "      <th>Anos esperados de escolaridade</th>\n",
       "      <th>Média de anos de escolaridade</th>\n",
       "      <th>Renda nacional bruta (RNB) per capita (PPP US$)</th>\n",
       "      <th>Indice_Vida</th>\n",
       "      <th>Indice_Escola</th>\n",
       "      <th>Indice_Renda</th>\n",
       "      <th>Diff_1</th>\n",
       "      <th>...</th>\n",
       "      <th>Diff_3</th>\n",
       "      <th>Diff_4</th>\n",
       "      <th>Med_1</th>\n",
       "      <th>Med_2</th>\n",
       "      <th>Med_3</th>\n",
       "      <th>Med_4</th>\n",
       "      <th>Var_%_1</th>\n",
       "      <th>Var_%_2</th>\n",
       "      <th>Var_%_3</th>\n",
       "      <th>Var_%_4</th>\n",
       "    </tr>\n",
       "  </thead>\n",
       "  <tbody>\n",
       "    <tr>\n",
       "      <th>0</th>\n",
       "      <td>Norway</td>\n",
       "      <td>1990</td>\n",
       "      <td>76.729</td>\n",
       "      <td>14.0</td>\n",
       "      <td>10.470000</td>\n",
       "      <td>17910.0</td>\n",
       "      <td>0.872754</td>\n",
       "      <td>0.737889</td>\n",
       "      <td>0.783669</td>\n",
       "      <td>NaN</td>\n",
       "      <td>...</td>\n",
       "      <td>NaN</td>\n",
       "      <td>NaN</td>\n",
       "      <td>NaN</td>\n",
       "      <td>NaN</td>\n",
       "      <td>NaN</td>\n",
       "      <td>NaN</td>\n",
       "      <td>NaN</td>\n",
       "      <td>NaN</td>\n",
       "      <td>NaN</td>\n",
       "      <td>NaN</td>\n",
       "    </tr>\n",
       "    <tr>\n",
       "      <th>30</th>\n",
       "      <td>Switzerland</td>\n",
       "      <td>1990</td>\n",
       "      <td>77.568</td>\n",
       "      <td>13.4</td>\n",
       "      <td>10.190000</td>\n",
       "      <td>28170.0</td>\n",
       "      <td>0.885662</td>\n",
       "      <td>0.711889</td>\n",
       "      <td>0.852082</td>\n",
       "      <td>NaN</td>\n",
       "      <td>...</td>\n",
       "      <td>NaN</td>\n",
       "      <td>NaN</td>\n",
       "      <td>NaN</td>\n",
       "      <td>NaN</td>\n",
       "      <td>NaN</td>\n",
       "      <td>NaN</td>\n",
       "      <td>NaN</td>\n",
       "      <td>NaN</td>\n",
       "      <td>NaN</td>\n",
       "      <td>NaN</td>\n",
       "    </tr>\n",
       "    <tr>\n",
       "      <th>60</th>\n",
       "      <td>Ireland</td>\n",
       "      <td>1990</td>\n",
       "      <td>74.809</td>\n",
       "      <td>12.1</td>\n",
       "      <td>9.730000</td>\n",
       "      <td>12750.0</td>\n",
       "      <td>0.843215</td>\n",
       "      <td>0.660444</td>\n",
       "      <td>0.732336</td>\n",
       "      <td>NaN</td>\n",
       "      <td>...</td>\n",
       "      <td>NaN</td>\n",
       "      <td>NaN</td>\n",
       "      <td>NaN</td>\n",
       "      <td>NaN</td>\n",
       "      <td>NaN</td>\n",
       "      <td>NaN</td>\n",
       "      <td>NaN</td>\n",
       "      <td>NaN</td>\n",
       "      <td>NaN</td>\n",
       "      <td>NaN</td>\n",
       "    </tr>\n",
       "    <tr>\n",
       "      <th>90</th>\n",
       "      <td>Germany</td>\n",
       "      <td>1990</td>\n",
       "      <td>75.488</td>\n",
       "      <td>14.4</td>\n",
       "      <td>8.770000</td>\n",
       "      <td>19640.0</td>\n",
       "      <td>0.853662</td>\n",
       "      <td>0.692333</td>\n",
       "      <td>0.797597</td>\n",
       "      <td>NaN</td>\n",
       "      <td>...</td>\n",
       "      <td>NaN</td>\n",
       "      <td>NaN</td>\n",
       "      <td>NaN</td>\n",
       "      <td>NaN</td>\n",
       "      <td>NaN</td>\n",
       "      <td>NaN</td>\n",
       "      <td>NaN</td>\n",
       "      <td>NaN</td>\n",
       "      <td>NaN</td>\n",
       "      <td>NaN</td>\n",
       "    </tr>\n",
       "    <tr>\n",
       "      <th>120</th>\n",
       "      <td>China</td>\n",
       "      <td>1990</td>\n",
       "      <td>69.145</td>\n",
       "      <td>8.8</td>\n",
       "      <td>5.340000</td>\n",
       "      <td>17760.0</td>\n",
       "      <td>0.756077</td>\n",
       "      <td>0.422444</td>\n",
       "      <td>0.782398</td>\n",
       "      <td>NaN</td>\n",
       "      <td>...</td>\n",
       "      <td>NaN</td>\n",
       "      <td>NaN</td>\n",
       "      <td>NaN</td>\n",
       "      <td>NaN</td>\n",
       "      <td>NaN</td>\n",
       "      <td>NaN</td>\n",
       "      <td>NaN</td>\n",
       "      <td>NaN</td>\n",
       "      <td>NaN</td>\n",
       "      <td>NaN</td>\n",
       "    </tr>\n",
       "    <tr>\n",
       "      <th>...</th>\n",
       "      <td>...</td>\n",
       "      <td>...</td>\n",
       "      <td>...</td>\n",
       "      <td>...</td>\n",
       "      <td>...</td>\n",
       "      <td>...</td>\n",
       "      <td>...</td>\n",
       "      <td>...</td>\n",
       "      <td>...</td>\n",
       "      <td>...</td>\n",
       "      <td>...</td>\n",
       "      <td>...</td>\n",
       "      <td>...</td>\n",
       "      <td>...</td>\n",
       "      <td>...</td>\n",
       "      <td>...</td>\n",
       "      <td>...</td>\n",
       "      <td>...</td>\n",
       "      <td>...</td>\n",
       "      <td>...</td>\n",
       "      <td>...</td>\n",
       "    </tr>\n",
       "    <tr>\n",
       "      <th>5370</th>\n",
       "      <td>Burundi</td>\n",
       "      <td>1990</td>\n",
       "      <td>47.829</td>\n",
       "      <td>4.4</td>\n",
       "      <td>1.440000</td>\n",
       "      <td>490.0</td>\n",
       "      <td>0.428138</td>\n",
       "      <td>0.170222</td>\n",
       "      <td>0.240063</td>\n",
       "      <td>NaN</td>\n",
       "      <td>...</td>\n",
       "      <td>NaN</td>\n",
       "      <td>NaN</td>\n",
       "      <td>NaN</td>\n",
       "      <td>NaN</td>\n",
       "      <td>NaN</td>\n",
       "      <td>NaN</td>\n",
       "      <td>NaN</td>\n",
       "      <td>NaN</td>\n",
       "      <td>NaN</td>\n",
       "      <td>NaN</td>\n",
       "    </tr>\n",
       "    <tr>\n",
       "      <th>5400</th>\n",
       "      <td>South Sudan</td>\n",
       "      <td>1990</td>\n",
       "      <td>43.524</td>\n",
       "      <td>3.8</td>\n",
       "      <td>1.646667</td>\n",
       "      <td>575.0</td>\n",
       "      <td>0.361908</td>\n",
       "      <td>0.160444</td>\n",
       "      <td>0.264227</td>\n",
       "      <td>NaN</td>\n",
       "      <td>...</td>\n",
       "      <td>NaN</td>\n",
       "      <td>NaN</td>\n",
       "      <td>NaN</td>\n",
       "      <td>NaN</td>\n",
       "      <td>NaN</td>\n",
       "      <td>NaN</td>\n",
       "      <td>NaN</td>\n",
       "      <td>NaN</td>\n",
       "      <td>NaN</td>\n",
       "      <td>NaN</td>\n",
       "    </tr>\n",
       "    <tr>\n",
       "      <th>5430</th>\n",
       "      <td>Chad</td>\n",
       "      <td>1990</td>\n",
       "      <td>47.019</td>\n",
       "      <td>3.2</td>\n",
       "      <td>1.853333</td>\n",
       "      <td>660.0</td>\n",
       "      <td>0.415677</td>\n",
       "      <td>0.150667</td>\n",
       "      <td>0.285053</td>\n",
       "      <td>NaN</td>\n",
       "      <td>...</td>\n",
       "      <td>NaN</td>\n",
       "      <td>NaN</td>\n",
       "      <td>NaN</td>\n",
       "      <td>NaN</td>\n",
       "      <td>NaN</td>\n",
       "      <td>NaN</td>\n",
       "      <td>NaN</td>\n",
       "      <td>NaN</td>\n",
       "      <td>NaN</td>\n",
       "      <td>NaN</td>\n",
       "    </tr>\n",
       "    <tr>\n",
       "      <th>5460</th>\n",
       "      <td>Central African Republic</td>\n",
       "      <td>1990</td>\n",
       "      <td>49.104</td>\n",
       "      <td>5.2</td>\n",
       "      <td>2.060000</td>\n",
       "      <td>630.0</td>\n",
       "      <td>0.447754</td>\n",
       "      <td>0.213111</td>\n",
       "      <td>0.278026</td>\n",
       "      <td>NaN</td>\n",
       "      <td>...</td>\n",
       "      <td>NaN</td>\n",
       "      <td>NaN</td>\n",
       "      <td>NaN</td>\n",
       "      <td>NaN</td>\n",
       "      <td>NaN</td>\n",
       "      <td>NaN</td>\n",
       "      <td>NaN</td>\n",
       "      <td>NaN</td>\n",
       "      <td>NaN</td>\n",
       "      <td>NaN</td>\n",
       "    </tr>\n",
       "    <tr>\n",
       "      <th>5490</th>\n",
       "      <td>Niger</td>\n",
       "      <td>1990</td>\n",
       "      <td>43.538</td>\n",
       "      <td>2.1</td>\n",
       "      <td>0.690000</td>\n",
       "      <td>550.0</td>\n",
       "      <td>0.362123</td>\n",
       "      <td>0.081333</td>\n",
       "      <td>0.257512</td>\n",
       "      <td>NaN</td>\n",
       "      <td>...</td>\n",
       "      <td>NaN</td>\n",
       "      <td>NaN</td>\n",
       "      <td>NaN</td>\n",
       "      <td>NaN</td>\n",
       "      <td>NaN</td>\n",
       "      <td>NaN</td>\n",
       "      <td>NaN</td>\n",
       "      <td>NaN</td>\n",
       "      <td>NaN</td>\n",
       "      <td>NaN</td>\n",
       "    </tr>\n",
       "  </tbody>\n",
       "</table>\n",
       "<p>184 rows × 21 columns</p>\n",
       "</div>"
      ],
      "text/plain": [
       "                        Paises   Ano  Expectativa de vida no nascimento  \\\n",
       "0                       Norway  1990                             76.729   \n",
       "30                 Switzerland  1990                             77.568   \n",
       "60                     Ireland  1990                             74.809   \n",
       "90                     Germany  1990                             75.488   \n",
       "120                      China  1990                             69.145   \n",
       "...                        ...   ...                                ...   \n",
       "5370                   Burundi  1990                             47.829   \n",
       "5400               South Sudan  1990                             43.524   \n",
       "5430                      Chad  1990                             47.019   \n",
       "5460  Central African Republic  1990                             49.104   \n",
       "5490                     Niger  1990                             43.538   \n",
       "\n",
       "      Anos esperados de escolaridade  Média de anos de escolaridade  \\\n",
       "0                               14.0                      10.470000   \n",
       "30                              13.4                      10.190000   \n",
       "60                              12.1                       9.730000   \n",
       "90                              14.4                       8.770000   \n",
       "120                              8.8                       5.340000   \n",
       "...                              ...                            ...   \n",
       "5370                             4.4                       1.440000   \n",
       "5400                             3.8                       1.646667   \n",
       "5430                             3.2                       1.853333   \n",
       "5460                             5.2                       2.060000   \n",
       "5490                             2.1                       0.690000   \n",
       "\n",
       "      Renda nacional bruta (RNB) per capita (PPP US$)  Indice_Vida  \\\n",
       "0                                             17910.0     0.872754   \n",
       "30                                            28170.0     0.885662   \n",
       "60                                            12750.0     0.843215   \n",
       "90                                            19640.0     0.853662   \n",
       "120                                           17760.0     0.756077   \n",
       "...                                               ...          ...   \n",
       "5370                                            490.0     0.428138   \n",
       "5400                                            575.0     0.361908   \n",
       "5430                                            660.0     0.415677   \n",
       "5460                                            630.0     0.447754   \n",
       "5490                                            550.0     0.362123   \n",
       "\n",
       "      Indice_Escola  Indice_Renda  Diff_1  ...  Diff_3  Diff_4  Med_1  Med_2  \\\n",
       "0          0.737889      0.783669     NaN  ...     NaN     NaN    NaN    NaN   \n",
       "30         0.711889      0.852082     NaN  ...     NaN     NaN    NaN    NaN   \n",
       "60         0.660444      0.732336     NaN  ...     NaN     NaN    NaN    NaN   \n",
       "90         0.692333      0.797597     NaN  ...     NaN     NaN    NaN    NaN   \n",
       "120        0.422444      0.782398     NaN  ...     NaN     NaN    NaN    NaN   \n",
       "...             ...           ...     ...  ...     ...     ...    ...    ...   \n",
       "5370       0.170222      0.240063     NaN  ...     NaN     NaN    NaN    NaN   \n",
       "5400       0.160444      0.264227     NaN  ...     NaN     NaN    NaN    NaN   \n",
       "5430       0.150667      0.285053     NaN  ...     NaN     NaN    NaN    NaN   \n",
       "5460       0.213111      0.278026     NaN  ...     NaN     NaN    NaN    NaN   \n",
       "5490       0.081333      0.257512     NaN  ...     NaN     NaN    NaN    NaN   \n",
       "\n",
       "      Med_3  Med_4  Var_%_1  Var_%_2  Var_%_3  Var_%_4  \n",
       "0       NaN    NaN      NaN      NaN      NaN      NaN  \n",
       "30      NaN    NaN      NaN      NaN      NaN      NaN  \n",
       "60      NaN    NaN      NaN      NaN      NaN      NaN  \n",
       "90      NaN    NaN      NaN      NaN      NaN      NaN  \n",
       "120     NaN    NaN      NaN      NaN      NaN      NaN  \n",
       "...     ...    ...      ...      ...      ...      ...  \n",
       "5370    NaN    NaN      NaN      NaN      NaN      NaN  \n",
       "5400    NaN    NaN      NaN      NaN      NaN      NaN  \n",
       "5430    NaN    NaN      NaN      NaN      NaN      NaN  \n",
       "5460    NaN    NaN      NaN      NaN      NaN      NaN  \n",
       "5490    NaN    NaN      NaN      NaN      NaN      NaN  \n",
       "\n",
       "[184 rows x 21 columns]"
      ]
     },
     "execution_count": 82,
     "metadata": {},
     "output_type": "execute_result"
    }
   ],
   "source": [
    "df_3[df_3.Ano == 1990]"
   ]
  },
  {
   "cell_type": "markdown",
   "metadata": {},
   "source": [
    "## Regression Tree"
   ]
  },
  {
   "cell_type": "code",
   "execution_count": 27,
   "metadata": {},
   "outputs": [],
   "source": [
    "def split_prev(df, ano_ref, ano_prev, pais):\n",
    "    \n",
    "    data = df.copy()\n",
    "    \n",
    "    treino =  data.loc[(data.Ano <= ano_ref) & (data.Paises == pais)].copy()\n",
    "    teste = data.loc[(data.Ano > ano_ref) & (data.Ano <= ano_prev) & (data.Paises == pais)].copy()\n",
    "    \n",
    "    #não iremos utilizar essa coluna para treinar nosso modelo\n",
    "    treino.drop(['Ano', 'Paises'], axis=1, inplace=True)\n",
    "    teste.drop(['Ano', 'Paises'], axis=1, inplace=True)\n",
    "\n",
    "    #vamos dividir as variáveis alvo e de entrada\n",
    "    y_treino = treino['Expectativa de vida no nascimento'].values\n",
    "    del treino['Expectativa de vida no nascimento']\n",
    "    \n",
    "    x_treino = treino.values\n",
    "\n",
    "    y_teste = teste['Expectativa de vida no nascimento'].values\n",
    "    del teste['Expectativa de vida no nascimento']\n",
    "\n",
    "    x_teste = teste.values;\n",
    "    \n",
    "    #treino do modelo para fazer a previsão\n",
    "    regr_1 = DecisionTreeRegressor(max_depth=5, min_samples_split = 2, random_state = 2019)\n",
    "    regr_1.fit(x_treino, y_treino)\n",
    "    \n",
    "    y_pred_teste = regr_1.predict(x_teste)\n",
    "    y_pred_treino = regr_1.predict(x_treino)\n",
    "    \n",
    "    # Avaliar o fitting\n",
    "    rmse_teste = np.round(mean_squared_error(y_teste, y_pred_teste) **0.5, 2)\n",
    "    rmse_treino = np.round(mean_squared_error(y_treino, y_pred_treino)**0.5, 2)\n",
    "    \n",
    "    return ano_ref, ano_prev, pais, rmse_teste, rmse_treino"
   ]
  },
  {
   "cell_type": "code",
   "execution_count": 28,
   "metadata": {},
   "outputs": [],
   "source": [
    "def walk_forward (data, janela, horizonte, passo, limite):\n",
    "    result = []\n",
    "    pais_ref = data.Paises.unique()\n",
    "    controle = limite - janela\n",
    "    \n",
    "    ano_ref = janela\n",
    "    \n",
    "    while controle >= 0:\n",
    "        ano_prev = ano_ref + horizonte\n",
    "        \n",
    "        if ano_prev > limite:\n",
    "            break\n",
    "            return result\n",
    "                \n",
    "        for i in paises:\n",
    "            result.append(split_prev(data, ano_ref, ano_prev, i))\n",
    "\n",
    "        ano_ref += passo\n",
    "        controle -= passo\n",
    "    return result"
   ]
  },
  {
   "cell_type": "code",
   "execution_count": 29,
   "metadata": {},
   "outputs": [],
   "source": [
    "def analise_estabilidade(data, janela, limite):\n",
    "    result = []\n",
    "    controle = limite - janela\n",
    "    \n",
    "    ano_ref = janela\n",
    "    ano_prev = janela\n",
    "    \n",
    "    while controle >= 0:\n",
    "        ano_prev += 1\n",
    "        \n",
    "        if ano_prev > limite:\n",
    "            break\n",
    "            return result\n",
    "        \n",
    "        for i in paises:\n",
    "            result.append(split_prev(data, ano_ref, ano_prev, i))\n",
    "\n",
    "        controle -= 1\n",
    "    \n",
    "    return result"
   ]
  },
  {
   "cell_type": "code",
   "execution_count": 31,
   "metadata": {
    "scrolled": true
   },
   "outputs": [],
   "source": [
    "df_walk_forward = pd.DataFrame(data = walk_forward (df_3, janela, horizonte, passo, limite),\\\n",
    "                          columns=['Ano_Ref','Ano_Prev','Pais','Rmse_teste','Rmse_treino'])"
   ]
  },
  {
   "cell_type": "code",
   "execution_count": 61,
   "metadata": {},
   "outputs": [],
   "source": [
    "for i in range(len(df_walk_forward)):\n",
    "    df_walk_forward['Periodo'][i] = str(df_walk_forward.Ano_Ref[i]) + ' - ' + str(df_walk_forward.Ano_Prev[i]);"
   ]
  },
  {
   "cell_type": "code",
   "execution_count": 67,
   "metadata": {},
   "outputs": [],
   "source": [
    "df_walk_forward_agroup = df_walk_forward.groupby('Periodo').aggregate('mean')"
   ]
  },
  {
   "cell_type": "code",
   "execution_count": 77,
   "metadata": {},
   "outputs": [
    {
     "data": {
      "text/html": [
       "<div>\n",
       "<style scoped>\n",
       "    .dataframe tbody tr th:only-of-type {\n",
       "        vertical-align: middle;\n",
       "    }\n",
       "\n",
       "    .dataframe tbody tr th {\n",
       "        vertical-align: top;\n",
       "    }\n",
       "\n",
       "    .dataframe thead th {\n",
       "        text-align: right;\n",
       "    }\n",
       "</style>\n",
       "<table border=\"1\" class=\"dataframe\">\n",
       "  <thead>\n",
       "    <tr style=\"text-align: right;\">\n",
       "      <th></th>\n",
       "      <th>Ano_Ref</th>\n",
       "      <th>Ano_Prev</th>\n",
       "      <th>Rmse_teste</th>\n",
       "      <th>Rmse_treino</th>\n",
       "    </tr>\n",
       "    <tr>\n",
       "      <th>Periodo</th>\n",
       "      <th></th>\n",
       "      <th></th>\n",
       "      <th></th>\n",
       "      <th></th>\n",
       "    </tr>\n",
       "  </thead>\n",
       "  <tbody>\n",
       "    <tr>\n",
       "      <th>2005 - 2006</th>\n",
       "      <td>2005</td>\n",
       "      <td>2006</td>\n",
       "      <td>0.482834</td>\n",
       "      <td>0.001444</td>\n",
       "    </tr>\n",
       "    <tr>\n",
       "      <th>2006 - 2007</th>\n",
       "      <td>2006</td>\n",
       "      <td>2007</td>\n",
       "      <td>0.641604</td>\n",
       "      <td>0.001711</td>\n",
       "    </tr>\n",
       "    <tr>\n",
       "      <th>2007 - 2008</th>\n",
       "      <td>2007</td>\n",
       "      <td>2008</td>\n",
       "      <td>0.610214</td>\n",
       "      <td>0.002193</td>\n",
       "    </tr>\n",
       "    <tr>\n",
       "      <th>2008 - 2009</th>\n",
       "      <td>2008</td>\n",
       "      <td>2009</td>\n",
       "      <td>0.737433</td>\n",
       "      <td>0.002834</td>\n",
       "    </tr>\n",
       "    <tr>\n",
       "      <th>2009 - 2010</th>\n",
       "      <td>2009</td>\n",
       "      <td>2010</td>\n",
       "      <td>0.699465</td>\n",
       "      <td>0.004225</td>\n",
       "    </tr>\n",
       "    <tr>\n",
       "      <th>2010 - 2011</th>\n",
       "      <td>2010</td>\n",
       "      <td>2011</td>\n",
       "      <td>0.658610</td>\n",
       "      <td>0.004813</td>\n",
       "    </tr>\n",
       "    <tr>\n",
       "      <th>2011 - 2012</th>\n",
       "      <td>2011</td>\n",
       "      <td>2012</td>\n",
       "      <td>0.590107</td>\n",
       "      <td>0.005508</td>\n",
       "    </tr>\n",
       "    <tr>\n",
       "      <th>2012 - 2013</th>\n",
       "      <td>2012</td>\n",
       "      <td>2013</td>\n",
       "      <td>0.647861</td>\n",
       "      <td>0.005187</td>\n",
       "    </tr>\n",
       "    <tr>\n",
       "      <th>2013 - 2014</th>\n",
       "      <td>2013</td>\n",
       "      <td>2014</td>\n",
       "      <td>0.607005</td>\n",
       "      <td>0.007540</td>\n",
       "    </tr>\n",
       "    <tr>\n",
       "      <th>2014 - 2015</th>\n",
       "      <td>2014</td>\n",
       "      <td>2015</td>\n",
       "      <td>0.487273</td>\n",
       "      <td>0.009358</td>\n",
       "    </tr>\n",
       "    <tr>\n",
       "      <th>2015 - 2016</th>\n",
       "      <td>2015</td>\n",
       "      <td>2016</td>\n",
       "      <td>0.482834</td>\n",
       "      <td>0.011337</td>\n",
       "    </tr>\n",
       "    <tr>\n",
       "      <th>2016 - 2017</th>\n",
       "      <td>2016</td>\n",
       "      <td>2017</td>\n",
       "      <td>0.375829</td>\n",
       "      <td>0.013583</td>\n",
       "    </tr>\n",
       "    <tr>\n",
       "      <th>2017 - 2018</th>\n",
       "      <td>2017</td>\n",
       "      <td>2018</td>\n",
       "      <td>0.784385</td>\n",
       "      <td>0.016791</td>\n",
       "    </tr>\n",
       "  </tbody>\n",
       "</table>\n",
       "</div>"
      ],
      "text/plain": [
       "             Ano_Ref  Ano_Prev  Rmse_teste  Rmse_treino\n",
       "Periodo                                                \n",
       "2005 - 2006     2005      2006    0.482834     0.001444\n",
       "2006 - 2007     2006      2007    0.641604     0.001711\n",
       "2007 - 2008     2007      2008    0.610214     0.002193\n",
       "2008 - 2009     2008      2009    0.737433     0.002834\n",
       "2009 - 2010     2009      2010    0.699465     0.004225\n",
       "2010 - 2011     2010      2011    0.658610     0.004813\n",
       "2011 - 2012     2011      2012    0.590107     0.005508\n",
       "2012 - 2013     2012      2013    0.647861     0.005187\n",
       "2013 - 2014     2013      2014    0.607005     0.007540\n",
       "2014 - 2015     2014      2015    0.487273     0.009358\n",
       "2015 - 2016     2015      2016    0.482834     0.011337\n",
       "2016 - 2017     2016      2017    0.375829     0.013583\n",
       "2017 - 2018     2017      2018    0.784385     0.016791"
      ]
     },
     "execution_count": 77,
     "metadata": {},
     "output_type": "execute_result"
    }
   ],
   "source": [
    "df_walk_forward_agroup"
   ]
  },
  {
   "cell_type": "code",
   "execution_count": 97,
   "metadata": {},
   "outputs": [
    {
     "name": "stdout",
     "output_type": "stream",
     "text": [
      "Média do RSME:  0.6\n"
     ]
    },
    {
     "data": {
      "image/png": "[encoded data removed]",
      "text/plain": [
       "<Figure size 1440x360 with 1 Axes>"
      ]
     },
     "metadata": {},
     "output_type": "display_data"
    }
   ],
   "source": [
    "fig = plt.figure(figsize=(20,5))\n",
    "plt.bar(df_walk_forward_agroup.index, df_walk_forward_agroup.Rmse_teste)\n",
    "print ('Média do RSME: ', np.round(df_walk_forward_agroup.Rmse_teste.mean(),2))"
   ]
  },
  {
   "cell_type": "code",
   "execution_count": 82,
   "metadata": {},
   "outputs": [],
   "source": [
    "df_estabilidade = pd.DataFrame(data =  analise_estabilidade(df_3, janela, limite),\\\n",
    "                               columns=['Ano_Ref','Ano_Prev', 'Pais','Rmse_teste','Rmse_treino'])"
   ]
  },
  {
   "cell_type": "code",
   "execution_count": 100,
   "metadata": {},
   "outputs": [
    {
     "data": {
      "text/html": [
       "<div>\n",
       "<style scoped>\n",
       "    .dataframe tbody tr th:only-of-type {\n",
       "        vertical-align: middle;\n",
       "    }\n",
       "\n",
       "    .dataframe tbody tr th {\n",
       "        vertical-align: top;\n",
       "    }\n",
       "\n",
       "    .dataframe thead th {\n",
       "        text-align: right;\n",
       "    }\n",
       "</style>\n",
       "<table border=\"1\" class=\"dataframe\">\n",
       "  <thead>\n",
       "    <tr style=\"text-align: right;\">\n",
       "      <th></th>\n",
       "      <th>Ano_Ref</th>\n",
       "      <th>Ano_Prev</th>\n",
       "      <th>Pais</th>\n",
       "      <th>Rmse_teste</th>\n",
       "      <th>Rmse_treino</th>\n",
       "    </tr>\n",
       "  </thead>\n",
       "  <tbody>\n",
       "    <tr>\n",
       "      <th>0</th>\n",
       "      <td>2005</td>\n",
       "      <td>2006</td>\n",
       "      <td>Norway</td>\n",
       "      <td>0.50</td>\n",
       "      <td>0.0</td>\n",
       "    </tr>\n",
       "    <tr>\n",
       "      <th>1</th>\n",
       "      <td>2005</td>\n",
       "      <td>2006</td>\n",
       "      <td>Switzerland</td>\n",
       "      <td>0.25</td>\n",
       "      <td>0.0</td>\n",
       "    </tr>\n",
       "    <tr>\n",
       "      <th>2</th>\n",
       "      <td>2005</td>\n",
       "      <td>2006</td>\n",
       "      <td>Ireland</td>\n",
       "      <td>0.35</td>\n",
       "      <td>0.0</td>\n",
       "    </tr>\n",
       "    <tr>\n",
       "      <th>3</th>\n",
       "      <td>2005</td>\n",
       "      <td>2006</td>\n",
       "      <td>Germany</td>\n",
       "      <td>0.21</td>\n",
       "      <td>0.0</td>\n",
       "    </tr>\n",
       "    <tr>\n",
       "      <th>4</th>\n",
       "      <td>2005</td>\n",
       "      <td>2006</td>\n",
       "      <td>China</td>\n",
       "      <td>0.29</td>\n",
       "      <td>0.0</td>\n",
       "    </tr>\n",
       "  </tbody>\n",
       "</table>\n",
       "</div>"
      ],
      "text/plain": [
       "   Ano_Ref  Ano_Prev         Pais  Rmse_teste  Rmse_treino\n",
       "0     2005      2006       Norway        0.50          0.0\n",
       "1     2005      2006  Switzerland        0.25          0.0\n",
       "2     2005      2006      Ireland        0.35          0.0\n",
       "3     2005      2006      Germany        0.21          0.0\n",
       "4     2005      2006        China        0.29          0.0"
      ]
     },
     "execution_count": 100,
     "metadata": {},
     "output_type": "execute_result"
    }
   ],
   "source": [
    "df_estabilidade.head()"
   ]
  },
  {
   "cell_type": "code",
   "execution_count": 101,
   "metadata": {},
   "outputs": [
    {
     "ename": "KeyError",
     "evalue": "'Periodo'",
     "output_type": "error",
     "traceback": [
      "\u001b[1;31m---------------------------------------------------------------------------\u001b[0m",
      "\u001b[1;31mKeyError\u001b[0m                                  Traceback (most recent call last)",
      "\u001b[1;32m~\\AppData\\Local\\Continuum\\anaconda3\\lib\\site-packages\\pandas\\core\\indexes\\base.py\u001b[0m in \u001b[0;36mget_loc\u001b[1;34m(self, key, method, tolerance)\u001b[0m\n\u001b[0;32m   2645\u001b[0m             \u001b[1;32mtry\u001b[0m\u001b[1;33m:\u001b[0m\u001b[1;33m\u001b[0m\u001b[1;33m\u001b[0m\u001b[0m\n\u001b[1;32m-> 2646\u001b[1;33m                 \u001b[1;32mreturn\u001b[0m \u001b[0mself\u001b[0m\u001b[1;33m.\u001b[0m\u001b[0m_engine\u001b[0m\u001b[1;33m.\u001b[0m\u001b[0mget_loc\u001b[0m\u001b[1;33m(\u001b[0m\u001b[0mkey\u001b[0m\u001b[1;33m)\u001b[0m\u001b[1;33m\u001b[0m\u001b[1;33m\u001b[0m\u001b[0m\n\u001b[0m\u001b[0;32m   2647\u001b[0m             \u001b[1;32mexcept\u001b[0m \u001b[0mKeyError\u001b[0m\u001b[1;33m:\u001b[0m\u001b[1;33m\u001b[0m\u001b[1;33m\u001b[0m\u001b[0m\n",
      "\u001b[1;32mpandas\\_libs\\index.pyx\u001b[0m in \u001b[0;36mpandas._libs.index.IndexEngine.get_loc\u001b[1;34m()\u001b[0m\n",
      "\u001b[1;32mpandas\\_libs\\index.pyx\u001b[0m in \u001b[0;36mpandas._libs.index.IndexEngine.get_loc\u001b[1;34m()\u001b[0m\n",
      "\u001b[1;32mpandas\\_libs\\hashtable_class_helper.pxi\u001b[0m in \u001b[0;36mpandas._libs.hashtable.PyObjectHashTable.get_item\u001b[1;34m()\u001b[0m\n",
      "\u001b[1;32mpandas\\_libs\\hashtable_class_helper.pxi\u001b[0m in \u001b[0;36mpandas._libs.hashtable.PyObjectHashTable.get_item\u001b[1;34m()\u001b[0m\n",
      "\u001b[1;31mKeyError\u001b[0m: 'Periodo'",
      "\nDuring handling of the above exception, another exception occurred:\n",
      "\u001b[1;31mKeyError\u001b[0m                                  Traceback (most recent call last)",
      "\u001b[1;32m<ipython-input-101-da3ef20a7512>\u001b[0m in \u001b[0;36m<module>\u001b[1;34m\u001b[0m\n\u001b[0;32m      1\u001b[0m \u001b[1;32mfor\u001b[0m \u001b[0mi\u001b[0m \u001b[1;32min\u001b[0m \u001b[0mrange\u001b[0m\u001b[1;33m(\u001b[0m\u001b[0mlen\u001b[0m\u001b[1;33m(\u001b[0m\u001b[0mdf_estabilidade\u001b[0m\u001b[1;33m)\u001b[0m\u001b[1;33m)\u001b[0m\u001b[1;33m:\u001b[0m\u001b[1;33m\u001b[0m\u001b[1;33m\u001b[0m\u001b[0m\n\u001b[1;32m----> 2\u001b[1;33m     \u001b[0mdf_estabilidade\u001b[0m\u001b[1;33m[\u001b[0m\u001b[1;34m'Periodo'\u001b[0m\u001b[1;33m]\u001b[0m\u001b[1;33m[\u001b[0m\u001b[0mi\u001b[0m\u001b[1;33m]\u001b[0m \u001b[1;33m=\u001b[0m \u001b[0mstr\u001b[0m\u001b[1;33m(\u001b[0m\u001b[0mdf_estabilidade\u001b[0m\u001b[1;33m.\u001b[0m\u001b[0mAno_Ref\u001b[0m\u001b[1;33m[\u001b[0m\u001b[0mi\u001b[0m\u001b[1;33m]\u001b[0m\u001b[1;33m)\u001b[0m \u001b[1;33m+\u001b[0m \u001b[1;34m' - '\u001b[0m \u001b[1;33m+\u001b[0m \u001b[0mstr\u001b[0m\u001b[1;33m(\u001b[0m\u001b[0mdf_estabilidade\u001b[0m\u001b[1;33m.\u001b[0m\u001b[0mAno_Prev\u001b[0m\u001b[1;33m[\u001b[0m\u001b[0mi\u001b[0m\u001b[1;33m]\u001b[0m\u001b[1;33m)\u001b[0m\u001b[1;33m;\u001b[0m\u001b[1;33m\u001b[0m\u001b[1;33m\u001b[0m\u001b[0m\n\u001b[0m",
      "\u001b[1;32m~\\AppData\\Local\\Continuum\\anaconda3\\lib\\site-packages\\pandas\\core\\frame.py\u001b[0m in \u001b[0;36m__getitem__\u001b[1;34m(self, key)\u001b[0m\n\u001b[0;32m   2798\u001b[0m             \u001b[1;32mif\u001b[0m \u001b[0mself\u001b[0m\u001b[1;33m.\u001b[0m\u001b[0mcolumns\u001b[0m\u001b[1;33m.\u001b[0m\u001b[0mnlevels\u001b[0m \u001b[1;33m>\u001b[0m \u001b[1;36m1\u001b[0m\u001b[1;33m:\u001b[0m\u001b[1;33m\u001b[0m\u001b[1;33m\u001b[0m\u001b[0m\n\u001b[0;32m   2799\u001b[0m                 \u001b[1;32mreturn\u001b[0m \u001b[0mself\u001b[0m\u001b[1;33m.\u001b[0m\u001b[0m_getitem_multilevel\u001b[0m\u001b[1;33m(\u001b[0m\u001b[0mkey\u001b[0m\u001b[1;33m)\u001b[0m\u001b[1;33m\u001b[0m\u001b[1;33m\u001b[0m\u001b[0m\n\u001b[1;32m-> 2800\u001b[1;33m             \u001b[0mindexer\u001b[0m \u001b[1;33m=\u001b[0m \u001b[0mself\u001b[0m\u001b[1;33m.\u001b[0m\u001b[0mcolumns\u001b[0m\u001b[1;33m.\u001b[0m\u001b[0mget_loc\u001b[0m\u001b[1;33m(\u001b[0m\u001b[0mkey\u001b[0m\u001b[1;33m)\u001b[0m\u001b[1;33m\u001b[0m\u001b[1;33m\u001b[0m\u001b[0m\n\u001b[0m\u001b[0;32m   2801\u001b[0m             \u001b[1;32mif\u001b[0m \u001b[0mis_integer\u001b[0m\u001b[1;33m(\u001b[0m\u001b[0mindexer\u001b[0m\u001b[1;33m)\u001b[0m\u001b[1;33m:\u001b[0m\u001b[1;33m\u001b[0m\u001b[1;33m\u001b[0m\u001b[0m\n\u001b[0;32m   2802\u001b[0m                 \u001b[0mindexer\u001b[0m \u001b[1;33m=\u001b[0m \u001b[1;33m[\u001b[0m\u001b[0mindexer\u001b[0m\u001b[1;33m]\u001b[0m\u001b[1;33m\u001b[0m\u001b[1;33m\u001b[0m\u001b[0m\n",
      "\u001b[1;32m~\\AppData\\Local\\Continuum\\anaconda3\\lib\\site-packages\\pandas\\core\\indexes\\base.py\u001b[0m in \u001b[0;36mget_loc\u001b[1;34m(self, key, method, tolerance)\u001b[0m\n\u001b[0;32m   2646\u001b[0m                 \u001b[1;32mreturn\u001b[0m \u001b[0mself\u001b[0m\u001b[1;33m.\u001b[0m\u001b[0m_engine\u001b[0m\u001b[1;33m.\u001b[0m\u001b[0mget_loc\u001b[0m\u001b[1;33m(\u001b[0m\u001b[0mkey\u001b[0m\u001b[1;33m)\u001b[0m\u001b[1;33m\u001b[0m\u001b[1;33m\u001b[0m\u001b[0m\n\u001b[0;32m   2647\u001b[0m             \u001b[1;32mexcept\u001b[0m \u001b[0mKeyError\u001b[0m\u001b[1;33m:\u001b[0m\u001b[1;33m\u001b[0m\u001b[1;33m\u001b[0m\u001b[0m\n\u001b[1;32m-> 2648\u001b[1;33m                 \u001b[1;32mreturn\u001b[0m \u001b[0mself\u001b[0m\u001b[1;33m.\u001b[0m\u001b[0m_engine\u001b[0m\u001b[1;33m.\u001b[0m\u001b[0mget_loc\u001b[0m\u001b[1;33m(\u001b[0m\u001b[0mself\u001b[0m\u001b[1;33m.\u001b[0m\u001b[0m_maybe_cast_indexer\u001b[0m\u001b[1;33m(\u001b[0m\u001b[0mkey\u001b[0m\u001b[1;33m)\u001b[0m\u001b[1;33m)\u001b[0m\u001b[1;33m\u001b[0m\u001b[1;33m\u001b[0m\u001b[0m\n\u001b[0m\u001b[0;32m   2649\u001b[0m         \u001b[0mindexer\u001b[0m \u001b[1;33m=\u001b[0m \u001b[0mself\u001b[0m\u001b[1;33m.\u001b[0m\u001b[0mget_indexer\u001b[0m\u001b[1;33m(\u001b[0m\u001b[1;33m[\u001b[0m\u001b[0mkey\u001b[0m\u001b[1;33m]\u001b[0m\u001b[1;33m,\u001b[0m \u001b[0mmethod\u001b[0m\u001b[1;33m=\u001b[0m\u001b[0mmethod\u001b[0m\u001b[1;33m,\u001b[0m \u001b[0mtolerance\u001b[0m\u001b[1;33m=\u001b[0m\u001b[0mtolerance\u001b[0m\u001b[1;33m)\u001b[0m\u001b[1;33m\u001b[0m\u001b[1;33m\u001b[0m\u001b[0m\n\u001b[0;32m   2650\u001b[0m         \u001b[1;32mif\u001b[0m \u001b[0mindexer\u001b[0m\u001b[1;33m.\u001b[0m\u001b[0mndim\u001b[0m \u001b[1;33m>\u001b[0m \u001b[1;36m1\u001b[0m \u001b[1;32mor\u001b[0m \u001b[0mindexer\u001b[0m\u001b[1;33m.\u001b[0m\u001b[0msize\u001b[0m \u001b[1;33m>\u001b[0m \u001b[1;36m1\u001b[0m\u001b[1;33m:\u001b[0m\u001b[1;33m\u001b[0m\u001b[1;33m\u001b[0m\u001b[0m\n",
      "\u001b[1;32mpandas\\_libs\\index.pyx\u001b[0m in \u001b[0;36mpandas._libs.index.IndexEngine.get_loc\u001b[1;34m()\u001b[0m\n",
      "\u001b[1;32mpandas\\_libs\\index.pyx\u001b[0m in \u001b[0;36mpandas._libs.index.IndexEngine.get_loc\u001b[1;34m()\u001b[0m\n",
      "\u001b[1;32mpandas\\_libs\\hashtable_class_helper.pxi\u001b[0m in \u001b[0;36mpandas._libs.hashtable.PyObjectHashTable.get_item\u001b[1;34m()\u001b[0m\n",
      "\u001b[1;32mpandas\\_libs\\hashtable_class_helper.pxi\u001b[0m in \u001b[0;36mpandas._libs.hashtable.PyObjectHashTable.get_item\u001b[1;34m()\u001b[0m\n",
      "\u001b[1;31mKeyError\u001b[0m: 'Periodo'"
     ]
    }
   ],
   "source": [
    "for i in range(len(df_estabilidade)):\n",
    "    df_estabilidade['Periodo'][i] = str(df_estabilidade.Ano_Ref[i]) + ' - ' + str(df_estabilidade.Ano_Prev[i]);"
   ]
  },
  {
   "cell_type": "code",
   "execution_count": null,
   "metadata": {},
   "outputs": [],
   "source": [
    "df_estabilidade_agroup = df_estabilidade.groupby('Periodo').aggregate('mean')"
   ]
  }
 ],
 "metadata": {
  "kernelspec": {
   "display_name": "Python 3",
   "language": "python",
   "name": "python3"
  },
  "language_info": {
   "codemirror_mode": {
    "name": "ipython",
    "version": 3
   },
   "file_extension": ".py",
   "mimetype": "text/x-python",
   "name": "python",
   "nbconvert_exporter": "python",
   "pygments_lexer": "ipython3",
   "version": "3.7.6"
  }
 },
 "nbformat": 4,
 "nbformat_minor": 4
}
