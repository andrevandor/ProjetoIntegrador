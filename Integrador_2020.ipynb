{
 "cells": [
  {
   "cell_type": "code",
   "execution_count": 1,
   "metadata": {},
   "outputs": [],
   "source": [
    "import pandas as pd\n",
    "import numpy as np\n",
    "import matplotlib\n",
    "import matplotlib.pyplot as plt\n",
    "\n",
    "from sklearn.cluster import KMeans\n",
    "from sklearn.manifold import TSNE\n",
    "from sklearn.preprocessing import StandardScaler \n",
    "\n",
    "from matplotlib import pyplot as plot\n",
    "\n",
    "#biblioteca para fazer fazer a regressão\n",
    "from sklearn.tree import DecisionTreeRegressor\n",
    "\n",
    "#biblioteca para calcular uma métrica de avaliação\n",
    "from sklearn.metrics import mean_squared_error"
   ]
  },
  {
   "cell_type": "code",
   "execution_count": 2,
   "metadata": {},
   "outputs": [],
   "source": [
    "df = pd.read_excel('https://github.com/andrevandor/ProjetoIntegrador/raw/master/data/HDI_1990_2018.xlsx')"
   ]
  },
  {
   "cell_type": "markdown",
   "metadata": {},
   "source": [
    "## Treatment of Null Values"
   ]
  },
  {
   "cell_type": "code",
   "execution_count": 3,
   "metadata": {
    "scrolled": true
   },
   "outputs": [
    {
     "data": {
      "text/html": [
       "<div>\n",
       "<style scoped>\n",
       "    .dataframe tbody tr th:only-of-type {\n",
       "        vertical-align: middle;\n",
       "    }\n",
       "\n",
       "    .dataframe tbody tr th {\n",
       "        vertical-align: top;\n",
       "    }\n",
       "\n",
       "    .dataframe thead th {\n",
       "        text-align: right;\n",
       "    }\n",
       "</style>\n",
       "<table border=\"1\" class=\"dataframe\">\n",
       "  <thead>\n",
       "    <tr style=\"text-align: right;\">\n",
       "      <th></th>\n",
       "      <th>Paises</th>\n",
       "      <th>Ano</th>\n",
       "      <th>Expectativa de vida no nascimento</th>\n",
       "      <th>Anos esperados de escolaridade</th>\n",
       "      <th>Média de anos de escolaridade</th>\n",
       "      <th>Renda nacional bruta (RNB) per capita (PPP US$)</th>\n",
       "      <th>IDH</th>\n",
       "      <th>CPI (Corruption Index)</th>\n",
       "    </tr>\n",
       "  </thead>\n",
       "  <tbody>\n",
       "    <tr>\n",
       "      <th>0</th>\n",
       "      <td>Norway</td>\n",
       "      <td>1990</td>\n",
       "      <td>76.729</td>\n",
       "      <td>14.0</td>\n",
       "      <td>10.47</td>\n",
       "      <td>17910.0</td>\n",
       "      <td>0.85</td>\n",
       "      <td>NaN</td>\n",
       "    </tr>\n",
       "    <tr>\n",
       "      <th>1</th>\n",
       "      <td>Switzerland</td>\n",
       "      <td>1990</td>\n",
       "      <td>77.568</td>\n",
       "      <td>13.4</td>\n",
       "      <td>10.19</td>\n",
       "      <td>28170.0</td>\n",
       "      <td>0.83</td>\n",
       "      <td>NaN</td>\n",
       "    </tr>\n",
       "    <tr>\n",
       "      <th>2</th>\n",
       "      <td>Ireland</td>\n",
       "      <td>1990</td>\n",
       "      <td>74.809</td>\n",
       "      <td>12.1</td>\n",
       "      <td>9.73</td>\n",
       "      <td>12750.0</td>\n",
       "      <td>0.76</td>\n",
       "      <td>NaN</td>\n",
       "    </tr>\n",
       "    <tr>\n",
       "      <th>3</th>\n",
       "      <td>Germany</td>\n",
       "      <td>1990</td>\n",
       "      <td>75.488</td>\n",
       "      <td>14.4</td>\n",
       "      <td>8.77</td>\n",
       "      <td>19640.0</td>\n",
       "      <td>0.80</td>\n",
       "      <td>NaN</td>\n",
       "    </tr>\n",
       "    <tr>\n",
       "      <th>4</th>\n",
       "      <td>China</td>\n",
       "      <td>1990</td>\n",
       "      <td>69.145</td>\n",
       "      <td>8.8</td>\n",
       "      <td>5.34</td>\n",
       "      <td>17760.0</td>\n",
       "      <td>0.50</td>\n",
       "      <td>NaN</td>\n",
       "    </tr>\n",
       "  </tbody>\n",
       "</table>\n",
       "</div>"
      ],
      "text/plain": [
       "        Paises   Ano  Expectativa de vida no nascimento  \\\n",
       "0       Norway  1990                             76.729   \n",
       "1  Switzerland  1990                             77.568   \n",
       "2      Ireland  1990                             74.809   \n",
       "3      Germany  1990                             75.488   \n",
       "4        China  1990                             69.145   \n",
       "\n",
       "   Anos esperados de escolaridade  Média de anos de escolaridade  \\\n",
       "0                            14.0                          10.47   \n",
       "1                            13.4                          10.19   \n",
       "2                            12.1                           9.73   \n",
       "3                            14.4                           8.77   \n",
       "4                             8.8                           5.34   \n",
       "\n",
       "   Renda nacional bruta (RNB) per capita (PPP US$)   IDH  \\\n",
       "0                                          17910.0  0.85   \n",
       "1                                          28170.0  0.83   \n",
       "2                                          12750.0  0.76   \n",
       "3                                          19640.0  0.80   \n",
       "4                                          17760.0  0.50   \n",
       "\n",
       "   CPI (Corruption Index)  \n",
       "0                     NaN  \n",
       "1                     NaN  \n",
       "2                     NaN  \n",
       "3                     NaN  \n",
       "4                     NaN  "
      ]
     },
     "execution_count": 3,
     "metadata": {},
     "output_type": "execute_result"
    }
   ],
   "source": [
    "df.head()"
   ]
  },
  {
   "cell_type": "code",
   "execution_count": 4,
   "metadata": {},
   "outputs": [],
   "source": [
    "def EDA (df):\n",
    "    eda_df = {}\n",
    "    eda_df['Qtde_NaN'] = df.isnull().sum()\n",
    "    eda_df['%_NaN'] = df.isnull().mean().round(2)\n",
    "    eda_df['DType'] = df.dtypes\n",
    "    eda_df['Qtde_Unicos'] = df.count()\n",
    "    \n",
    "    colunas = sorted(df.columns.tolist(), key=str.lower, reverse=False)\n",
    "    eda_df['Qtde_Unicos'] = filtered_result = list(map(lambda x: len(df[x].unique().tolist()), colunas))\n",
    "    \n",
    "    eda_df['Media'] = df.mean().round(3)\n",
    "    eda_df['Min'] = df.min()\n",
    "    eda_df['Max'] = df.max()\n",
    "    eda_df['STD'] = df.std().round(3)\n",
    "    \n",
    "    return pd.DataFrame(eda_df)"
   ]
  },
  {
   "cell_type": "code",
   "execution_count": 5,
   "metadata": {},
   "outputs": [
    {
     "data": {
      "text/html": [
       "<div>\n",
       "<style scoped>\n",
       "    .dataframe tbody tr th:only-of-type {\n",
       "        vertical-align: middle;\n",
       "    }\n",
       "\n",
       "    .dataframe tbody tr th {\n",
       "        vertical-align: top;\n",
       "    }\n",
       "\n",
       "    .dataframe thead th {\n",
       "        text-align: right;\n",
       "    }\n",
       "</style>\n",
       "<table border=\"1\" class=\"dataframe\">\n",
       "  <thead>\n",
       "    <tr style=\"text-align: right;\">\n",
       "      <th></th>\n",
       "      <th>Qtde_NaN</th>\n",
       "      <th>%_NaN</th>\n",
       "      <th>DType</th>\n",
       "      <th>Qtde_Unicos</th>\n",
       "      <th>Media</th>\n",
       "      <th>Min</th>\n",
       "      <th>Max</th>\n",
       "      <th>STD</th>\n",
       "    </tr>\n",
       "  </thead>\n",
       "  <tbody>\n",
       "    <tr>\n",
       "      <th>Expectativa de vida no nascimento</th>\n",
       "      <td>84</td>\n",
       "      <td>0.02</td>\n",
       "      <td>float64</td>\n",
       "      <td>370</td>\n",
       "      <td>68.275</td>\n",
       "      <td>26.172</td>\n",
       "      <td>84.47000</td>\n",
       "      <td>9.565</td>\n",
       "    </tr>\n",
       "    <tr>\n",
       "      <th>Anos esperados de escolaridade</th>\n",
       "      <td>279</td>\n",
       "      <td>0.05</td>\n",
       "      <td>float64</td>\n",
       "      <td>1</td>\n",
       "      <td>11.798</td>\n",
       "      <td>2.100</td>\n",
       "      <td>23.30000</td>\n",
       "      <td>3.361</td>\n",
       "    </tr>\n",
       "    <tr>\n",
       "      <th>Média de anos de escolaridade</th>\n",
       "      <td>551</td>\n",
       "      <td>0.10</td>\n",
       "      <td>float64</td>\n",
       "      <td>4909</td>\n",
       "      <td>7.483</td>\n",
       "      <td>0.290</td>\n",
       "      <td>14.13215</td>\n",
       "      <td>3.176</td>\n",
       "    </tr>\n",
       "    <tr>\n",
       "      <th>Renda nacional bruta (RNB) per capita (PPP US$)</th>\n",
       "      <td>446</td>\n",
       "      <td>0.08</td>\n",
       "      <td>float64</td>\n",
       "      <td>77</td>\n",
       "      <td>13357.760</td>\n",
       "      <td>270.000</td>\n",
       "      <td>131510.00000</td>\n",
       "      <td>16401.756</td>\n",
       "    </tr>\n",
       "    <tr>\n",
       "      <th>IDH</th>\n",
       "      <td>1001</td>\n",
       "      <td>0.18</td>\n",
       "      <td>float64</td>\n",
       "      <td>429</td>\n",
       "      <td>0.657</td>\n",
       "      <td>0.200</td>\n",
       "      <td>0.95000</td>\n",
       "      <td>0.166</td>\n",
       "    </tr>\n",
       "    <tr>\n",
       "      <th>CPI (Corruption Index)</th>\n",
       "      <td>5423</td>\n",
       "      <td>1.00</td>\n",
       "      <td>float64</td>\n",
       "      <td>2499</td>\n",
       "      <td>NaN</td>\n",
       "      <td>NaN</td>\n",
       "      <td>NaN</td>\n",
       "      <td>NaN</td>\n",
       "    </tr>\n",
       "  </tbody>\n",
       "</table>\n",
       "</div>"
      ],
      "text/plain": [
       "                                                 Qtde_NaN  %_NaN    DType  \\\n",
       "Expectativa de vida no nascimento                      84   0.02  float64   \n",
       "Anos esperados de escolaridade                        279   0.05  float64   \n",
       "Média de anos de escolaridade                         551   0.10  float64   \n",
       "Renda nacional bruta (RNB) per capita (PPP US$)       446   0.08  float64   \n",
       "IDH                                                  1001   0.18  float64   \n",
       "CPI (Corruption Index)                               5423   1.00  float64   \n",
       "\n",
       "                                                 Qtde_Unicos      Media  \\\n",
       "Expectativa de vida no nascimento                        370     68.275   \n",
       "Anos esperados de escolaridade                             1     11.798   \n",
       "Média de anos de escolaridade                           4909      7.483   \n",
       "Renda nacional bruta (RNB) per capita (PPP US$)           77  13357.760   \n",
       "IDH                                                      429      0.657   \n",
       "CPI (Corruption Index)                                  2499        NaN   \n",
       "\n",
       "                                                     Min           Max  \\\n",
       "Expectativa de vida no nascimento                 26.172      84.47000   \n",
       "Anos esperados de escolaridade                     2.100      23.30000   \n",
       "Média de anos de escolaridade                      0.290      14.13215   \n",
       "Renda nacional bruta (RNB) per capita (PPP US$)  270.000  131510.00000   \n",
       "IDH                                                0.200       0.95000   \n",
       "CPI (Corruption Index)                               NaN           NaN   \n",
       "\n",
       "                                                       STD  \n",
       "Expectativa de vida no nascimento                    9.565  \n",
       "Anos esperados de escolaridade                       3.361  \n",
       "Média de anos de escolaridade                        3.176  \n",
       "Renda nacional bruta (RNB) per capita (PPP US$)  16401.756  \n",
       "IDH                                                  0.166  \n",
       "CPI (Corruption Index)                                 NaN  "
      ]
     },
     "execution_count": 5,
     "metadata": {},
     "output_type": "execute_result"
    }
   ],
   "source": [
    "EDA(df.drop(['Ano','Paises'], axis = 1))"
   ]
  },
  {
   "cell_type": "code",
   "execution_count": 6,
   "metadata": {
    "scrolled": true
   },
   "outputs": [
    {
     "data": {
      "text/html": [
       "<div>\n",
       "<style scoped>\n",
       "    .dataframe tbody tr th:only-of-type {\n",
       "        vertical-align: middle;\n",
       "    }\n",
       "\n",
       "    .dataframe tbody tr th {\n",
       "        vertical-align: top;\n",
       "    }\n",
       "\n",
       "    .dataframe thead th {\n",
       "        text-align: right;\n",
       "    }\n",
       "</style>\n",
       "<table border=\"1\" class=\"dataframe\">\n",
       "  <thead>\n",
       "    <tr style=\"text-align: right;\">\n",
       "      <th></th>\n",
       "      <th>Qtde_NaN</th>\n",
       "      <th>%_NaN</th>\n",
       "      <th>DType</th>\n",
       "      <th>Qtde_Unicos</th>\n",
       "      <th>Media</th>\n",
       "      <th>Min</th>\n",
       "      <th>Max</th>\n",
       "      <th>STD</th>\n",
       "    </tr>\n",
       "  </thead>\n",
       "  <tbody>\n",
       "    <tr>\n",
       "      <th>Expectativa de vida no nascimento</th>\n",
       "      <td>0</td>\n",
       "      <td>0.0</td>\n",
       "      <td>float64</td>\n",
       "      <td>370</td>\n",
       "      <td>68.275</td>\n",
       "      <td>26.172</td>\n",
       "      <td>84.47000</td>\n",
       "      <td>9.491</td>\n",
       "    </tr>\n",
       "    <tr>\n",
       "      <th>Anos esperados de escolaridade</th>\n",
       "      <td>0</td>\n",
       "      <td>0.0</td>\n",
       "      <td>float64</td>\n",
       "      <td>4909</td>\n",
       "      <td>11.798</td>\n",
       "      <td>2.100</td>\n",
       "      <td>23.30000</td>\n",
       "      <td>3.273</td>\n",
       "    </tr>\n",
       "    <tr>\n",
       "      <th>Média de anos de escolaridade</th>\n",
       "      <td>0</td>\n",
       "      <td>0.0</td>\n",
       "      <td>float64</td>\n",
       "      <td>429</td>\n",
       "      <td>7.483</td>\n",
       "      <td>0.290</td>\n",
       "      <td>14.13215</td>\n",
       "      <td>3.011</td>\n",
       "    </tr>\n",
       "    <tr>\n",
       "      <th>Renda nacional bruta (RNB) per capita (PPP US$)</th>\n",
       "      <td>0</td>\n",
       "      <td>0.0</td>\n",
       "      <td>float64</td>\n",
       "      <td>2498</td>\n",
       "      <td>12364.457</td>\n",
       "      <td>270.000</td>\n",
       "      <td>131510.00000</td>\n",
       "      <td>16059.301</td>\n",
       "    </tr>\n",
       "  </tbody>\n",
       "</table>\n",
       "</div>"
      ],
      "text/plain": [
       "                                                 Qtde_NaN  %_NaN    DType  \\\n",
       "Expectativa de vida no nascimento                       0    0.0  float64   \n",
       "Anos esperados de escolaridade                          0    0.0  float64   \n",
       "Média de anos de escolaridade                           0    0.0  float64   \n",
       "Renda nacional bruta (RNB) per capita (PPP US$)         0    0.0  float64   \n",
       "\n",
       "                                                 Qtde_Unicos      Media  \\\n",
       "Expectativa de vida no nascimento                        370     68.275   \n",
       "Anos esperados de escolaridade                          4909     11.798   \n",
       "Média de anos de escolaridade                            429      7.483   \n",
       "Renda nacional bruta (RNB) per capita (PPP US$)         2498  12364.457   \n",
       "\n",
       "                                                     Min           Max  \\\n",
       "Expectativa de vida no nascimento                 26.172      84.47000   \n",
       "Anos esperados de escolaridade                     2.100      23.30000   \n",
       "Média de anos de escolaridade                      0.290      14.13215   \n",
       "Renda nacional bruta (RNB) per capita (PPP US$)  270.000  131510.00000   \n",
       "\n",
       "                                                       STD  \n",
       "Expectativa de vida no nascimento                    9.491  \n",
       "Anos esperados de escolaridade                       3.273  \n",
       "Média de anos de escolaridade                        3.011  \n",
       "Renda nacional bruta (RNB) per capita (PPP US$)  16059.301  "
      ]
     },
     "execution_count": 6,
     "metadata": {},
     "output_type": "execute_result"
    }
   ],
   "source": [
    "df_1 = df.copy()\n",
    "df_1.drop(['IDH','CPI (Corruption Index)'], axis = 1, inplace = True)\n",
    "\n",
    "df_1['Expectativa de vida no nascimento'].fillna(df_1['Expectativa de vida no nascimento'].mean(), inplace = True)\n",
    "df_1['Anos esperados de escolaridade'].fillna(df_1['Anos esperados de escolaridade'].mean(), inplace = True)\n",
    "df_1['Média de anos de escolaridade'].fillna(df_1['Média de anos de escolaridade'].mean(), inplace = True)\n",
    "df_1['Renda nacional bruta (RNB) per capita (PPP US$)'].\\\n",
    "    fillna(df_1['Renda nacional bruta (RNB) per capita (PPP US$)'].mode()[0], inplace = True)\n",
    "\n",
    "EDA(df_1.drop(['Ano','Paises'], axis = 1))"
   ]
  },
  {
   "cell_type": "markdown",
   "metadata": {},
   "source": [
    "## Feature Engineering"
   ]
  },
  {
   "cell_type": "code",
   "execution_count": 7,
   "metadata": {},
   "outputs": [],
   "source": [
    "paises = df_1.Paises.unique()"
   ]
  },
  {
   "cell_type": "code",
   "execution_count": 8,
   "metadata": {},
   "outputs": [],
   "source": [
    "index_paises = []\n",
    "for i in range(len(paises)):\n",
    "    index_paises.append (df_1[df_1.Paises == paises[i]].index)"
   ]
  },
  {
   "cell_type": "code",
   "execution_count": 9,
   "metadata": {},
   "outputs": [],
   "source": [
    "df_2 = pd.DataFrame()\n",
    "for i in range(len(index_paises)):\n",
    "    df_2 = pd.concat([df_2, df_1.iloc[index_paises[i]]], axis = 0)"
   ]
  },
  {
   "cell_type": "code",
   "execution_count": 10,
   "metadata": {},
   "outputs": [],
   "source": [
    "df_2.reset_index(inplace=True)\n",
    "df_2.drop('index', axis=1, inplace=True)"
   ]
  },
  {
   "cell_type": "code",
   "execution_count": 11,
   "metadata": {},
   "outputs": [],
   "source": [
    "index_paises = []\n",
    "\n",
    "for i in range(len(paises)):\n",
    "    index_paises.append (df_2[df_2.Paises == paises[i]].index)"
   ]
  },
  {
   "cell_type": "code",
   "execution_count": 12,
   "metadata": {},
   "outputs": [],
   "source": [
    "def feature_engineering (df, roll, paises, index_paises, drop):\n",
    "    \n",
    "    data = df.copy()\n",
    "    \n",
    "    roll += 1\n",
    "\n",
    "    for i in range(len(paises)):\n",
    "        #\n",
    "        data.loc[index_paises[i],'Diff_1'] = data.iloc[index_paises[i]]['Expectativa de vida no nascimento']\\\n",
    "                                            .diff(roll - 1)\n",
    "        data.loc[index_paises[i],'Diff_2'] = data.iloc[index_paises[i]]['Anos esperados de escolaridade']\\\n",
    "                                            .diff(roll - 1)\n",
    "        data.loc[index_paises[i],'Diff_3'] = data.iloc[index_paises[i]]['Média de anos de escolaridade']\\\n",
    "                                            .diff(roll - 1)\n",
    "        data.loc[index_paises[i],'Diff_4'] = data.iloc[index_paises[i]]['Renda nacional bruta (RNB) per capita (PPP US$)']\\\n",
    "                                            .diff(roll - 1)\n",
    "        #\n",
    "        data.loc[index_paises[i], 'Med_1'] = data.iloc[index_paises[i]]['Expectativa de vida no nascimento']\\\n",
    "                                            .rolling(roll).mean().round(2)\n",
    "        data.loc[index_paises[i], 'Med_2'] = data.iloc[index_paises[i]]['Anos esperados de escolaridade']\\\n",
    "                                            .rolling(roll).mean().round(2)\n",
    "        data.loc[index_paises[i], 'Med_3'] = data.iloc[index_paises[i]]['Média de anos de escolaridade']\\\n",
    "                                            .rolling(roll).mean().round(2)\n",
    "        data.loc[index_paises[i], 'Med_4'] = data.iloc[index_paises[i]]['Renda nacional bruta (RNB) per capita (PPP US$)']\\\n",
    "                                            .rolling(roll).mean().round(2)\n",
    "        #\n",
    "        data.loc[index_paises[i], 'Var_%_1'] = data.iloc[index_paises[i]]['Expectativa de vida no nascimento']\\\n",
    "                                            .pct_change(roll - 1).round(horizonte)\n",
    "        data.loc[index_paises[i], 'Var_%_2'] = data.iloc[index_paises[i]]['Anos esperados de escolaridade']\\\n",
    "                                            .pct_change(roll - 1).round(horizonte)\n",
    "        data.loc[index_paises[i], 'Var_%_3'] = data.iloc[index_paises[i]]['Média de anos de escolaridade']\\\n",
    "                                            .pct_change(roll - 1).round(horizonte)\n",
    "        data.loc[index_paises[i], 'Var_%_4'] = data.iloc[index_paises[i]]['Renda nacional bruta (RNB) per capita (PPP US$)']\\\n",
    "                                            .pct_change(roll - 1).round(horizonte)\n",
    "    \n",
    "    if drop == True:\n",
    "        data.dropna(how='any', axis=0, inplace=True)\n",
    "    \n",
    "    return data"
   ]
  },
  {
   "cell_type": "markdown",
   "metadata": {},
   "source": [
    "### Janelas de Previsão"
   ]
  },
  {
   "cell_type": "code",
   "execution_count": 13,
   "metadata": {},
   "outputs": [],
   "source": [
    "roll = 1\n",
    "janela = 2005 #fará o walk de janela + horizonte, nesse caso pegará do menor ano até 2005 conjunto de treino.\n",
    "horizonte = 1 #quantos anos para frente tentará prever\n",
    "passo = 1 #no loop soma esse valor a janela.\n",
    "limite = df_2.Ano.unique().max() #quando o loop para."
   ]
  },
  {
   "cell_type": "markdown",
   "metadata": {},
   "source": [
    "### K-means and t-SNE"
   ]
  },
  {
   "cell_type": "code",
   "execution_count": 14,
   "metadata": {},
   "outputs": [],
   "source": [
    "df_grouped = feature_engineering (df_2, roll, paises, index_paises, False)"
   ]
  },
  {
   "cell_type": "code",
   "execution_count": 15,
   "metadata": {},
   "outputs": [],
   "source": [
    "lista_colunas = []\n",
    "for x in df_grouped.columns:\n",
    "    if df_grouped[x].dtype == float:\n",
    "        lista_colunas.append(x)"
   ]
  },
  {
   "cell_type": "code",
   "execution_count": 16,
   "metadata": {},
   "outputs": [],
   "source": [
    "df_grouped = pd.DataFrame(df_grouped.groupby(['Paises'])[lista_colunas].mean())"
   ]
  },
  {
   "cell_type": "code",
   "execution_count": 17,
   "metadata": {},
   "outputs": [],
   "source": [
    "scaler = StandardScaler()  \n",
    "df_grouped_norm = scaler.fit_transform(df_grouped)"
   ]
  },
  {
   "cell_type": "code",
   "execution_count": 112,
   "metadata": {},
   "outputs": [
    {
     "name": "stdout",
     "output_type": "stream",
     "text": [
      "1 2992.000000000001\n",
      "2 2016.0091092027822\n",
      "3 1644.3983164381866\n",
      "4 1418.7111508440269\n",
      "5 1268.996382528053\n",
      "6 1150.0454802040174\n",
      "7 1084.2583536728262\n",
      "8 934.7544149766709\n",
      "9 882.353656886795\n",
      "10 785.1840845066479\n",
      "11 876.027573935374\n",
      "12 716.8813402767178\n",
      "13 737.8234632619092\n",
      "14 678.4594276231326\n",
      "15 659.0075437690818\n",
      "16 611.2950917408994\n",
      "17 609.2757933142999\n",
      "18 610.1879776096656\n",
      "19 555.7789192764011\n",
      "20 544.7473343502841\n"
     ]
    },
    {
     "data": {
      "image/png": "[encoded data removed]",
      "text/plain": [
       "<Figure size 432x288 with 1 Axes>"
      ]
     },
     "metadata": {},
     "output_type": "display_data"
    },
    {
     "name": "stdout",
     "output_type": "stream",
     "text": [
      "           0\n",
      "0   0.673800\n",
      "1   0.815670\n",
      "2   0.862754\n",
      "3   0.894471\n",
      "4   0.906264\n",
      "5   0.942796\n",
      "6   0.862114\n",
      "7   0.943942\n",
      "8   0.889875\n",
      "9   1.115697\n",
      "10  0.818332\n",
      "11  1.029213\n",
      "12  0.919542\n",
      "13  0.971329\n",
      "14  0.927600\n",
      "15  0.996697\n",
      "16  1.001497\n",
      "17  0.910832\n",
      "18  0.980151\n"
     ]
    },
    {
     "data": {
      "image/png": "[encoded data removed]",
      "text/plain": [
       "<Figure size 432x288 with 1 Axes>"
      ]
     },
     "metadata": {},
     "output_type": "display_data"
    }
   ],
   "source": [
    "X = np.array(df_grouped_norm)\n",
    "wcss = []\n",
    "wss_percent =  []\n",
    "\n",
    "for i in range(1, 21):\n",
    "    kmeans = KMeans(n_clusters = i, init = 'random')\n",
    "    kmeans.fit(X)\n",
    "    print(i,kmeans.inertia_)\n",
    "    wcss.append(kmeans.inertia_)  \n",
    "    if i > 1:\n",
    "        wss_percent.append(kmeans.inertia_/wcss[i-2])\n",
    "    \n",
    "plt.plot(range(1, 21), wcss)\n",
    "plt.title('O Metodo Elbow')\n",
    "plt.xlabel('Numero de Clusters')\n",
    "plt.ylabel('WSS') #within cluster sum of squares\n",
    "plt.show()\n",
    "\n",
    "print(pd.DataFrame(wss_percent))\n",
    "\n",
    "plt.plot(range(0, 19), wss_percent)\n",
    "plt.title('O Metodo Elbow')\n",
    "plt.xlabel('Numero de Clusters')\n",
    "plt.ylabel('Wss_percent') #within cluster sum of squares\n",
    "plt.show()"
   ]
  },
  {
   "cell_type": "code",
   "execution_count": 19,
   "metadata": {},
   "outputs": [],
   "source": [
    "n_clusters = 3\n",
    "#Inicializando o KMeans\n",
    "kmeans = KMeans(n_clusters)\n",
    "#Fit nos dados\n",
    "kmeans = kmeans.fit(X)\n",
    "#predizendo os clusters\n",
    "labels = kmeans.predict(X)\n",
    "#Encontrando os centroides\n",
    "C = kmeans.cluster_centers_"
   ]
  },
  {
   "cell_type": "code",
   "execution_count": 20,
   "metadata": {},
   "outputs": [
    {
     "data": {
      "text/plain": [
       "array([[-1.25647902, -1.22262151, -1.19520959, -0.72641348,  0.84373827,\n",
       "         0.30429568, -0.7234381 , -0.66239154, -1.25498053, -1.22152841,\n",
       "        -1.19549894, -0.72346118,  0.11901179,  0.74332347,  0.22495467,\n",
       "        -0.21644524],\n",
       "       [ 1.05793415,  1.13537379,  1.0419552 ,  1.48904141, -0.3363255 ,\n",
       "         0.27173841,  0.42124341,  1.25809694,  1.05667989,  1.13731107,\n",
       "         1.04176612,  1.4846179 , -0.09395668, -0.17104537, -0.22477372,\n",
       "         0.48820256],\n",
       "       [ 0.27414569,  0.21731649,  0.2441601 , -0.25096664, -0.35866593,\n",
       "        -0.31276973,  0.2455208 , -0.18231707,  0.27381526,  0.21574441,\n",
       "         0.24442516, -0.25070653, -0.02888298, -0.37443206, -0.03257789,\n",
       "        -0.09555577]])"
      ]
     },
     "execution_count": 20,
     "metadata": {},
     "output_type": "execute_result"
    }
   ],
   "source": [
    "kmeans.cluster_centers_"
   ]
  },
  {
   "cell_type": "code",
   "execution_count": 21,
   "metadata": {},
   "outputs": [
    {
     "data": {
      "text/plain": [
       "array([0, 2, 2, 2, 0, 2, 2, 2, 1, 1, 2, 2, 1, 0, 2, 2, 1, 2, 0, 0, 2, 2,\n",
       "       2, 2, 1, 2, 0, 0, 2, 0, 0, 1, 0, 0, 2, 2, 2, 0, 0, 2, 0, 2, 2, 1,\n",
       "       1, 1, 0, 2, 2, 2, 2, 2, 0, 0, 1, 2, 0, 2, 1, 1, 2, 0, 2, 1, 0, 1,\n",
       "       2, 0, 0, 0, 2, 0, 2, 1, 1, 0, 2, 2, 2, 1, 1, 1, 2, 1, 2, 2, 0, 2,\n",
       "       2, 1, 2, 0, 2, 2, 0, 0, 2, 1, 1, 1, 2, 0, 0, 2, 2, 0, 1, 2, 0, 2,\n",
       "       2, 2, 2, 2, 2, 0, 0, 0, 2, 0, 1, 1, 2, 0, 0, 1, 1, 0, 2, 2, 2, 0,\n",
       "       2, 2, 2, 1, 1, 1, 2, 2, 0, 2, 2, 2, 2, 0, 1, 0, 2, 2, 0, 1, 1, 1,\n",
       "       0, 2, 0, 1, 2, 0, 2, 1, 1, 2, 2, 0, 2, 0, 0, 2, 2, 2, 2, 2, 0, 2,\n",
       "       1, 1, 1, 2, 2, 2, 2, 2, 0, 0, 0])"
      ]
     },
     "execution_count": 21,
     "metadata": {},
     "output_type": "execute_result"
    }
   ],
   "source": [
    "kmeans.labels_"
   ]
  },
  {
   "cell_type": "code",
   "execution_count": 118,
   "metadata": {},
   "outputs": [
    {
     "data": {
      "text/plain": [
       "(187, 2)"
      ]
     },
     "execution_count": 118,
     "metadata": {},
     "output_type": "execute_result"
    }
   ],
   "source": [
    "X_reduzido = TSNE(n_components=2).fit_transform(X)\n",
    "X_reduzido.shape"
   ]
  },
  {
   "cell_type": "code",
   "execution_count": 23,
   "metadata": {},
   "outputs": [],
   "source": [
    "n_clusters = 3\n",
    "#Inicializando o KMeans\n",
    "kmeans = KMeans(n_clusters)\n",
    "#Fit nos dados\n",
    "kmeans = kmeans.fit(X_reduzido)\n",
    "#predizendo os clusters\n",
    "labels = kmeans.predict(X_reduzido)\n",
    "#Encontrando os centroides\n",
    "C = kmeans.cluster_centers_"
   ]
  },
  {
   "cell_type": "code",
   "execution_count": 24,
   "metadata": {},
   "outputs": [
    {
     "data": {
      "text/plain": [
       "array([[-0.71568155, -0.30641443],\n",
       "       [ 6.065636  ,  7.937912  ],\n",
       "       [-9.647209  , -6.0964675 ]], dtype=float32)"
      ]
     },
     "execution_count": 24,
     "metadata": {},
     "output_type": "execute_result"
    }
   ],
   "source": [
    "kmeans.cluster_centers_"
   ]
  },
  {
   "cell_type": "code",
   "execution_count": 25,
   "metadata": {},
   "outputs": [
    {
     "data": {
      "image/png": "[encoded data removed]",
      "text/plain": [
       "<Figure size 1080x1080 with 1 Axes>"
      ]
     },
     "metadata": {
      "needs_background": "light"
     },
     "output_type": "display_data"
    }
   ],
   "source": [
    "plt.figure(figsize=(15,15))\n",
    "\n",
    "plt.scatter(X_reduzido[:, 0], X_reduzido[:, 1], s=plt.rcParams['lines.markersize']**2, c = kmeans.labels_)\n",
    "plt.scatter(kmeans.cluster_centers_[:, 0], kmeans.cluster_centers_[:, 1],  c = 'red',label = 'Centroids')\n",
    "plt.title('Cluster')\n",
    "plt.legend()\n",
    "\n",
    "plt.show()"
   ]
  },
  {
   "cell_type": "code",
   "execution_count": 26,
   "metadata": {},
   "outputs": [
    {
     "data": {
      "text/plain": [
       "<matplotlib.axes._subplots.AxesSubplot at 0x2938e4fa8c8>"
      ]
     },
     "execution_count": 26,
     "metadata": {},
     "output_type": "execute_result"
    },
    {
     "data": {
      "image/png": "[encoded data removed]",
      "text/plain": [
       "<Figure size 432x288 with 1 Axes>"
      ]
     },
     "metadata": {
      "needs_background": "light"
     },
     "output_type": "display_data"
    }
   ],
   "source": [
    "cluster_list = kmeans.labels_\n",
    "df_grouped[\"Classificação IDH\"] = cluster_list\n",
    "df_grouped.groupby(\"Classificação IDH\").aggregate(\"mean\").plot.bar()"
   ]
  },
  {
   "cell_type": "markdown",
   "metadata": {},
   "source": [
    "## Regression Tree"
   ]
  },
  {
   "cell_type": "code",
   "execution_count": 27,
   "metadata": {},
   "outputs": [],
   "source": [
    "def split_prev(df, ano_ref, ano_prev, pais):\n",
    "    \n",
    "    data = df.copy()\n",
    "    \n",
    "    treino =  data.loc[(data.Ano <= ano_ref) & (data.Paises == pais)].copy()\n",
    "    teste = data.loc[(data.Ano > ano_ref) & (data.Ano <= ano_prev) & (data.Paises == pais)].copy()\n",
    "    \n",
    "    #não iremos utilizar essa coluna para treinar nosso modelo\n",
    "    treino.drop(['Ano', 'Paises'], axis=1, inplace=True)\n",
    "    teste.drop(['Ano', 'Paises'], axis=1, inplace=True)\n",
    "\n",
    "    #vamos dividir as variáveis alvo e de entrada\n",
    "    y_treino = treino['Expectativa de vida no nascimento'].values\n",
    "    del treino['Expectativa de vida no nascimento']\n",
    "    \n",
    "    x_treino = treino.values\n",
    "\n",
    "    y_teste = teste['Expectativa de vida no nascimento'].values\n",
    "    del teste['Expectativa de vida no nascimento']\n",
    "\n",
    "    x_teste = teste.values;\n",
    "    \n",
    "    #treino do modelo para fazer a previsão\n",
    "    regr_1 = DecisionTreeRegressor(max_depth=5, min_samples_split = 2, random_state = 2019)\n",
    "    regr_1.fit(x_treino, y_treino)\n",
    "    \n",
    "    y_pred_teste = regr_1.predict(x_teste)\n",
    "    y_pred_treino = regr_1.predict(x_treino)\n",
    "    \n",
    "    # Avaliar o fitting\n",
    "    rmse_teste = np.round(mean_squared_error(y_teste, y_pred_teste) **0.5, 2)\n",
    "    rmse_treino = np.round(mean_squared_error(y_treino, y_pred_treino)**0.5, 2)\n",
    "    \n",
    "    return ano_ref, ano_prev, pais, rmse_teste, rmse_treino"
   ]
  },
  {
   "cell_type": "code",
   "execution_count": 28,
   "metadata": {},
   "outputs": [],
   "source": [
    "def walk_forward (data, janela, horizonte, passo, limite):\n",
    "    result = []\n",
    "    pais_ref = data.Paises.unique()\n",
    "    controle = limite - janela\n",
    "    \n",
    "    ano_ref = janela\n",
    "    \n",
    "    while controle >= 0:\n",
    "        ano_prev = ano_ref + horizonte\n",
    "        \n",
    "        if ano_prev > limite:\n",
    "            break\n",
    "            return result\n",
    "                \n",
    "        for i in paises:\n",
    "            result.append(split_prev(data, ano_ref, ano_prev, i))\n",
    "\n",
    "        ano_ref += passo\n",
    "        controle -= passo\n",
    "    return result"
   ]
  },
  {
   "cell_type": "code",
   "execution_count": 29,
   "metadata": {},
   "outputs": [],
   "source": [
    "def analise_estabilidade(data, janela, limite):\n",
    "    result = []\n",
    "    controle = limite - janela\n",
    "    \n",
    "    ano_ref = janela\n",
    "    ano_prev = janela\n",
    "    \n",
    "    while controle >= 0:\n",
    "        ano_prev += 1\n",
    "        \n",
    "        if ano_prev > limite:\n",
    "            break\n",
    "            return result\n",
    "        \n",
    "        for i in paises:\n",
    "            result.append(split_prev(data, ano_ref, ano_prev, i))\n",
    "\n",
    "        controle -= 1\n",
    "    \n",
    "    return result"
   ]
  },
  {
   "cell_type": "code",
   "execution_count": 30,
   "metadata": {},
   "outputs": [],
   "source": [
    "df_3 = feature_engineering (df_2, horizonte, paises, index_paises, True)"
   ]
  },
  {
   "cell_type": "code",
   "execution_count": 31,
   "metadata": {
    "scrolled": true
   },
   "outputs": [],
   "source": [
    "df_walk_forward = pd.DataFrame(data = walk_forward (df_3, janela, horizonte, passo, limite),\\\n",
    "                          columns=['Ano_Ref','Ano_Prev','Pais','Rmse_teste','Rmse_treino'])"
   ]
  },
  {
   "cell_type": "code",
   "execution_count": 61,
   "metadata": {},
   "outputs": [],
   "source": [
    "for i in range(len(df_walk_forward)):\n",
    "    df_walk_forward['Periodo'][i] = str(df_walk_forward.Ano_Ref[i]) + ' - ' + str(df_walk_forward.Ano_Prev[i]);"
   ]
  },
  {
   "cell_type": "code",
   "execution_count": 67,
   "metadata": {},
   "outputs": [],
   "source": [
    "df_walk_forward_agroup = df_walk_forward.groupby('Periodo').aggregate('mean')"
   ]
  },
  {
   "cell_type": "code",
   "execution_count": 77,
   "metadata": {},
   "outputs": [
    {
     "data": {
      "text/html": [
       "<div>\n",
       "<style scoped>\n",
       "    .dataframe tbody tr th:only-of-type {\n",
       "        vertical-align: middle;\n",
       "    }\n",
       "\n",
       "    .dataframe tbody tr th {\n",
       "        vertical-align: top;\n",
       "    }\n",
       "\n",
       "    .dataframe thead th {\n",
       "        text-align: right;\n",
       "    }\n",
       "</style>\n",
       "<table border=\"1\" class=\"dataframe\">\n",
       "  <thead>\n",
       "    <tr style=\"text-align: right;\">\n",
       "      <th></th>\n",
       "      <th>Ano_Ref</th>\n",
       "      <th>Ano_Prev</th>\n",
       "      <th>Rmse_teste</th>\n",
       "      <th>Rmse_treino</th>\n",
       "    </tr>\n",
       "    <tr>\n",
       "      <th>Periodo</th>\n",
       "      <th></th>\n",
       "      <th></th>\n",
       "      <th></th>\n",
       "      <th></th>\n",
       "    </tr>\n",
       "  </thead>\n",
       "  <tbody>\n",
       "    <tr>\n",
       "      <th>2005 - 2006</th>\n",
       "      <td>2005</td>\n",
       "      <td>2006</td>\n",
       "      <td>0.482834</td>\n",
       "      <td>0.001444</td>\n",
       "    </tr>\n",
       "    <tr>\n",
       "      <th>2006 - 2007</th>\n",
       "      <td>2006</td>\n",
       "      <td>2007</td>\n",
       "      <td>0.641604</td>\n",
       "      <td>0.001711</td>\n",
       "    </tr>\n",
       "    <tr>\n",
       "      <th>2007 - 2008</th>\n",
       "      <td>2007</td>\n",
       "      <td>2008</td>\n",
       "      <td>0.610214</td>\n",
       "      <td>0.002193</td>\n",
       "    </tr>\n",
       "    <tr>\n",
       "      <th>2008 - 2009</th>\n",
       "      <td>2008</td>\n",
       "      <td>2009</td>\n",
       "      <td>0.737433</td>\n",
       "      <td>0.002834</td>\n",
       "    </tr>\n",
       "    <tr>\n",
       "      <th>2009 - 2010</th>\n",
       "      <td>2009</td>\n",
       "      <td>2010</td>\n",
       "      <td>0.699465</td>\n",
       "      <td>0.004225</td>\n",
       "    </tr>\n",
       "    <tr>\n",
       "      <th>2010 - 2011</th>\n",
       "      <td>2010</td>\n",
       "      <td>2011</td>\n",
       "      <td>0.658610</td>\n",
       "      <td>0.004813</td>\n",
       "    </tr>\n",
       "    <tr>\n",
       "      <th>2011 - 2012</th>\n",
       "      <td>2011</td>\n",
       "      <td>2012</td>\n",
       "      <td>0.590107</td>\n",
       "      <td>0.005508</td>\n",
       "    </tr>\n",
       "    <tr>\n",
       "      <th>2012 - 2013</th>\n",
       "      <td>2012</td>\n",
       "      <td>2013</td>\n",
       "      <td>0.647861</td>\n",
       "      <td>0.005187</td>\n",
       "    </tr>\n",
       "    <tr>\n",
       "      <th>2013 - 2014</th>\n",
       "      <td>2013</td>\n",
       "      <td>2014</td>\n",
       "      <td>0.607005</td>\n",
       "      <td>0.007540</td>\n",
       "    </tr>\n",
       "    <tr>\n",
       "      <th>2014 - 2015</th>\n",
       "      <td>2014</td>\n",
       "      <td>2015</td>\n",
       "      <td>0.487273</td>\n",
       "      <td>0.009358</td>\n",
       "    </tr>\n",
       "    <tr>\n",
       "      <th>2015 - 2016</th>\n",
       "      <td>2015</td>\n",
       "      <td>2016</td>\n",
       "      <td>0.482834</td>\n",
       "      <td>0.011337</td>\n",
       "    </tr>\n",
       "    <tr>\n",
       "      <th>2016 - 2017</th>\n",
       "      <td>2016</td>\n",
       "      <td>2017</td>\n",
       "      <td>0.375829</td>\n",
       "      <td>0.013583</td>\n",
       "    </tr>\n",
       "    <tr>\n",
       "      <th>2017 - 2018</th>\n",
       "      <td>2017</td>\n",
       "      <td>2018</td>\n",
       "      <td>0.784385</td>\n",
       "      <td>0.016791</td>\n",
       "    </tr>\n",
       "  </tbody>\n",
       "</table>\n",
       "</div>"
      ],
      "text/plain": [
       "             Ano_Ref  Ano_Prev  Rmse_teste  Rmse_treino\n",
       "Periodo                                                \n",
       "2005 - 2006     2005      2006    0.482834     0.001444\n",
       "2006 - 2007     2006      2007    0.641604     0.001711\n",
       "2007 - 2008     2007      2008    0.610214     0.002193\n",
       "2008 - 2009     2008      2009    0.737433     0.002834\n",
       "2009 - 2010     2009      2010    0.699465     0.004225\n",
       "2010 - 2011     2010      2011    0.658610     0.004813\n",
       "2011 - 2012     2011      2012    0.590107     0.005508\n",
       "2012 - 2013     2012      2013    0.647861     0.005187\n",
       "2013 - 2014     2013      2014    0.607005     0.007540\n",
       "2014 - 2015     2014      2015    0.487273     0.009358\n",
       "2015 - 2016     2015      2016    0.482834     0.011337\n",
       "2016 - 2017     2016      2017    0.375829     0.013583\n",
       "2017 - 2018     2017      2018    0.784385     0.016791"
      ]
     },
     "execution_count": 77,
     "metadata": {},
     "output_type": "execute_result"
    }
   ],
   "source": [
    "df_walk_forward_agroup"
   ]
  },
  {
   "cell_type": "code",
   "execution_count": 97,
   "metadata": {},
   "outputs": [
    {
     "name": "stdout",
     "output_type": "stream",
     "text": [
      "Média do RSME:  0.6\n"
     ]
    },
    {
     "data": {
      "image/png": "[encoded data removed]",
      "text/plain": [
       "<Figure size 1440x360 with 1 Axes>"
      ]
     },
     "metadata": {},
     "output_type": "display_data"
    }
   ],
   "source": [
    "fig = plt.figure(figsize=(20,5))\n",
    "plt.bar(df_walk_forward_agroup.index, df_walk_forward_agroup.Rmse_teste)\n",
    "print ('Média do RSME: ', np.round(df_walk_forward_agroup.Rmse_teste.mean(),2))"
   ]
  },
  {
   "cell_type": "code",
   "execution_count": 82,
   "metadata": {},
   "outputs": [],
   "source": [
    "df_estabilidade = pd.DataFrame(data =  analise_estabilidade(df_3, janela, limite),\\\n",
    "                               columns=['Ano_Ref','Ano_Prev', 'Pais','Rmse_teste','Rmse_treino'])"
   ]
  },
  {
   "cell_type": "code",
   "execution_count": 100,
   "metadata": {},
   "outputs": [
    {
     "data": {
      "text/html": [
       "<div>\n",
       "<style scoped>\n",
       "    .dataframe tbody tr th:only-of-type {\n",
       "        vertical-align: middle;\n",
       "    }\n",
       "\n",
       "    .dataframe tbody tr th {\n",
       "        vertical-align: top;\n",
       "    }\n",
       "\n",
       "    .dataframe thead th {\n",
       "        text-align: right;\n",
       "    }\n",
       "</style>\n",
       "<table border=\"1\" class=\"dataframe\">\n",
       "  <thead>\n",
       "    <tr style=\"text-align: right;\">\n",
       "      <th></th>\n",
       "      <th>Ano_Ref</th>\n",
       "      <th>Ano_Prev</th>\n",
       "      <th>Pais</th>\n",
       "      <th>Rmse_teste</th>\n",
       "      <th>Rmse_treino</th>\n",
       "    </tr>\n",
       "  </thead>\n",
       "  <tbody>\n",
       "    <tr>\n",
       "      <th>0</th>\n",
       "      <td>2005</td>\n",
       "      <td>2006</td>\n",
       "      <td>Norway</td>\n",
       "      <td>0.50</td>\n",
       "      <td>0.0</td>\n",
       "    </tr>\n",
       "    <tr>\n",
       "      <th>1</th>\n",
       "      <td>2005</td>\n",
       "      <td>2006</td>\n",
       "      <td>Switzerland</td>\n",
       "      <td>0.25</td>\n",
       "      <td>0.0</td>\n",
       "    </tr>\n",
       "    <tr>\n",
       "      <th>2</th>\n",
       "      <td>2005</td>\n",
       "      <td>2006</td>\n",
       "      <td>Ireland</td>\n",
       "      <td>0.35</td>\n",
       "      <td>0.0</td>\n",
       "    </tr>\n",
       "    <tr>\n",
       "      <th>3</th>\n",
       "      <td>2005</td>\n",
       "      <td>2006</td>\n",
       "      <td>Germany</td>\n",
       "      <td>0.21</td>\n",
       "      <td>0.0</td>\n",
       "    </tr>\n",
       "    <tr>\n",
       "      <th>4</th>\n",
       "      <td>2005</td>\n",
       "      <td>2006</td>\n",
       "      <td>China</td>\n",
       "      <td>0.29</td>\n",
       "      <td>0.0</td>\n",
       "    </tr>\n",
       "  </tbody>\n",
       "</table>\n",
       "</div>"
      ],
      "text/plain": [
       "   Ano_Ref  Ano_Prev         Pais  Rmse_teste  Rmse_treino\n",
       "0     2005      2006       Norway        0.50          0.0\n",
       "1     2005      2006  Switzerland        0.25          0.0\n",
       "2     2005      2006      Ireland        0.35          0.0\n",
       "3     2005      2006      Germany        0.21          0.0\n",
       "4     2005      2006        China        0.29          0.0"
      ]
     },
     "execution_count": 100,
     "metadata": {},
     "output_type": "execute_result"
    }
   ],
   "source": [
    "df_estabilidade.head()"
   ]
  },
  {
   "cell_type": "code",
   "execution_count": 101,
   "metadata": {},
   "outputs": [
    {
     "ename": "KeyError",
     "evalue": "'Periodo'",
     "output_type": "error",
     "traceback": [
      "\u001b[1;31m---------------------------------------------------------------------------\u001b[0m",
      "\u001b[1;31mKeyError\u001b[0m                                  Traceback (most recent call last)",
      "\u001b[1;32m~\\AppData\\Local\\Continuum\\anaconda3\\lib\\site-packages\\pandas\\core\\indexes\\base.py\u001b[0m in \u001b[0;36mget_loc\u001b[1;34m(self, key, method, tolerance)\u001b[0m\n\u001b[0;32m   2645\u001b[0m             \u001b[1;32mtry\u001b[0m\u001b[1;33m:\u001b[0m\u001b[1;33m\u001b[0m\u001b[1;33m\u001b[0m\u001b[0m\n\u001b[1;32m-> 2646\u001b[1;33m                 \u001b[1;32mreturn\u001b[0m \u001b[0mself\u001b[0m\u001b[1;33m.\u001b[0m\u001b[0m_engine\u001b[0m\u001b[1;33m.\u001b[0m\u001b[0mget_loc\u001b[0m\u001b[1;33m(\u001b[0m\u001b[0mkey\u001b[0m\u001b[1;33m)\u001b[0m\u001b[1;33m\u001b[0m\u001b[1;33m\u001b[0m\u001b[0m\n\u001b[0m\u001b[0;32m   2647\u001b[0m             \u001b[1;32mexcept\u001b[0m \u001b[0mKeyError\u001b[0m\u001b[1;33m:\u001b[0m\u001b[1;33m\u001b[0m\u001b[1;33m\u001b[0m\u001b[0m\n",
      "\u001b[1;32mpandas\\_libs\\index.pyx\u001b[0m in \u001b[0;36mpandas._libs.index.IndexEngine.get_loc\u001b[1;34m()\u001b[0m\n",
      "\u001b[1;32mpandas\\_libs\\index.pyx\u001b[0m in \u001b[0;36mpandas._libs.index.IndexEngine.get_loc\u001b[1;34m()\u001b[0m\n",
      "\u001b[1;32mpandas\\_libs\\hashtable_class_helper.pxi\u001b[0m in \u001b[0;36mpandas._libs.hashtable.PyObjectHashTable.get_item\u001b[1;34m()\u001b[0m\n",
      "\u001b[1;32mpandas\\_libs\\hashtable_class_helper.pxi\u001b[0m in \u001b[0;36mpandas._libs.hashtable.PyObjectHashTable.get_item\u001b[1;34m()\u001b[0m\n",
      "\u001b[1;31mKeyError\u001b[0m: 'Periodo'",
      "\nDuring handling of the above exception, another exception occurred:\n",
      "\u001b[1;31mKeyError\u001b[0m                                  Traceback (most recent call last)",
      "\u001b[1;32m<ipython-input-101-da3ef20a7512>\u001b[0m in \u001b[0;36m<module>\u001b[1;34m\u001b[0m\n\u001b[0;32m      1\u001b[0m \u001b[1;32mfor\u001b[0m \u001b[0mi\u001b[0m \u001b[1;32min\u001b[0m \u001b[0mrange\u001b[0m\u001b[1;33m(\u001b[0m\u001b[0mlen\u001b[0m\u001b[1;33m(\u001b[0m\u001b[0mdf_estabilidade\u001b[0m\u001b[1;33m)\u001b[0m\u001b[1;33m)\u001b[0m\u001b[1;33m:\u001b[0m\u001b[1;33m\u001b[0m\u001b[1;33m\u001b[0m\u001b[0m\n\u001b[1;32m----> 2\u001b[1;33m     \u001b[0mdf_estabilidade\u001b[0m\u001b[1;33m[\u001b[0m\u001b[1;34m'Periodo'\u001b[0m\u001b[1;33m]\u001b[0m\u001b[1;33m[\u001b[0m\u001b[0mi\u001b[0m\u001b[1;33m]\u001b[0m \u001b[1;33m=\u001b[0m \u001b[0mstr\u001b[0m\u001b[1;33m(\u001b[0m\u001b[0mdf_estabilidade\u001b[0m\u001b[1;33m.\u001b[0m\u001b[0mAno_Ref\u001b[0m\u001b[1;33m[\u001b[0m\u001b[0mi\u001b[0m\u001b[1;33m]\u001b[0m\u001b[1;33m)\u001b[0m \u001b[1;33m+\u001b[0m \u001b[1;34m' - '\u001b[0m \u001b[1;33m+\u001b[0m \u001b[0mstr\u001b[0m\u001b[1;33m(\u001b[0m\u001b[0mdf_estabilidade\u001b[0m\u001b[1;33m.\u001b[0m\u001b[0mAno_Prev\u001b[0m\u001b[1;33m[\u001b[0m\u001b[0mi\u001b[0m\u001b[1;33m]\u001b[0m\u001b[1;33m)\u001b[0m\u001b[1;33m;\u001b[0m\u001b[1;33m\u001b[0m\u001b[1;33m\u001b[0m\u001b[0m\n\u001b[0m",
      "\u001b[1;32m~\\AppData\\Local\\Continuum\\anaconda3\\lib\\site-packages\\pandas\\core\\frame.py\u001b[0m in \u001b[0;36m__getitem__\u001b[1;34m(self, key)\u001b[0m\n\u001b[0;32m   2798\u001b[0m             \u001b[1;32mif\u001b[0m \u001b[0mself\u001b[0m\u001b[1;33m.\u001b[0m\u001b[0mcolumns\u001b[0m\u001b[1;33m.\u001b[0m\u001b[0mnlevels\u001b[0m \u001b[1;33m>\u001b[0m \u001b[1;36m1\u001b[0m\u001b[1;33m:\u001b[0m\u001b[1;33m\u001b[0m\u001b[1;33m\u001b[0m\u001b[0m\n\u001b[0;32m   2799\u001b[0m                 \u001b[1;32mreturn\u001b[0m \u001b[0mself\u001b[0m\u001b[1;33m.\u001b[0m\u001b[0m_getitem_multilevel\u001b[0m\u001b[1;33m(\u001b[0m\u001b[0mkey\u001b[0m\u001b[1;33m)\u001b[0m\u001b[1;33m\u001b[0m\u001b[1;33m\u001b[0m\u001b[0m\n\u001b[1;32m-> 2800\u001b[1;33m             \u001b[0mindexer\u001b[0m \u001b[1;33m=\u001b[0m \u001b[0mself\u001b[0m\u001b[1;33m.\u001b[0m\u001b[0mcolumns\u001b[0m\u001b[1;33m.\u001b[0m\u001b[0mget_loc\u001b[0m\u001b[1;33m(\u001b[0m\u001b[0mkey\u001b[0m\u001b[1;33m)\u001b[0m\u001b[1;33m\u001b[0m\u001b[1;33m\u001b[0m\u001b[0m\n\u001b[0m\u001b[0;32m   2801\u001b[0m             \u001b[1;32mif\u001b[0m \u001b[0mis_integer\u001b[0m\u001b[1;33m(\u001b[0m\u001b[0mindexer\u001b[0m\u001b[1;33m)\u001b[0m\u001b[1;33m:\u001b[0m\u001b[1;33m\u001b[0m\u001b[1;33m\u001b[0m\u001b[0m\n\u001b[0;32m   2802\u001b[0m                 \u001b[0mindexer\u001b[0m \u001b[1;33m=\u001b[0m \u001b[1;33m[\u001b[0m\u001b[0mindexer\u001b[0m\u001b[1;33m]\u001b[0m\u001b[1;33m\u001b[0m\u001b[1;33m\u001b[0m\u001b[0m\n",
      "\u001b[1;32m~\\AppData\\Local\\Continuum\\anaconda3\\lib\\site-packages\\pandas\\core\\indexes\\base.py\u001b[0m in \u001b[0;36mget_loc\u001b[1;34m(self, key, method, tolerance)\u001b[0m\n\u001b[0;32m   2646\u001b[0m                 \u001b[1;32mreturn\u001b[0m \u001b[0mself\u001b[0m\u001b[1;33m.\u001b[0m\u001b[0m_engine\u001b[0m\u001b[1;33m.\u001b[0m\u001b[0mget_loc\u001b[0m\u001b[1;33m(\u001b[0m\u001b[0mkey\u001b[0m\u001b[1;33m)\u001b[0m\u001b[1;33m\u001b[0m\u001b[1;33m\u001b[0m\u001b[0m\n\u001b[0;32m   2647\u001b[0m             \u001b[1;32mexcept\u001b[0m \u001b[0mKeyError\u001b[0m\u001b[1;33m:\u001b[0m\u001b[1;33m\u001b[0m\u001b[1;33m\u001b[0m\u001b[0m\n\u001b[1;32m-> 2648\u001b[1;33m                 \u001b[1;32mreturn\u001b[0m \u001b[0mself\u001b[0m\u001b[1;33m.\u001b[0m\u001b[0m_engine\u001b[0m\u001b[1;33m.\u001b[0m\u001b[0mget_loc\u001b[0m\u001b[1;33m(\u001b[0m\u001b[0mself\u001b[0m\u001b[1;33m.\u001b[0m\u001b[0m_maybe_cast_indexer\u001b[0m\u001b[1;33m(\u001b[0m\u001b[0mkey\u001b[0m\u001b[1;33m)\u001b[0m\u001b[1;33m)\u001b[0m\u001b[1;33m\u001b[0m\u001b[1;33m\u001b[0m\u001b[0m\n\u001b[0m\u001b[0;32m   2649\u001b[0m         \u001b[0mindexer\u001b[0m \u001b[1;33m=\u001b[0m \u001b[0mself\u001b[0m\u001b[1;33m.\u001b[0m\u001b[0mget_indexer\u001b[0m\u001b[1;33m(\u001b[0m\u001b[1;33m[\u001b[0m\u001b[0mkey\u001b[0m\u001b[1;33m]\u001b[0m\u001b[1;33m,\u001b[0m \u001b[0mmethod\u001b[0m\u001b[1;33m=\u001b[0m\u001b[0mmethod\u001b[0m\u001b[1;33m,\u001b[0m \u001b[0mtolerance\u001b[0m\u001b[1;33m=\u001b[0m\u001b[0mtolerance\u001b[0m\u001b[1;33m)\u001b[0m\u001b[1;33m\u001b[0m\u001b[1;33m\u001b[0m\u001b[0m\n\u001b[0;32m   2650\u001b[0m         \u001b[1;32mif\u001b[0m \u001b[0mindexer\u001b[0m\u001b[1;33m.\u001b[0m\u001b[0mndim\u001b[0m \u001b[1;33m>\u001b[0m \u001b[1;36m1\u001b[0m \u001b[1;32mor\u001b[0m \u001b[0mindexer\u001b[0m\u001b[1;33m.\u001b[0m\u001b[0msize\u001b[0m \u001b[1;33m>\u001b[0m \u001b[1;36m1\u001b[0m\u001b[1;33m:\u001b[0m\u001b[1;33m\u001b[0m\u001b[1;33m\u001b[0m\u001b[0m\n",
      "\u001b[1;32mpandas\\_libs\\index.pyx\u001b[0m in \u001b[0;36mpandas._libs.index.IndexEngine.get_loc\u001b[1;34m()\u001b[0m\n",
      "\u001b[1;32mpandas\\_libs\\index.pyx\u001b[0m in \u001b[0;36mpandas._libs.index.IndexEngine.get_loc\u001b[1;34m()\u001b[0m\n",
      "\u001b[1;32mpandas\\_libs\\hashtable_class_helper.pxi\u001b[0m in \u001b[0;36mpandas._libs.hashtable.PyObjectHashTable.get_item\u001b[1;34m()\u001b[0m\n",
      "\u001b[1;32mpandas\\_libs\\hashtable_class_helper.pxi\u001b[0m in \u001b[0;36mpandas._libs.hashtable.PyObjectHashTable.get_item\u001b[1;34m()\u001b[0m\n",
      "\u001b[1;31mKeyError\u001b[0m: 'Periodo'"
     ]
    }
   ],
   "source": [
    "for i in range(len(df_estabilidade)):\n",
    "    df_estabilidade['Periodo'][i] = str(df_estabilidade.Ano_Ref[i]) + ' - ' + str(df_estabilidade.Ano_Prev[i]);"
   ]
  },
  {
   "cell_type": "code",
   "execution_count": null,
   "metadata": {},
   "outputs": [],
   "source": [
    "df_estabilidade_agroup = df_estabilidade.groupby('Periodo').aggregate('mean')"
   ]
  }
 ],
 "metadata": {
  "kernelspec": {
   "display_name": "Python 3",
   "language": "python",
   "name": "python3"
  },
  "language_info": {
   "codemirror_mode": {
    "name": "ipython",
    "version": 3
   },
   "file_extension": ".py",
   "mimetype": "text/x-python",
   "name": "python",
   "nbconvert_exporter": "python",
   "pygments_lexer": "ipython3",
   "version": "3.7.6"
  }
 },
 "nbformat": 4,
 "nbformat_minor": 4
}
