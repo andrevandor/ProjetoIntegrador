{
 "cells": [
  {
   "cell_type": "code",
   "execution_count": 1,
   "metadata": {},
   "outputs": [],
   "source": [
    "import kaggle\n",
    "import pandas as pd\n",
    "import zipfile\n",
    "import numpy as np\n",
    "import matplotlib\n",
    "import matplotlib.pyplot as plt\n",
    "\n",
    "from pylab import rcParams\n",
    "from statsmodels.tsa.seasonal import seasonal_decompose\n",
    "\n",
    "#biblioteca para fazer fazer a regressão\n",
    "from sklearn.tree import DecisionTreeRegressor\n",
    "\n",
    "#biblioteca para calcular uma métrica de avaliação\n",
    "from sklearn.metrics import mean_squared_error"
   ]
  },
  {
   "cell_type": "code",
   "execution_count": 2,
   "metadata": {},
   "outputs": [],
   "source": [
    "#kaggle.api.authenticate() #Autenticação tem que ocorrer usando o .json de acesso com suas credenciais do Kaggle\n",
    "#criar link com os metadados das pesquisas e locais dos dados"
   ]
  },
  {
   "cell_type": "code",
   "execution_count": 3,
   "metadata": {},
   "outputs": [],
   "source": [
    "#!kaggle datasets download -d andrevandor/hdi-1990-2018-20200529"
   ]
  },
  {
   "cell_type": "code",
   "execution_count": 4,
   "metadata": {},
   "outputs": [],
   "source": [
    "#data_zip = zipfile.ZipFile('.\\hdi-1990-2018-20200529.zip')\n",
    "#data_zip.extractall('.\\data')\n",
    "#data_zip.close()"
   ]
  },
  {
   "cell_type": "code",
   "execution_count": 5,
   "metadata": {},
   "outputs": [],
   "source": [
    "df = pd.read_excel('.\\data\\HDI_1990_2018.xlsx')"
   ]
  },
  {
   "cell_type": "code",
   "execution_count": 6,
   "metadata": {},
   "outputs": [
    {
     "data": {
      "text/plain": [
       "(5481, 6)"
      ]
     },
     "execution_count": 6,
     "metadata": {},
     "output_type": "execute_result"
    }
   ],
   "source": [
    "df.shape"
   ]
  },
  {
   "cell_type": "code",
   "execution_count": 7,
   "metadata": {
    "scrolled": true
   },
   "outputs": [
    {
     "data": {
      "text/html": [
       "<div>\n",
       "<style scoped>\n",
       "    .dataframe tbody tr th:only-of-type {\n",
       "        vertical-align: middle;\n",
       "    }\n",
       "\n",
       "    .dataframe tbody tr th {\n",
       "        vertical-align: top;\n",
       "    }\n",
       "\n",
       "    .dataframe thead th {\n",
       "        text-align: right;\n",
       "    }\n",
       "</style>\n",
       "<table border=\"1\" class=\"dataframe\">\n",
       "  <thead>\n",
       "    <tr style=\"text-align: right;\">\n",
       "      <th></th>\n",
       "      <th>Paises</th>\n",
       "      <th>Ano</th>\n",
       "      <th>Expectativa de vida no nascimento</th>\n",
       "      <th>Anos esperados de escolaridade</th>\n",
       "      <th>Média de anos de escolaridade</th>\n",
       "      <th>Renda nacional bruta (RNB) per capita (PPP US$)</th>\n",
       "    </tr>\n",
       "  </thead>\n",
       "  <tbody>\n",
       "    <tr>\n",
       "      <th>0</th>\n",
       "      <td>Norway</td>\n",
       "      <td>1990</td>\n",
       "      <td>76.729</td>\n",
       "      <td>14.0</td>\n",
       "      <td>10.47</td>\n",
       "      <td>17910.0</td>\n",
       "    </tr>\n",
       "    <tr>\n",
       "      <th>1</th>\n",
       "      <td>Switzerland</td>\n",
       "      <td>1990</td>\n",
       "      <td>77.568</td>\n",
       "      <td>13.4</td>\n",
       "      <td>10.19</td>\n",
       "      <td>28170.0</td>\n",
       "    </tr>\n",
       "    <tr>\n",
       "      <th>2</th>\n",
       "      <td>Ireland</td>\n",
       "      <td>1990</td>\n",
       "      <td>74.809</td>\n",
       "      <td>12.1</td>\n",
       "      <td>9.73</td>\n",
       "      <td>12750.0</td>\n",
       "    </tr>\n",
       "    <tr>\n",
       "      <th>3</th>\n",
       "      <td>Germany</td>\n",
       "      <td>1990</td>\n",
       "      <td>75.488</td>\n",
       "      <td>14.4</td>\n",
       "      <td>8.77</td>\n",
       "      <td>19640.0</td>\n",
       "    </tr>\n",
       "    <tr>\n",
       "      <th>4</th>\n",
       "      <td>China</td>\n",
       "      <td>1990</td>\n",
       "      <td>69.145</td>\n",
       "      <td>8.8</td>\n",
       "      <td>5.34</td>\n",
       "      <td>17760.0</td>\n",
       "    </tr>\n",
       "  </tbody>\n",
       "</table>\n",
       "</div>"
      ],
      "text/plain": [
       "        Paises   Ano  Expectativa de vida no nascimento  \\\n",
       "0       Norway  1990                             76.729   \n",
       "1  Switzerland  1990                             77.568   \n",
       "2      Ireland  1990                             74.809   \n",
       "3      Germany  1990                             75.488   \n",
       "4        China  1990                             69.145   \n",
       "\n",
       "   Anos esperados de escolaridade  Média de anos de escolaridade  \\\n",
       "0                            14.0                          10.47   \n",
       "1                            13.4                          10.19   \n",
       "2                            12.1                           9.73   \n",
       "3                            14.4                           8.77   \n",
       "4                             8.8                           5.34   \n",
       "\n",
       "   Renda nacional bruta (RNB) per capita (PPP US$)  \n",
       "0                                          17910.0  \n",
       "1                                          28170.0  \n",
       "2                                          12750.0  \n",
       "3                                          19640.0  \n",
       "4                                          17760.0  "
      ]
     },
     "execution_count": 7,
     "metadata": {},
     "output_type": "execute_result"
    }
   ],
   "source": [
    "df.head()"
   ]
  },
  {
   "cell_type": "code",
   "execution_count": 8,
   "metadata": {},
   "outputs": [],
   "source": [
    "def EDA (df):\n",
    "    eda_df = {}\n",
    "    eda_df['Qtde_NaN'] = df.isnull().sum()\n",
    "    eda_df['%_NaN'] = df.isnull().mean().round(2)\n",
    "    eda_df['DType'] = df.dtypes\n",
    "    eda_df['Qtde_Unicos'] = df.count()\n",
    "    \n",
    "    colunas = sorted(df.columns.tolist(), key=str.lower, reverse=False)\n",
    "    eda_df['Qtde_Unicos'] = filtered_result = list(map(lambda x: len(df[x].unique().tolist()), colunas))\n",
    "    \n",
    "    eda_df['Media'] = df.mean().round(3)\n",
    "    eda_df['Min'] = df.min()\n",
    "    eda_df['Max'] = df.max()\n",
    "    eda_df['STD'] = df.std().round(3)\n",
    "    \n",
    "    return pd.DataFrame(eda_df)"
   ]
  },
  {
   "cell_type": "code",
   "execution_count": 9,
   "metadata": {},
   "outputs": [
    {
     "data": {
      "text/html": [
       "<div>\n",
       "<style scoped>\n",
       "    .dataframe tbody tr th:only-of-type {\n",
       "        vertical-align: middle;\n",
       "    }\n",
       "\n",
       "    .dataframe tbody tr th {\n",
       "        vertical-align: top;\n",
       "    }\n",
       "\n",
       "    .dataframe thead th {\n",
       "        text-align: right;\n",
       "    }\n",
       "</style>\n",
       "<table border=\"1\" class=\"dataframe\">\n",
       "  <thead>\n",
       "    <tr style=\"text-align: right;\">\n",
       "      <th></th>\n",
       "      <th>Qtde_NaN</th>\n",
       "      <th>%_NaN</th>\n",
       "      <th>DType</th>\n",
       "      <th>Qtde_Unicos</th>\n",
       "      <th>Media</th>\n",
       "      <th>Min</th>\n",
       "      <th>Max</th>\n",
       "      <th>STD</th>\n",
       "    </tr>\n",
       "  </thead>\n",
       "  <tbody>\n",
       "    <tr>\n",
       "      <th>Expectativa de vida no nascimento</th>\n",
       "      <td>84</td>\n",
       "      <td>0.02</td>\n",
       "      <td>float64</td>\n",
       "      <td>372</td>\n",
       "      <td>68.237</td>\n",
       "      <td>26.172</td>\n",
       "      <td>84.68700</td>\n",
       "      <td>9.566</td>\n",
       "    </tr>\n",
       "    <tr>\n",
       "      <th>Anos esperados de escolaridade</th>\n",
       "      <td>279</td>\n",
       "      <td>0.05</td>\n",
       "      <td>float64</td>\n",
       "      <td>4911</td>\n",
       "      <td>11.787</td>\n",
       "      <td>2.100</td>\n",
       "      <td>23.30000</td>\n",
       "      <td>3.348</td>\n",
       "    </tr>\n",
       "    <tr>\n",
       "      <th>Média de anos de escolaridade</th>\n",
       "      <td>551</td>\n",
       "      <td>0.10</td>\n",
       "      <td>float64</td>\n",
       "      <td>431</td>\n",
       "      <td>7.469</td>\n",
       "      <td>0.290</td>\n",
       "      <td>14.13215</td>\n",
       "      <td>3.163</td>\n",
       "    </tr>\n",
       "    <tr>\n",
       "      <th>Renda nacional bruta (RNB) per capita (PPP US$)</th>\n",
       "      <td>450</td>\n",
       "      <td>0.08</td>\n",
       "      <td>float64</td>\n",
       "      <td>2507</td>\n",
       "      <td>13297.971</td>\n",
       "      <td>270.000</td>\n",
       "      <td>131510.00000</td>\n",
       "      <td>16413.508</td>\n",
       "    </tr>\n",
       "  </tbody>\n",
       "</table>\n",
       "</div>"
      ],
      "text/plain": [
       "                                                 Qtde_NaN  %_NaN    DType  \\\n",
       "Expectativa de vida no nascimento                      84   0.02  float64   \n",
       "Anos esperados de escolaridade                        279   0.05  float64   \n",
       "Média de anos de escolaridade                         551   0.10  float64   \n",
       "Renda nacional bruta (RNB) per capita (PPP US$)       450   0.08  float64   \n",
       "\n",
       "                                                 Qtde_Unicos      Media  \\\n",
       "Expectativa de vida no nascimento                        372     68.237   \n",
       "Anos esperados de escolaridade                          4911     11.787   \n",
       "Média de anos de escolaridade                            431      7.469   \n",
       "Renda nacional bruta (RNB) per capita (PPP US$)         2507  13297.971   \n",
       "\n",
       "                                                     Min           Max  \\\n",
       "Expectativa de vida no nascimento                 26.172      84.68700   \n",
       "Anos esperados de escolaridade                     2.100      23.30000   \n",
       "Média de anos de escolaridade                      0.290      14.13215   \n",
       "Renda nacional bruta (RNB) per capita (PPP US$)  270.000  131510.00000   \n",
       "\n",
       "                                                       STD  \n",
       "Expectativa de vida no nascimento                    9.566  \n",
       "Anos esperados de escolaridade                       3.348  \n",
       "Média de anos de escolaridade                        3.163  \n",
       "Renda nacional bruta (RNB) per capita (PPP US$)  16413.508  "
      ]
     },
     "execution_count": 9,
     "metadata": {},
     "output_type": "execute_result"
    }
   ],
   "source": [
    "EDA(df.drop(['Ano','Paises'], axis = 1))"
   ]
  },
  {
   "cell_type": "code",
   "execution_count": 10,
   "metadata": {},
   "outputs": [
    {
     "data": {
      "text/html": [
       "<div>\n",
       "<style scoped>\n",
       "    .dataframe tbody tr th:only-of-type {\n",
       "        vertical-align: middle;\n",
       "    }\n",
       "\n",
       "    .dataframe tbody tr th {\n",
       "        vertical-align: top;\n",
       "    }\n",
       "\n",
       "    .dataframe thead th {\n",
       "        text-align: right;\n",
       "    }\n",
       "</style>\n",
       "<table border=\"1\" class=\"dataframe\">\n",
       "  <thead>\n",
       "    <tr style=\"text-align: right;\">\n",
       "      <th></th>\n",
       "      <th>Qtde_NaN</th>\n",
       "      <th>%_NaN</th>\n",
       "      <th>DType</th>\n",
       "      <th>Qtde_Unicos</th>\n",
       "      <th>Media</th>\n",
       "      <th>Min</th>\n",
       "      <th>Max</th>\n",
       "      <th>STD</th>\n",
       "    </tr>\n",
       "  </thead>\n",
       "  <tbody>\n",
       "    <tr>\n",
       "      <th>Expectativa de vida no nascimento</th>\n",
       "      <td>0</td>\n",
       "      <td>0.0</td>\n",
       "      <td>float64</td>\n",
       "      <td>372</td>\n",
       "      <td>68.237</td>\n",
       "      <td>26.172</td>\n",
       "      <td>84.68700</td>\n",
       "      <td>9.492</td>\n",
       "    </tr>\n",
       "    <tr>\n",
       "      <th>Anos esperados de escolaridade</th>\n",
       "      <td>0</td>\n",
       "      <td>0.0</td>\n",
       "      <td>float64</td>\n",
       "      <td>4911</td>\n",
       "      <td>11.787</td>\n",
       "      <td>2.100</td>\n",
       "      <td>23.30000</td>\n",
       "      <td>3.262</td>\n",
       "    </tr>\n",
       "    <tr>\n",
       "      <th>Média de anos de escolaridade</th>\n",
       "      <td>0</td>\n",
       "      <td>0.0</td>\n",
       "      <td>float64</td>\n",
       "      <td>431</td>\n",
       "      <td>7.469</td>\n",
       "      <td>0.290</td>\n",
       "      <td>14.13215</td>\n",
       "      <td>3.000</td>\n",
       "    </tr>\n",
       "    <tr>\n",
       "      <th>Renda nacional bruta (RNB) per capita (PPP US$)</th>\n",
       "      <td>0</td>\n",
       "      <td>0.0</td>\n",
       "      <td>float64</td>\n",
       "      <td>2506</td>\n",
       "      <td>12311.274</td>\n",
       "      <td>270.000</td>\n",
       "      <td>131510.00000</td>\n",
       "      <td>16067.583</td>\n",
       "    </tr>\n",
       "  </tbody>\n",
       "</table>\n",
       "</div>"
      ],
      "text/plain": [
       "                                                 Qtde_NaN  %_NaN    DType  \\\n",
       "Expectativa de vida no nascimento                       0    0.0  float64   \n",
       "Anos esperados de escolaridade                          0    0.0  float64   \n",
       "Média de anos de escolaridade                           0    0.0  float64   \n",
       "Renda nacional bruta (RNB) per capita (PPP US$)         0    0.0  float64   \n",
       "\n",
       "                                                 Qtde_Unicos      Media  \\\n",
       "Expectativa de vida no nascimento                        372     68.237   \n",
       "Anos esperados de escolaridade                          4911     11.787   \n",
       "Média de anos de escolaridade                            431      7.469   \n",
       "Renda nacional bruta (RNB) per capita (PPP US$)         2506  12311.274   \n",
       "\n",
       "                                                     Min           Max  \\\n",
       "Expectativa de vida no nascimento                 26.172      84.68700   \n",
       "Anos esperados de escolaridade                     2.100      23.30000   \n",
       "Média de anos de escolaridade                      0.290      14.13215   \n",
       "Renda nacional bruta (RNB) per capita (PPP US$)  270.000  131510.00000   \n",
       "\n",
       "                                                       STD  \n",
       "Expectativa de vida no nascimento                    9.492  \n",
       "Anos esperados de escolaridade                       3.262  \n",
       "Média de anos de escolaridade                        3.000  \n",
       "Renda nacional bruta (RNB) per capita (PPP US$)  16067.583  "
      ]
     },
     "execution_count": 10,
     "metadata": {},
     "output_type": "execute_result"
    }
   ],
   "source": [
    "df_1 = df.copy()\n",
    "df_1['Expectativa de vida no nascimento'].fillna(df_1['Expectativa de vida no nascimento'].mean(), inplace = True)\n",
    "df_1['Anos esperados de escolaridade'].fillna(df_1['Anos esperados de escolaridade'].mean(), inplace = True)\n",
    "df_1['Média de anos de escolaridade'].fillna(df_1['Média de anos de escolaridade'].mean(), inplace = True)\n",
    "df_1['Renda nacional bruta (RNB) per capita (PPP US$)'].\\\n",
    "    fillna(df_1['Renda nacional bruta (RNB) per capita (PPP US$)'].mode()[0], inplace = True)\n",
    "\n",
    "EDA(df_1.drop(['Ano','Paises'], axis = 1))"
   ]
  },
  {
   "cell_type": "code",
   "execution_count": 11,
   "metadata": {},
   "outputs": [],
   "source": [
    "paises = df_1.Paises.unique()"
   ]
  },
  {
   "cell_type": "code",
   "execution_count": 12,
   "metadata": {},
   "outputs": [],
   "source": [
    "index_paises = []\n",
    "for i in range(len(paises)):\n",
    "    index_paises.append (df_1[df_1.Paises == paises[i]].index)"
   ]
  },
  {
   "cell_type": "code",
   "execution_count": 13,
   "metadata": {},
   "outputs": [],
   "source": [
    "df_2 = pd.DataFrame()\n",
    "for i in range(len(index_paises)):\n",
    "    df_2 = pd.concat([df_2, df_1.iloc[index_paises[i]]], axis = 0)"
   ]
  },
  {
   "cell_type": "code",
   "execution_count": 14,
   "metadata": {},
   "outputs": [],
   "source": [
    "df_2.reset_index(inplace=True)\n",
    "df_2.drop('index', axis=1, inplace=True)"
   ]
  },
  {
   "cell_type": "code",
   "execution_count": 15,
   "metadata": {},
   "outputs": [],
   "source": [
    "index_paises = []\n",
    "for i in range(len(paises)):\n",
    "    index_paises.append (df_2[df_2.Paises == paises[i]].index)"
   ]
  },
  {
   "cell_type": "code",
   "execution_count": 16,
   "metadata": {},
   "outputs": [],
   "source": [
    "def split_prev(df, ano_ref, ano_prev, pais):\n",
    "\n",
    "    data = df.copy()  \n",
    "    \n",
    "    treino =  data.loc[(data.Ano <= ano_ref) & (data.Paises == pais)].copy()\n",
    "    teste = data.loc[(data.Ano > ano_ref) & (data.Ano <= ano_prev) & (data.Paises == pais)].copy()\n",
    "\n",
    "    #não iremos utilizar essa coluna para treinar nosso modelo\n",
    "    treino.drop(['Ano', 'Paises'], axis=1, inplace=True)\n",
    "    teste.drop(['Ano', 'Paises'], axis=1, inplace=True)\n",
    "\n",
    "    #vamos dividir as variáveis alvo e de entrada\n",
    "    y_treino = treino['Expectativa de vida no nascimento'].values\n",
    "    del treino['Expectativa de vida no nascimento']\n",
    "    \n",
    "    x_treino = treino.values\n",
    "\n",
    "    y_teste = teste['Expectativa de vida no nascimento'].values\n",
    "    del teste['Expectativa de vida no nascimento']\n",
    "\n",
    "    x_teste = teste.values;\n",
    "\n",
    "    #treino do modelo para fazer a previsão\n",
    "    regr_1 = DecisionTreeRegressor(max_depth=5, min_samples_split = 2)\n",
    "    regr_1.fit(x_treino, y_treino)\n",
    "\n",
    "    y_pred_teste = regr_1.predict(x_teste)\n",
    "    y_pred_treino = regr_1.predict(x_treino)\n",
    "\n",
    "    # Avaliar o fitting\n",
    "    rmse_teste = np.round(mean_squared_error(y_teste, y_pred_teste) **0.5, 2)\n",
    "    rmse_treino = np.round(mean_squared_error(y_treino, y_pred_treino)**0.5, 2)\n",
    "    \n",
    "    return ano_ref, ano_prev, pais, rmse_teste, rmse_treino"
   ]
  },
  {
   "cell_type": "code",
   "execution_count": 17,
   "metadata": {},
   "outputs": [],
   "source": [
    "def feature_engineering (df, horizonte, paises, index_paises):\n",
    "    \n",
    "    data = df.copy()\n",
    "    \n",
    "    horizonte += 1\n",
    "\n",
    "    for i in range(len(paises)):\n",
    "        #\n",
    "        data.loc[index_paises[i],'Diff_1'] = data.iloc[index_paises[i]]['Expectativa de vida no nascimento']\\\n",
    "                                            .diff(horizonte - 1)\n",
    "        data.loc[index_paises[i],'Diff_2'] = data.iloc[index_paises[i]]['Anos esperados de escolaridade']\\\n",
    "                                            .diff(horizonte - 1)\n",
    "        data.loc[index_paises[i],'Diff_3'] = data.iloc[index_paises[i]]['Média de anos de escolaridade']\\\n",
    "                                            .diff(horizonte - 1)\n",
    "        data.loc[index_paises[i],'Diff_4'] = data.iloc[index_paises[i]]['Renda nacional bruta (RNB) per capita (PPP US$)']\\\n",
    "                                            .diff(horizonte - 1)\n",
    "        #\n",
    "        data.loc[index_paises[i], 'Med_1'] = data.iloc[index_paises[i]]['Expectativa de vida no nascimento']\\\n",
    "                                            .rolling(horizonte).mean().round(2)\n",
    "        data.loc[index_paises[i], 'Med_2'] = data.iloc[index_paises[i]]['Anos esperados de escolaridade']\\\n",
    "                                            .rolling(horizonte).mean().round(2)\n",
    "        data.loc[index_paises[i], 'Med_3'] = data.iloc[index_paises[i]]['Média de anos de escolaridade']\\\n",
    "                                            .rolling(horizonte).mean().round(2)\n",
    "        data.loc[index_paises[i], 'Med_4'] = data.iloc[index_paises[i]]['Renda nacional bruta (RNB) per capita (PPP US$)']\\\n",
    "                                            .rolling(horizonte).mean().round(2)\n",
    "        #\n",
    "        data.loc[index_paises[i], 'Var_%_1'] = data.iloc[index_paises[i]]['Expectativa de vida no nascimento']\\\n",
    "                                            .pct_change(horizonte - 1).round(horizonte)\n",
    "        data.loc[index_paises[i], 'Var_%_2'] = data.iloc[index_paises[i]]['Anos esperados de escolaridade']\\\n",
    "                                            .pct_change(horizonte - 1).round(horizonte)\n",
    "        data.loc[index_paises[i], 'Var_%_3'] = data.iloc[index_paises[i]]['Média de anos de escolaridade']\\\n",
    "                                            .pct_change(horizonte - 1).round(horizonte)\n",
    "        data.loc[index_paises[i], 'Var_%_4'] = data.iloc[index_paises[i]]['Renda nacional bruta (RNB) per capita (PPP US$)']\\\n",
    "                                            .pct_change(horizonte - 1).round(horizonte)\n",
    "    \n",
    "    data.dropna(how='any', axis=0, inplace=True)\n",
    "    \n",
    "    return data"
   ]
  },
  {
   "cell_type": "code",
   "execution_count": 18,
   "metadata": {},
   "outputs": [],
   "source": [
    "def walk_forward (data, janela, horizonte, passo, limite):\n",
    "    result = []\n",
    "    pais_ref = data.Paises.unique()\n",
    "    controle = limite - janela\n",
    "\n",
    "    while controle >= 0:\n",
    "        ano_ref = anos[:len(anos) - controle].max()\n",
    "        ano_prev = ano_ref + horizonte\n",
    "                \n",
    "        for i in paises:\n",
    "             result.append(split_prev(data, ano_ref, ano_prev, i))\n",
    "\n",
    "        controle -= passo\n",
    "    return result"
   ]
  },
  {
   "cell_type": "code",
   "execution_count": 19,
   "metadata": {},
   "outputs": [],
   "source": [
    "def analise_estabilidade():\n",
    "    return None"
   ]
  },
  {
   "cell_type": "code",
   "execution_count": 20,
   "metadata": {},
   "outputs": [],
   "source": [
    "anos = df_2.Ano.head(df_2.Ano.max() - df_2.Ano.min()).values #nosso ultimo slice da base df principal\n",
    "janela = 2016 #fará o walk de janela + horizonte, nesse caso pegará do menor ano até 2005 conjunto de treino.\n",
    "horizonte = 1 #quantos anos para frente tentará prever\n",
    "passo = 1 #no loop soma esse valor a janela.\n",
    "limite = anos.max() #quando o loop para."
   ]
  },
  {
   "cell_type": "code",
   "execution_count": 21,
   "metadata": {},
   "outputs": [],
   "source": [
    "df_3 = feature_engineering (df_2, horizonte, paises, index_paises)"
   ]
  },
  {
   "cell_type": "code",
   "execution_count": 30,
   "metadata": {
    "scrolled": true
   },
   "outputs": [],
   "source": [
    "df_walk_forward = pd.DataFrame(data = walk_forward (df_3, janela, horizonte, passo, limite),\\\n",
    "                          columns=['Ano_Ref','Ano_Prev', 'Pais','Rmse_teste','Rmse_treino'])"
   ]
  },
  {
   "cell_type": "code",
   "execution_count": 31,
   "metadata": {
    "scrolled": true
   },
   "outputs": [
    {
     "data": {
      "text/html": [
       "<div>\n",
       "<style scoped>\n",
       "    .dataframe tbody tr th:only-of-type {\n",
       "        vertical-align: middle;\n",
       "    }\n",
       "\n",
       "    .dataframe tbody tr th {\n",
       "        vertical-align: top;\n",
       "    }\n",
       "\n",
       "    .dataframe thead th {\n",
       "        text-align: right;\n",
       "    }\n",
       "</style>\n",
       "<table border=\"1\" class=\"dataframe\">\n",
       "  <thead>\n",
       "    <tr style=\"text-align: right;\">\n",
       "      <th></th>\n",
       "      <th>Ano_Ref</th>\n",
       "      <th>Ano_Prev</th>\n",
       "      <th>Pais</th>\n",
       "      <th>Rmse_teste</th>\n",
       "      <th>Rmse_treino</th>\n",
       "    </tr>\n",
       "  </thead>\n",
       "  <tbody>\n",
       "    <tr>\n",
       "      <th>0</th>\n",
       "      <td>2016</td>\n",
       "      <td>2017</td>\n",
       "      <td>Norway</td>\n",
       "      <td>0.35</td>\n",
       "      <td>0.02</td>\n",
       "    </tr>\n",
       "    <tr>\n",
       "      <th>1</th>\n",
       "      <td>2016</td>\n",
       "      <td>2017</td>\n",
       "      <td>Switzerland</td>\n",
       "      <td>0.16</td>\n",
       "      <td>0.00</td>\n",
       "    </tr>\n",
       "    <tr>\n",
       "      <th>2</th>\n",
       "      <td>2016</td>\n",
       "      <td>2017</td>\n",
       "      <td>Ireland</td>\n",
       "      <td>0.26</td>\n",
       "      <td>0.00</td>\n",
       "    </tr>\n",
       "    <tr>\n",
       "      <th>3</th>\n",
       "      <td>2016</td>\n",
       "      <td>2017</td>\n",
       "      <td>Germany</td>\n",
       "      <td>0.14</td>\n",
       "      <td>0.02</td>\n",
       "    </tr>\n",
       "    <tr>\n",
       "      <th>4</th>\n",
       "      <td>2016</td>\n",
       "      <td>2017</td>\n",
       "      <td>China</td>\n",
       "      <td>0.26</td>\n",
       "      <td>0.01</td>\n",
       "    </tr>\n",
       "  </tbody>\n",
       "</table>\n",
       "</div>"
      ],
      "text/plain": [
       "   Ano_Ref  Ano_Prev         Pais  Rmse_teste  Rmse_treino\n",
       "0     2016      2017       Norway        0.35         0.02\n",
       "1     2016      2017  Switzerland        0.16         0.00\n",
       "2     2016      2017      Ireland        0.26         0.00\n",
       "3     2016      2017      Germany        0.14         0.02\n",
       "4     2016      2017        China        0.26         0.01"
      ]
     },
     "execution_count": 31,
     "metadata": {},
     "output_type": "execute_result"
    }
   ],
   "source": [
    "df_walk_forward.head()"
   ]
  },
  {
   "cell_type": "code",
   "execution_count": 32,
   "metadata": {},
   "outputs": [
    {
     "name": "stdout",
     "output_type": "stream",
     "text": [
      "None\n"
     ]
    }
   ],
   "source": [
    "print(analise_estabilidade())"
   ]
  },
  {
   "cell_type": "code",
   "execution_count": null,
   "metadata": {},
   "outputs": [],
   "source": []
  }
 ],
 "metadata": {
  "kernelspec": {
   "display_name": "Python 3",
   "language": "python",
   "name": "python3"
  },
  "language_info": {
   "codemirror_mode": {
    "name": "ipython",
    "version": 3
   },
   "file_extension": ".py",
   "mimetype": "text/x-python",
   "name": "python",
   "nbconvert_exporter": "python",
   "pygments_lexer": "ipython3",
   "version": "3.7.6"
  }
 },
 "nbformat": 4,
 "nbformat_minor": 4
}
